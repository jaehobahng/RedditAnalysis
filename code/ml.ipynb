{
  "cells": [
    {
      "cell_type": "code",
      "source": [
        "spark"
      ],
      "outputs": [
        {
          "output_type": "display_data",
          "data": {
            "application/vnd.livy.statement-meta+json": {
              "spark_pool": "495bfb33-51fd-4c2c-8843-d4711866bbef",
              "statement_id": 6,
              "statement_ids": [
                6
              ],
              "state": "finished",
              "livy_statement_state": "available",
              "spark_jobs": {
                "numbers": {
                  "FAILED": 0,
                  "RUNNING": 0,
                  "SUCCEEDED": 0,
                  "UNKNOWN": 0
                },
                "jobs": [],
                "limit": 20,
                "rule": "ALL_DESC"
              },
              "session_id": "4",
              "normalized_state": "finished",
              "queued_time": "2024-12-08T21:21:22.166747Z",
              "session_start_time": "2024-12-08T21:21:22.2287061Z",
              "execution_start_time": "2024-12-08T21:22:53.3297974Z",
              "execution_finish_time": "2024-12-08T21:22:53.7313562Z",
              "parent_msg_id": "057ed836-d49c-49bf-8a34-346aee33f2c6"
            },
            "text/plain": "StatementMeta(495bfb33-51fd-4c2c-8843-d4711866bbef, 4, 6, Finished, Available, Finished)"
          },
          "metadata": {}
        },
        {
          "output_type": "execute_result",
          "execution_count": 11,
          "data": {
            "text/plain": "<pyspark.sql.session.SparkSession at 0x7fe8f4190550>",
            "text/html": "\n            <div>\n                <p><b>SparkSession - hive</b></p>\n                \n        <div>\n            <p><b>SparkContext</b></p>\n\n            <p><a href=\"http://vm-ad170002:45825\">Spark UI</a></p>\n\n            <dl>\n              <dt>Version</dt>\n                <dd><code>v3.3.1.5.2.20240522.3</code></dd>\n              <dt>Master</dt>\n                <dd><code>yarn</code></dd>\n              <dt>AppName</dt>\n                <dd><code>Azure ML Experiment</code></dd>\n            </dl>\n        </div>\n        \n            </div>\n        "
          },
          "metadata": {}
        }
      ],
      "execution_count": 1,
      "metadata": {
        "gather": {
          "logged": 1733692974475
        }
      }
    },
    {
      "cell_type": "markdown",
      "source": [
        "# AIO Machine Learning"
      ],
      "metadata": {}
    },
    {
      "cell_type": "code",
      "source": [
        "from pyspark.sql.functions import col\n",
        "from pyspark.ml.feature import VectorAssembler, StringIndexer\n",
        "from pyspark.ml.classification import RandomForestClassifier\n",
        "from pyspark.ml import Pipeline\n",
        "from pyspark.sql.functions import when\n",
        "from pyspark.ml.evaluation import MulticlassClassificationEvaluator\n",
        "\n",
        "# File paths\n",
        "file_path1 = \"azureml://subscriptions/21ff0fc0-dd2c-450d-93b7-96eeb3699b22/resourcegroups/project-group-27/workspaces/project-group-27/datastores/workspaceblobstore/paths/UI/2024-12-08_211801_UTC/aio_labeled.csv\"\n",
        "file_path2 = \"azureml://subscriptions/21ff0fc0-dd2c-450d-93b7-96eeb3699b22/resourcegroups/project-group-27/workspaces/project-group-27/datastores/workspaceblobstore/paths/UI/2024-12-07_201851_UTC/aio.csv\"\n",
        "\n",
        "# Read CSV files\n",
        "df1 = spark.read.csv(file_path1, header=True, inferSchema=True, multiLine=True)\n",
        "df2 = spark.read.csv(file_path2, header=True, inferSchema=True)\n",
        "\n",
        "# Combine the two datasets\n",
        "# df = df1.union(df2)\n",
        "df = df1.join(df2, on=\"post_id\", how=\"inner\")\n",
        "\n",
        "# StringIndexer to encode `overall_sentiment`\n",
        "sentiment_indexer = StringIndexer(inputCol=\"overall_sentiment\", outputCol=\"sentiment_index\")\n",
        "\n",
        "df = sentiment_indexer.fit(df).transform(df)\n",
        "\n",
        "# Dropping the `post_id` column\n",
        "df = df.drop(\"post_id\", \"overall_sentiment\")\n",
        "\n",
        "df = df.withColumn(\"final_label\", \n",
        "                   when(df.final_label == \"overreacting\", 1)\n",
        "                   .when(df.final_label == \"not_overreacting\", 0)\n",
        "                   .otherwise(None))\n",
        "df = df.withColumn(\"over_18\", \n",
        "                   when(df.over_18 == \"TRUE\", 1)\n",
        "                   .when(df.over_18 == \"FALSE\", 0)\n",
        "                   .otherwise(None))\n",
        "\n",
        "df = df.withColumn(\"score_post\", col(\"score_post\").cast(\"int\"))\n",
        "df = df.withColumn(\"num_comments\", col(\"num_comments\").cast(\"int\"))\n",
        "\n",
        "df = df.dropna(subset=[\"score_post\", \"num_comments\", \"sentiment_score\", \"nmf_topic\", \"over_18\"])\n",
        "\n",
        "# Data preview\n",
        "df.show()\n",
        "\n",
        "# Number of rows\n",
        "num_rows = df.count()\n",
        "\n",
        "# Number of columns\n",
        "num_cols = len(df.columns)\n",
        "\n",
        "# Print the shape\n",
        "print(f\"Shape: ({num_rows}, {num_cols})\")\n",
        "\n",
        "\n",
        "# Feature vector creation\n",
        "feature_cols = [col for col in df.columns if col not in [\"final_label\", \"sentiment_index\", \"subreddit_post\", \"post_title\", \"selftext\", \"created_date_post\"]]\n",
        "assembler = VectorAssembler(inputCols=feature_cols, outputCol=\"features\")\n",
        "\n",
        "# RandomForest Classifier\n",
        "rf = RandomForestClassifier(featuresCol=\"features\", labelCol=\"final_label\", numTrees=100)\n",
        "\n",
        "# Pipeline setup\n",
        "pipeline = Pipeline(stages=[assembler, rf])\n",
        "\n",
        "# Train-test split\n",
        "train_data, test_data = df.randomSplit([0.8, 0.2], seed=42)\n",
        "\n",
        "# Train the model\n",
        "model = pipeline.fit(train_data)\n",
        "\n",
        "# Make predictions\n",
        "predictions = model.transform(test_data)\n",
        "\n",
        "# Evaluate the model\n",
        "evaluator = MulticlassClassificationEvaluator(labelCol=\"final_label\", predictionCol=\"prediction\", metricName=\"accuracy\")\n",
        "accuracy = evaluator.evaluate(predictions)\n",
        "print(f\"Test Accuracy: {accuracy}\")\n",
        "\n",
        "# Extract feature importances from the RandomForest model\n",
        "rf_model = model.stages[-1]  # Last stage of the pipeline is the RandomForestClassifier\n",
        "importances = rf_model.featureImportances\n",
        "\n",
        "# Map feature importances to their corresponding column names\n",
        "importance_dict = {feature: importance for feature, importance in zip(feature_cols, importances)}\n",
        "sorted_importances = sorted(importance_dict.items(), key=lambda x: x[1], reverse=True)\n",
        "\n",
        "# Display feature importances\n",
        "print(\"\\nFeature Importances:\")\n",
        "for feature, importance in sorted_importances:\n",
        "    print(f\"{feature}: {importance}\")"
      ],
      "outputs": [
        {
          "output_type": "display_data",
          "data": {
            "application/vnd.livy.statement-meta+json": {
              "spark_pool": "b1a6d09a-cd79-40bd-b154-9f59912128df",
              "statement_id": 24,
              "statement_ids": [
                24
              ],
              "state": "finished",
              "livy_statement_state": "available",
              "spark_jobs": {
                "numbers": {
                  "RUNNING": 0,
                  "UNKNOWN": 0,
                  "FAILED": 0,
                  "SUCCEEDED": 0
                },
                "jobs": [],
                "limit": 20,
                "rule": "ALL_DESC"
              },
              "session_id": "1",
              "normalized_state": "finished",
              "queued_time": "2024-12-09T16:50:54.6083914Z",
              "session_start_time": null,
              "execution_start_time": "2024-12-09T16:50:54.7247936Z",
              "execution_finish_time": "2024-12-09T16:51:04.986259Z",
              "parent_msg_id": "cab918a6-9ed7-4ff1-ae7d-2cdc1ab345b1"
            },
            "text/plain": "StatementMeta(b1a6d09a-cd79-40bd-b154-9f59912128df, 1, 24, Finished, Available, Finished)"
          },
          "metadata": {}
        },
        {
          "output_type": "stream",
          "name": "stdout",
          "text": "+-----------+---------------+--------------------+--------------------+----------+------------+-------+-----------------+---------------+---------+---------------+\n|final_label| subreddit_post|          post_title|            selftext|score_post|num_comments|over_18|created_date_post|sentiment_score|nmf_topic|sentiment_index|\n+-----------+---------------+--------------------+--------------------+----------+------------+-------+-----------------+---------------+---------+---------------+\n|          1|AmIOverreacting|Boss said I dress...|I work as a socia...|         2|          33|      0|      2/2/24 1:42|     0.04347826|        1|            1.0|\n|          0|AmIOverreacting|My dad walks away...|I need to know if...|       267|         172|      0|    2/20/24 22:55|    -0.22222222|        1|            0.0|\n|          0|AmIOverreacting|  Am I overreacting?|I am 16, I live w...|        17|          26|      0|    2/25/24 18:08|            0.0|        5|            2.0|\n|          0|AmIOverreacting|Broke up w my bf ...|My bf (26/M) and ...|       135|         204|      0|     2/26/24 0:03|     -0.6666667|        4|            0.0|\n|          0|AmIOverreacting|Guest staying for...|Background info: ...|        15|          27|      0|    2/26/24 15:12|           -0.4|        2|            0.0|\n|          0|AmIOverreacting|  Am I overreacting?|Me(21F) and my fr...|       520|         205|      0|    2/26/24 17:13|           -0.5|        3|            0.0|\n|          0|AmIOverreacting|Please help! Am I...|Hello all,\\n\\nFor...|       286|         347|      0|     3/1/24 21:13|    -0.14285715|        1|            0.0|\n|          1|AmIOverreacting|Am I overreacting...|So I work at a la...|        35|          29|      0|     3/2/24 18:06|            0.0|        1|            2.0|\n|          1|AmIOverreacting|Neighbor gave me ...|My BIL passed awa...|         1|          28|      0|     3/2/24 22:04|    -0.27272728|        5|            0.0|\n|          0|AmIOverreacting|Was I overreactin...|I 29f have known ...|        87|         148|      0|     3/3/24 19:12|     -0.2244898|        2|            0.0|\n|          1|AmIOverreacting|I just found out ...|My significant ot...|         1|          97|      0|     3/5/24 17:38|           -0.2|        3|            0.0|\n|          1|AmIOverreacting|My ex moved out a...|My ex (33M) and I...|         3|          25|      0|      3/9/24 6:18|           -0.5|        4|            0.0|\n|          0|AmIOverreacting|My Overweight Roo...|My SO met a guy a...|       333|         480|      0|    3/10/24 18:30|         -0.375|        2|            0.0|\n|          1|AmIOverreacting|My bf kept his ex...|I (20F) just star...|        43|         204|      0|    3/10/24 21:33|    -0.14285715|        3|            0.0|\n|          0|AmIOverreacting|My boyfriend lied...|I (24F) have been...|       309|         923|      0|    3/11/24 21:49|           -0.4|        2|            0.0|\n|          1|AmIOverreacting|Employee at a fur...|Last Saturday I w...|       138|         148|      0|     3/13/24 6:27|            0.0|        2|            2.0|\n|          1|AmIOverreacting|Am I losing my mi...|I (21F) recently ...|        43|         140|      0|    3/14/24 12:11|    -0.05882353|        2|            0.0|\n|          1|AmIOverreacting|Am I overreacting...|My(20f) boyfriend...|        13|          34|      0|    3/16/24 15:45|           -0.6|        5|            0.0|\n|          0|AmIOverreacting|am I overreacting...|backstory: for ch...|        36|          88|      0|    3/19/24 14:56|     0.03448276|        2|            1.0|\n|          1|AmIOverreacting|Found out my dad ...|This is kinda a l...|       187|         143|      0|     3/20/24 1:25|    -0.33333334|        5|            0.0|\n+-----------+---------------+--------------------+--------------------+----------+------------+-------+-----------------+---------------+---------+---------------+\nonly showing top 20 rows\n\nShape: (1779, 11)\nTest Accuracy: 0.696078431372549\n\nFeature Importances:\nscore_post: 0.7394905104958515\nnum_comments: 0.1443839192797768\nsentiment_score: 0.07171921537142031\nnmf_topic: 0.03663606007667865\nover_18: 0.007770294776272818\n"
        }
      ],
      "execution_count": 19,
      "metadata": {
        "gather": {
          "logged": 1733763065171
        }
      }
    },
    {
      "cell_type": "code",
      "source": [
        "from pyspark.ml.classification import GBTClassifier\n",
        "\n",
        "# XGBoost Classifier (using Gradient Boosted Trees as an equivalent in Spark)\n",
        "xgb = GBTClassifier(featuresCol=\"features\", labelCol=\"final_label\", maxIter=100)\n",
        "\n",
        "# Add XGBoost to the pipeline\n",
        "xgb_pipeline = Pipeline(stages=[assembler, xgb])\n",
        "\n",
        "# Train the XGBoost model\n",
        "xgb_model = xgb_pipeline.fit(train_data)\n",
        "\n",
        "# Make predictions\n",
        "xgb_predictions = xgb_model.transform(test_data)"
      ],
      "outputs": [
        {
          "output_type": "display_data",
          "data": {
            "application/vnd.livy.statement-meta+json": {
              "spark_pool": "b1a6d09a-cd79-40bd-b154-9f59912128df",
              "statement_id": 25,
              "statement_ids": [
                25
              ],
              "state": "finished",
              "livy_statement_state": "available",
              "spark_jobs": {
                "numbers": {
                  "RUNNING": 0,
                  "UNKNOWN": 0,
                  "FAILED": 0,
                  "SUCCEEDED": 0
                },
                "jobs": [],
                "limit": 20,
                "rule": "ALL_DESC"
              },
              "session_id": "1",
              "normalized_state": "finished",
              "queued_time": "2024-12-09T16:51:11.9614836Z",
              "session_start_time": null,
              "execution_start_time": "2024-12-09T16:51:12.078724Z",
              "execution_finish_time": "2024-12-09T16:51:56.7087672Z",
              "parent_msg_id": "fccb4cbc-40c8-47f7-bcee-b708ae7a9cb7"
            },
            "text/plain": "StatementMeta(b1a6d09a-cd79-40bd-b154-9f59912128df, 1, 25, Finished, Available, Finished)"
          },
          "metadata": {}
        }
      ],
      "execution_count": 20,
      "metadata": {
        "jupyter": {
          "source_hidden": false,
          "outputs_hidden": false
        },
        "nteract": {
          "transient": {
            "deleting": false
          }
        },
        "gather": {
          "logged": 1733763118122
        }
      }
    },
    {
      "cell_type": "code",
      "source": [
        "from pyspark.ml.evaluation import BinaryClassificationEvaluator\n",
        "import matplotlib.pyplot as plt\n",
        "\n",
        "# Evaluate ROC AUC for both models\n",
        "rf_auc = evaluator.evaluate(predictions)  # Random Forest\n",
        "xgb_auc = evaluator.evaluate(xgb_predictions)  # XGBoost\n",
        "\n",
        "print(f\"Random Forest ROC AUC Score: {rf_auc}\")\n",
        "print(f\"XGBoost ROC AUC Score: {xgb_auc}\")\n",
        "\n",
        "# ROC Curve for both models\n",
        "rf_roc_data = predictions.select(\"probability\", \"final_label\").rdd \\\n",
        "    .map(lambda row: (float(row.probability[1]), float(row.final_label))).collect()\n",
        "xgb_roc_data = xgb_predictions.select(\"probability\", \"final_label\").rdd \\\n",
        "    .map(lambda row: (float(row.probability[1]), float(row.final_label))).collect()\n",
        "\n",
        "def compute_roc_curve(roc_data):\n",
        "    roc_data = sorted(roc_data, key=lambda x: x[0])\n",
        "    tprs, fprs = [], []\n",
        "    positives = sum(1 for _, label in roc_data if label == 1)\n",
        "    negatives = sum(1 for _, label in roc_data if label == 0)\n",
        "\n",
        "    tp, fp = 0, 0\n",
        "    for prob, label in roc_data:\n",
        "        if label == 1:\n",
        "            tp += 1\n",
        "        else:\n",
        "            fp += 1\n",
        "        tprs.append(tp / positives)\n",
        "        fprs.append(fp / negatives)\n",
        "\n",
        "    return tprs, fprs\n",
        "\n",
        "rf_tprs, rf_fprs = compute_roc_curve(rf_roc_data)\n",
        "xgb_tprs, xgb_fprs = compute_roc_curve(xgb_roc_data)\n",
        "\n",
        "\n",
        "# Plot ROC Curves\n",
        "plt.figure(figsize=(8, 6))\n",
        "plt.plot(rf_fprs, rf_tprs, label=f'Random Forest (AUC = {rf_auc:.2f})', color='#EE7F68')\n",
        "plt.plot(xgb_fprs, xgb_tprs, label=f'XGBoost (AUC = {xgb_auc:.2f})', color='#F8CD92')\n",
        "plt.plot([0, 1], [0, 1], 'k--', label='Random Guess', color='#78C383')\n",
        "plt.xlabel('False Positive Rate')\n",
        "plt.ylabel('True Positive Rate')\n",
        "plt.title('ROC Curve')\n",
        "plt.legend()\n",
        "\n",
        "# Make the background transparent\n",
        "plt.gca().patch.set_alpha(0)  # Set axes background transparent\n",
        "plt.savefig('roc_curve.png', transparent=True) \n",
        "plt.show()"
      ],
      "outputs": [
        {
          "output_type": "display_data",
          "data": {
            "application/vnd.livy.statement-meta+json": {
              "spark_pool": "b1a6d09a-cd79-40bd-b154-9f59912128df",
              "statement_id": 26,
              "statement_ids": [
                26
              ],
              "state": "finished",
              "livy_statement_state": "available",
              "spark_jobs": {
                "numbers": {
                  "RUNNING": 0,
                  "UNKNOWN": 0,
                  "FAILED": 0,
                  "SUCCEEDED": 0
                },
                "jobs": [],
                "limit": 20,
                "rule": "ALL_DESC"
              },
              "session_id": "1",
              "normalized_state": "finished",
              "queued_time": "2024-12-09T16:53:07.1801957Z",
              "session_start_time": null,
              "execution_start_time": "2024-12-09T16:53:07.3000361Z",
              "execution_finish_time": "2024-12-09T16:53:12.3101918Z",
              "parent_msg_id": "d5df7568-3bc0-4166-9518-55975c5fab9a"
            },
            "text/plain": "StatementMeta(b1a6d09a-cd79-40bd-b154-9f59912128df, 1, 26, Finished, Available, Finished)"
          },
          "metadata": {}
        },
        {
          "output_type": "stream",
          "name": "stdout",
          "text": "Random Forest ROC AUC Score: 0.696078431372549\nXGBoost ROC AUC Score: 0.6862745098039216\n"
        },
        {
          "output_type": "stream",
          "name": "stderr",
          "text": "/tmp/ipykernel_9747/1863100645.py:42: UserWarning: color is redundantly defined by the 'color' keyword argument and the fmt string \"k--\" (-> color='k'). The keyword argument will take precedence.\n  plt.plot([0, 1], [0, 1], 'k--', label='Random Guess', color='#78C383')\n"
        },
        {
          "output_type": "display_data",
          "data": {
            "text/plain": "<Figure size 800x600 with 1 Axes>",
            "image/png": "[encoded data removed]"
          },
          "metadata": {}
        }
      ],
      "execution_count": 21,
      "metadata": {
        "jupyter": {
          "source_hidden": false,
          "outputs_hidden": false
        },
        "nteract": {
          "transient": {
            "deleting": false
          }
        },
        "gather": {
          "logged": 1733763192574
        }
      }
    },
    {
      "cell_type": "code",
      "source": [
        "import seaborn as sns\n",
        "from sklearn.metrics import confusion_matrix\n",
        "import matplotlib.pyplot as plt\n",
        "from matplotlib.colors import LinearSegmentedColormap\n",
        "\n",
        "custom_cmap = LinearSegmentedColormap.from_list(\"custom_cmap\", [\"white\", \"#D07E9F\"])\n",
        "\n",
        "# Confusion Matrix for Random Forest\n",
        "rf_y_true = predictions.select(\"final_label\").rdd.flatMap(lambda x: x).collect()\n",
        "rf_y_pred = predictions.select(\"prediction\").rdd.flatMap(lambda x: x).collect()\n",
        "rf_cm = confusion_matrix(rf_y_true, rf_y_pred)\n",
        "\n",
        "# Confusion Matrix for XGBoost\n",
        "xgb_y_true = xgb_predictions.select(\"final_label\").rdd.flatMap(lambda x: x).collect()\n",
        "xgb_y_pred = xgb_predictions.select(\"prediction\").rdd.flatMap(lambda x: x).collect()\n",
        "xgb_cm = confusion_matrix(xgb_y_true, xgb_y_pred)\n",
        "\n",
        "# Plot confusion matrices\n",
        "fig, axes = plt.subplots(1, 2, figsize=(12, 6))\n",
        "\n",
        "sns.heatmap(rf_cm, annot=True, fmt=\"d\", cmap=custom_cmap, xticklabels=[\"Not Overreacting\", \"Overreacting\"], yticklabels=[\"Not Overreacting\", \"Overreacting\"], ax=axes[0])\n",
        "axes[0].set_title(\"Random Forest Confusion Matrix\")\n",
        "axes[0].set_xlabel(\"Predicted\")\n",
        "axes[0].set_ylabel(\"Actual\")\n",
        "\n",
        "sns.heatmap(xgb_cm, annot=True, fmt=\"d\", cmap=custom_cmap, xticklabels=[\"Not Overreacting\", \"Overreacting\"], yticklabels=[\"Not Overreacting\", \"Overreacting\"], ax=axes[1])\n",
        "axes[1].set_title(\"XGBoost Confusion Matrix\")\n",
        "axes[1].set_xlabel(\"Predicted\")\n",
        "axes[1].set_ylabel(\"Actual\")\n",
        "\n",
        "plt.tight_layout()\n",
        "# Make the background transparent\n",
        "fig.patch.set_alpha(0)  # Set figure background transparent\n",
        "plt.savefig('confusion_matrices.png', transparent=True) \n",
        "plt.show()"
      ],
      "outputs": [
        {
          "output_type": "display_data",
          "data": {
            "application/vnd.livy.statement-meta+json": {
              "spark_pool": "b1a6d09a-cd79-40bd-b154-9f59912128df",
              "statement_id": 27,
              "statement_ids": [
                27
              ],
              "state": "finished",
              "livy_statement_state": "available",
              "spark_jobs": {
                "numbers": {
                  "RUNNING": 0,
                  "UNKNOWN": 0,
                  "FAILED": 0,
                  "SUCCEEDED": 0
                },
                "jobs": [],
                "limit": 20,
                "rule": "ALL_DESC"
              },
              "session_id": "1",
              "normalized_state": "finished",
              "queued_time": "2024-12-09T16:53:10.3266343Z",
              "session_start_time": null,
              "execution_start_time": "2024-12-09T16:53:12.4340701Z",
              "execution_finish_time": "2024-12-09T16:53:16.1927237Z",
              "parent_msg_id": "2580379c-8887-4d74-8521-8bb30140c639"
            },
            "text/plain": "StatementMeta(b1a6d09a-cd79-40bd-b154-9f59912128df, 1, 27, Finished, Available, Finished)"
          },
          "metadata": {}
        },
        {
          "output_type": "display_data",
          "data": {
            "text/plain": "<Figure size 1200x600 with 4 Axes>",
            "image/png": "[encoded data removed]"
          },
          "metadata": {
            "needs_background": "light"
          }
        }
      ],
      "execution_count": 22,
      "metadata": {
        "jupyter": {
          "source_hidden": false,
          "outputs_hidden": false
        },
        "nteract": {
          "transient": {
            "deleting": false
          }
        },
        "gather": {
          "logged": 1733763196396
        }
      }
    },
    {
      "cell_type": "code",
      "source": [
        "from sklearn.metrics import classification_report\n",
        "\n",
        "# Precision, Recall, F1-Score for Random Forest\n",
        "rf_report = classification_report(rf_y_true, rf_y_pred, target_names=[\"Not Overreacting\", \"Overreacting\"])\n",
        "print(\"Random Forest Classification Report:\")\n",
        "print(rf_report)\n",
        "\n",
        "# Precision, Recall, F1-Score for XGBoost\n",
        "xgb_report = classification_report(xgb_y_true, xgb_y_pred, target_names=[\"Not Overreacting\", \"Overreacting\"])\n",
        "print(\"XGBoost Classification Report:\")\n",
        "print(xgb_report)"
      ],
      "outputs": [
        {
          "output_type": "display_data",
          "data": {
            "application/vnd.livy.statement-meta+json": {
              "spark_pool": "b1a6d09a-cd79-40bd-b154-9f59912128df",
              "statement_id": 28,
              "statement_ids": [
                28
              ],
              "state": "finished",
              "livy_statement_state": "available",
              "spark_jobs": {
                "numbers": {
                  "RUNNING": 0,
                  "UNKNOWN": 0,
                  "FAILED": 0,
                  "SUCCEEDED": 0
                },
                "jobs": [],
                "limit": 20,
                "rule": "ALL_DESC"
              },
              "session_id": "1",
              "normalized_state": "finished",
              "queued_time": "2024-12-09T16:53:56.3333147Z",
              "session_start_time": null,
              "execution_start_time": "2024-12-09T16:53:56.7031157Z",
              "execution_finish_time": "2024-12-09T16:53:57.0402824Z",
              "parent_msg_id": "92785c95-cc61-48ed-b031-e7c7c79da635"
            },
            "text/plain": "StatementMeta(b1a6d09a-cd79-40bd-b154-9f59912128df, 1, 28, Finished, Available, Finished)"
          },
          "metadata": {}
        },
        {
          "output_type": "stream",
          "name": "stdout",
          "text": "Random Forest Classification Report:\n                  precision    recall  f1-score   support\n\nNot Overreacting       0.67      0.91      0.77       172\n    Overreacting       0.78      0.43      0.55       134\n\n        accuracy                           0.70       306\n       macro avg       0.73      0.67      0.66       306\n    weighted avg       0.72      0.70      0.67       306\n\nXGBoost Classification Report:\n                  precision    recall  f1-score   support\n\nNot Overreacting       0.69      0.80      0.74       172\n    Overreacting       0.68      0.54      0.60       134\n\n        accuracy                           0.69       306\n       macro avg       0.68      0.67      0.67       306\n    weighted avg       0.69      0.69      0.68       306\n\n"
        }
      ],
      "execution_count": 23,
      "metadata": {
        "jupyter": {
          "source_hidden": false,
          "outputs_hidden": false
        },
        "nteract": {
          "transient": {
            "deleting": false
          }
        },
        "gather": {
          "logged": 1733763237229
        }
      }
    },
    {
      "cell_type": "code",
      "source": [
        "from sklearn.metrics import cohen_kappa_score\n",
        "\n",
        "# Cohen's Kappa Score for Random Forest\n",
        "rf_kappa = cohen_kappa_score(rf_y_true, rf_y_pred)\n",
        "print(f\"Random Forest Kappa Score: {rf_kappa}\")\n",
        "\n",
        "# Cohen's Kappa Score for XGBoost\n",
        "xgb_kappa = cohen_kappa_score(xgb_y_true, xgb_y_pred)\n",
        "print(f\"XGBoost Kappa Score: {xgb_kappa}\")"
      ],
      "outputs": [
        {
          "output_type": "display_data",
          "data": {
            "application/vnd.livy.statement-meta+json": {
              "spark_pool": "b1a6d09a-cd79-40bd-b154-9f59912128df",
              "statement_id": 29,
              "statement_ids": [
                29
              ],
              "state": "finished",
              "livy_statement_state": "available",
              "spark_jobs": {
                "numbers": {
                  "RUNNING": 0,
                  "UNKNOWN": 0,
                  "FAILED": 0,
                  "SUCCEEDED": 0
                },
                "jobs": [],
                "limit": 20,
                "rule": "ALL_DESC"
              },
              "session_id": "1",
              "normalized_state": "finished",
              "queued_time": "2024-12-09T16:53:59.7730767Z",
              "session_start_time": null,
              "execution_start_time": "2024-12-09T16:54:00.2808261Z",
              "execution_finish_time": "2024-12-09T16:54:00.5988316Z",
              "parent_msg_id": "cba497d7-a0f6-4639-b97c-40fbed77ae1e"
            },
            "text/plain": "StatementMeta(b1a6d09a-cd79-40bd-b154-9f59912128df, 1, 29, Finished, Available, Finished)"
          },
          "metadata": {}
        },
        {
          "output_type": "stream",
          "name": "stdout",
          "text": "Random Forest Kappa Score: 0.34994746219562345\nXGBoost Kappa Score: 0.34766388346065025\n"
        }
      ],
      "execution_count": 24,
      "metadata": {
        "jupyter": {
          "source_hidden": false,
          "outputs_hidden": false
        },
        "nteract": {
          "transient": {
            "deleting": false
          }
        },
        "gather": {
          "logged": 1733763240979
        }
      }
    },
    {
      "cell_type": "code",
      "source": [
        "# Number of rows\n",
        "num_rows = df1.count()\n",
        "\n",
        "# Number of columns\n",
        "num_cols = len(df1.columns)\n",
        "\n",
        "# Print the shape\n",
        "print(f\"Shape: ({num_rows}, {num_cols})\")"
      ],
      "outputs": [
        {
          "output_type": "display_data",
          "data": {
            "application/vnd.livy.statement-meta+json": {
              "spark_pool": "495bfb33-51fd-4c2c-8843-d4711866bbef",
              "statement_id": 14,
              "statement_ids": [
                14
              ],
              "state": "finished",
              "livy_statement_state": "available",
              "spark_jobs": {
                "numbers": {
                  "FAILED": 0,
                  "RUNNING": 0,
                  "SUCCEEDED": 2,
                  "UNKNOWN": 0
                },
                "jobs": [
                  {
                    "displayName": "count at NativeMethodAccessorImpl.java:0",
                    "dataWritten": 0,
                    "dataRead": 118,
                    "rowCount": 2,
                    "usageDescription": "",
                    "jobId": 81,
                    "name": "count at NativeMethodAccessorImpl.java:0",
                    "description": "Job group for statement 14:\n# Number of rows\nnum_rows = df1.count()\n\n# Number of columns\nnum_cols = len(df1.columns)\n\n# Print the shape\nprint(f\"Shape: ({num_rows}, {num_cols})\")",
                    "submissionTime": "2024-12-08T21:13:15.393GMT",
                    "completionTime": "2024-12-08T21:13:15.446GMT",
                    "stageIds": [
                      97,
                      98
                    ],
                    "jobGroup": "14",
                    "status": "SUCCEEDED",
                    "numTasks": 3,
                    "numActiveTasks": 0,
                    "numCompletedTasks": 1,
                    "numSkippedTasks": 2,
                    "numFailedTasks": 0,
                    "numKilledTasks": 0,
                    "numCompletedIndices": 1,
                    "numActiveStages": 0,
                    "numCompletedStages": 1,
                    "numSkippedStages": 1,
                    "numFailedStages": 0,
                    "killedTasksSummary": {}
                  },
                  {
                    "displayName": "count at NativeMethodAccessorImpl.java:0",
                    "dataWritten": 118,
                    "dataRead": 4702141,
                    "rowCount": 11967,
                    "usageDescription": "",
                    "jobId": 80,
                    "name": "count at NativeMethodAccessorImpl.java:0",
                    "description": "Job group for statement 14:\n# Number of rows\nnum_rows = df1.count()\n\n# Number of columns\nnum_cols = len(df1.columns)\n\n# Print the shape\nprint(f\"Shape: ({num_rows}, {num_cols})\")",
                    "submissionTime": "2024-12-08T21:13:14.937GMT",
                    "completionTime": "2024-12-08T21:13:15.359GMT",
                    "stageIds": [
                      96
                    ],
                    "jobGroup": "14",
                    "status": "SUCCEEDED",
                    "numTasks": 2,
                    "numActiveTasks": 0,
                    "numCompletedTasks": 2,
                    "numSkippedTasks": 0,
                    "numFailedTasks": 0,
                    "numKilledTasks": 0,
                    "numCompletedIndices": 2,
                    "numActiveStages": 0,
                    "numCompletedStages": 1,
                    "numSkippedStages": 0,
                    "numFailedStages": 0,
                    "killedTasksSummary": {}
                  }
                ],
                "limit": 20,
                "rule": "ALL_DESC"
              },
              "session_id": "3",
              "normalized_state": "finished",
              "queued_time": "2024-12-08T21:13:14.6094009Z",
              "session_start_time": null,
              "execution_start_time": "2024-12-08T21:13:14.8036051Z",
              "execution_finish_time": "2024-12-08T21:13:15.6813722Z",
              "parent_msg_id": "3dd7e2a9-f1fa-46fa-8d76-4bc35731a2c1"
            },
            "text/plain": "StatementMeta(495bfb33-51fd-4c2c-8843-d4711866bbef, 3, 14, Finished, Available, Finished)"
          },
          "metadata": {}
        },
        {
          "output_type": "stream",
          "name": "stdout",
          "text": "Shape: (11965, 9)\n"
        }
      ],
      "execution_count": 9,
      "metadata": {
        "jupyter": {
          "source_hidden": false,
          "outputs_hidden": false
        },
        "nteract": {
          "transient": {
            "deleting": false
          }
        },
        "gather": {
          "logged": 1733692395807
        }
      }
    },
    {
      "cell_type": "code",
      "source": [
        "# Number of rows\n",
        "num_rows = df.count()\n",
        "\n",
        "# Number of columns\n",
        "num_cols = len(df.columns)\n",
        "\n",
        "# Print the shape\n",
        "print(f\"Shape: ({num_rows}, {num_cols})\")"
      ],
      "outputs": [
        {
          "output_type": "display_data",
          "data": {
            "application/vnd.livy.statement-meta+json": {
              "spark_pool": "495bfb33-51fd-4c2c-8843-d4711866bbef",
              "statement_id": 16,
              "statement_ids": [
                16
              ],
              "state": "finished",
              "livy_statement_state": "available",
              "spark_jobs": {
                "numbers": {
                  "FAILED": 0,
                  "RUNNING": 0,
                  "SUCCEEDED": 2,
                  "UNKNOWN": 0
                },
                "jobs": [
                  {
                    "displayName": "count at NativeMethodAccessorImpl.java:0",
                    "dataWritten": 0,
                    "dataRead": 118,
                    "rowCount": 2,
                    "usageDescription": "",
                    "jobId": 86,
                    "name": "count at NativeMethodAccessorImpl.java:0",
                    "description": "Job group for statement 16:\n# Number of rows\nnum_rows = df.count()\n\n# Number of columns\nnum_cols = len(df.columns)\n\n# Print the shape\nprint(f\"Shape: ({num_rows}, {num_cols})\")",
                    "submissionTime": "2024-12-08T21:13:50.166GMT",
                    "completionTime": "2024-12-08T21:13:50.230GMT",
                    "stageIds": [
                      104,
                      105
                    ],
                    "jobGroup": "16",
                    "status": "SUCCEEDED",
                    "numTasks": 3,
                    "numActiveTasks": 0,
                    "numCompletedTasks": 1,
                    "numSkippedTasks": 2,
                    "numFailedTasks": 0,
                    "numKilledTasks": 0,
                    "numCompletedIndices": 1,
                    "numActiveStages": 0,
                    "numCompletedStages": 1,
                    "numSkippedStages": 1,
                    "numFailedStages": 0,
                    "killedTasksSummary": {}
                  },
                  {
                    "displayName": "count at NativeMethodAccessorImpl.java:0",
                    "dataWritten": 118,
                    "dataRead": 4702141,
                    "rowCount": 11957,
                    "usageDescription": "",
                    "jobId": 85,
                    "name": "count at NativeMethodAccessorImpl.java:0",
                    "description": "Job group for statement 16:\n# Number of rows\nnum_rows = df.count()\n\n# Number of columns\nnum_cols = len(df.columns)\n\n# Print the shape\nprint(f\"Shape: ({num_rows}, {num_cols})\")",
                    "submissionTime": "2024-12-08T21:13:49.727GMT",
                    "completionTime": "2024-12-08T21:13:50.115GMT",
                    "stageIds": [
                      103
                    ],
                    "jobGroup": "16",
                    "status": "SUCCEEDED",
                    "numTasks": 2,
                    "numActiveTasks": 0,
                    "numCompletedTasks": 2,
                    "numSkippedTasks": 0,
                    "numFailedTasks": 0,
                    "numKilledTasks": 0,
                    "numCompletedIndices": 2,
                    "numActiveStages": 0,
                    "numCompletedStages": 1,
                    "numSkippedStages": 0,
                    "numFailedStages": 0,
                    "killedTasksSummary": {}
                  }
                ],
                "limit": 20,
                "rule": "ALL_DESC"
              },
              "session_id": "3",
              "normalized_state": "finished",
              "queued_time": "2024-12-08T21:13:49.2248686Z",
              "session_start_time": null,
              "execution_start_time": "2024-12-08T21:13:49.3489833Z",
              "execution_finish_time": "2024-12-08T21:13:50.9313376Z",
              "parent_msg_id": "bd8254c9-7e19-4ddb-9466-136b9d0325be"
            },
            "text/plain": "StatementMeta(495bfb33-51fd-4c2c-8843-d4711866bbef, 3, 16, Finished, Available, Finished)"
          },
          "metadata": {}
        },
        {
          "output_type": "stream",
          "name": "stdout",
          "text": "Shape: (460, 11)\n"
        }
      ],
      "execution_count": 11,
      "metadata": {
        "jupyter": {
          "source_hidden": false,
          "outputs_hidden": false
        },
        "nteract": {
          "transient": {
            "deleting": false
          }
        },
        "gather": {
          "logged": 1733692431051
        }
      }
    },
    {
      "cell_type": "markdown",
      "source": [
        "Feature importances analyses show that the score of the post is a deciding factor for predicting over_reacting/not_over_reacting. While topic categories contributes the least to the prediction. "
      ],
      "metadata": {
        "nteract": {
          "transient": {
            "deleting": false
          }
        }
      }
    },
    {
      "cell_type": "markdown",
      "source": [
        "# AITA Machine Learning"
      ],
      "metadata": {
        "nteract": {
          "transient": {
            "deleting": false
          }
        }
      }
    },
    {
      "cell_type": "code",
      "source": [
        "file_path_aita_label = \"azureml://subscriptions/21ff0fc0-dd2c-450d-93b7-96eeb3699b22/resourcegroups/project-group-27/workspaces/project-group-27/datastores/workspaceblobstore/paths/UI/2024-12-09_004445_UTC/aita_labels.csv\"\n",
        "file_path_aita_nlp = \"azureml://subscriptions/21ff0fc0-dd2c-450d-93b7-96eeb3699b22/resourcegroups/project-group-27/workspaces/project-group-27/datastores/workspaceblobstore/paths/UI/2024-12-07_201851_UTC/aita.csv\"\n",
        "aita_df = spark.read.csv(file_path_aita_label, header=True, inferSchema=True, multiLine=True)\n"
      ],
      "outputs": [
        {
          "output_type": "display_data",
          "data": {
            "application/vnd.livy.statement-meta+json": {
              "spark_pool": "b1a6d09a-cd79-40bd-b154-9f59912128df",
              "statement_id": 6,
              "statement_ids": [
                6
              ],
              "state": "finished",
              "livy_statement_state": "available",
              "spark_jobs": {
                "numbers": {
                  "RUNNING": 0,
                  "UNKNOWN": 0,
                  "FAILED": 0,
                  "SUCCEEDED": 2
                },
                "jobs": [
                  {
                    "displayName": "csv at NativeMethodAccessorImpl.java:0",
                    "dataWritten": 0,
                    "dataRead": 10211146432,
                    "rowCount": 1,
                    "usageDescription": "",
                    "jobId": 1,
                    "name": "csv at NativeMethodAccessorImpl.java:0",
                    "description": "Job group for statement 6:\nfile_path_aita_label = \"azureml://subscriptions/21ff0fc0-dd2c-450d-93b7-96eeb3699b22/resourcegroups/project-group-27/workspaces/project-group-27/datastores/workspaceblobstore/paths/UI/2024-12-09_004445_UTC/aita_labels.csv\"\nfile_path_aita_nlp = \"azureml://subscriptions/21ff0fc0-dd2c-450d-93b7-96eeb3699b22/resourcegroups/project-group-27/workspaces/project-group-27/datastores/workspaceblobstore/paths/UI/2024-12-07_201851_UTC/aita.csv\"\naita_df = spark.read.csv(file_path_aita_label, header=True, inferSchema=True, multiLine=True)\n",
                    "submissionTime": "2024-12-09T12:55:30.018GMT",
                    "completionTime": "2024-12-09T13:00:57.268GMT",
                    "stageIds": [
                      1
                    ],
                    "jobGroup": "6",
                    "status": "SUCCEEDED",
                    "numTasks": 1,
                    "numActiveTasks": 0,
                    "numCompletedTasks": 1,
                    "numSkippedTasks": 0,
                    "numFailedTasks": 0,
                    "numKilledTasks": 0,
                    "numCompletedIndices": 1,
                    "numActiveStages": 0,
                    "numCompletedStages": 1,
                    "numSkippedStages": 0,
                    "numFailedStages": 0,
                    "killedTasksSummary": {}
                  },
                  {
                    "displayName": "csv at NativeMethodAccessorImpl.java:0",
                    "dataWritten": 0,
                    "dataRead": 1114112,
                    "rowCount": 1,
                    "usageDescription": "",
                    "jobId": 0,
                    "name": "csv at NativeMethodAccessorImpl.java:0",
                    "description": "Job group for statement 6:\nfile_path_aita_label = \"azureml://subscriptions/21ff0fc0-dd2c-450d-93b7-96eeb3699b22/resourcegroups/project-group-27/workspaces/project-group-27/datastores/workspaceblobstore/paths/UI/2024-12-09_004445_UTC/aita_labels.csv\"\nfile_path_aita_nlp = \"azureml://subscriptions/21ff0fc0-dd2c-450d-93b7-96eeb3699b22/resourcegroups/project-group-27/workspaces/project-group-27/datastores/workspaceblobstore/paths/UI/2024-12-07_201851_UTC/aita.csv\"\naita_df = spark.read.csv(file_path_aita_label, header=True, inferSchema=True, multiLine=True)\n",
                    "submissionTime": "2024-12-09T12:55:24.854GMT",
                    "completionTime": "2024-12-09T12:55:29.954GMT",
                    "stageIds": [
                      0
                    ],
                    "jobGroup": "6",
                    "status": "SUCCEEDED",
                    "numTasks": 1,
                    "numActiveTasks": 0,
                    "numCompletedTasks": 1,
                    "numSkippedTasks": 0,
                    "numFailedTasks": 0,
                    "numKilledTasks": 0,
                    "numCompletedIndices": 1,
                    "numActiveStages": 0,
                    "numCompletedStages": 1,
                    "numSkippedStages": 0,
                    "numFailedStages": 0,
                    "killedTasksSummary": {}
                  }
                ],
                "limit": 20,
                "rule": "ALL_DESC"
              },
              "session_id": "1",
              "normalized_state": "finished",
              "queued_time": "2024-12-09T12:51:11.9967003Z",
              "session_start_time": "2024-12-09T12:51:12.0286096Z",
              "execution_start_time": "2024-12-09T12:55:22.475745Z",
              "execution_finish_time": "2024-12-09T13:01:00.8196211Z",
              "parent_msg_id": "acc85df4-2269-46ac-9ada-05f991b30d71"
            },
            "text/plain": "StatementMeta(b1a6d09a-cd79-40bd-b154-9f59912128df, 1, 6, Finished, Available, Finished)"
          },
          "metadata": {}
        }
      ],
      "execution_count": 1,
      "metadata": {
        "jupyter": {
          "source_hidden": false,
          "outputs_hidden": false
        },
        "nteract": {
          "transient": {
            "deleting": false
          }
        },
        "gather": {
          "logged": 1733749261081
        }
      }
    },
    {
      "cell_type": "code",
      "source": [
        "from pyspark.sql import functions as F\n",
        "\n",
        "# Step 2: Get the maximum `score_comment` for each `post_id`\n",
        "max_score_df = aita_df.groupBy(\"post_id\").agg(F.max(\"score_comment\").alias(\"max_score_comment\"))\n",
        "\n",
        "# Step 3: Join this result back to the filtered DataFrame to get the rows with the highest `score_comment` per `post_id`\n",
        "aita_df_filtered = aita_df.join(\n",
        "    max_score_df,\n",
        "    (aita_df.post_id == max_score_df.post_id) & (aita_df.score_comment == max_score_df.max_score_comment),\n",
        "    \"inner\"\n",
        ").select(aita_df[\"*\"])  # Select all columns from the original DataFrame\n",
        "\n",
        "# Step 1: Add columns for counts of each term\n",
        "aita_df_with_counts = aita_df_filtered.withColumn(\"YTA_count\", F.expr(\"size(split(comment_body, 'YTA')) - 1\")) \\\n",
        "                                      .withColumn(\"NTA_count\", F.expr(\"size(split(comment_body, 'NTA')) - 1\")) \\\n",
        "                                      .withColumn(\"ESH_count\", F.expr(\"size(split(comment_body, 'ESH')) - 1\")) \\\n",
        "                                      .withColumn(\"NAH_count\", F.expr(\"size(split(comment_body, 'NAH')) - 1\")) \\\n",
        "                                      .withColumn(\"INFO_count\", F.expr(\"size(split(comment_body, 'INFO')) - 1\"))\n",
        "\n",
        "# Step 2: Determine the label based on the highest count\n",
        "aita_df_labeled = aita_df_with_counts.withColumn(\n",
        "    \"label\",\n",
        "    F.when(F.col(\"YTA_count\") == F.greatest(\"YTA_count\", \"NTA_count\", \"ESH_count\", \"NAH_count\", \"INFO_count\"), \"YTA\")\n",
        "     .when(F.col(\"NTA_count\") == F.greatest(\"YTA_count\", \"NTA_count\", \"ESH_count\", \"NAH_count\", \"INFO_count\"), \"NTA\")\n",
        "     .when(F.col(\"ESH_count\") == F.greatest(\"YTA_count\", \"NTA_count\", \"ESH_count\", \"NAH_count\", \"INFO_count\"), \"ESH\")\n",
        "     .when(F.col(\"NAH_count\") == F.greatest(\"YTA_count\", \"NTA_count\", \"ESH_count\", \"NAH_count\", \"INFO_count\"), \"NAH\")\n",
        "     .when(F.col(\"INFO_count\") == F.greatest(\"YTA_count\", \"NTA_count\", \"ESH_count\", \"NAH_count\", \"INFO_count\"), \"INFO\")\n",
        ")\n",
        "\n",
        "# aita_df_labeled.show()"
      ],
      "outputs": [
        {
          "output_type": "display_data",
          "data": {
            "application/vnd.livy.statement-meta+json": {
              "spark_pool": "b1a6d09a-cd79-40bd-b154-9f59912128df",
              "statement_id": 7,
              "statement_ids": [
                7
              ],
              "state": "finished",
              "livy_statement_state": "available",
              "spark_jobs": {
                "numbers": {
                  "RUNNING": 0,
                  "UNKNOWN": 0,
                  "FAILED": 0,
                  "SUCCEEDED": 0
                },
                "jobs": [],
                "limit": 20,
                "rule": "ALL_DESC"
              },
              "session_id": "1",
              "normalized_state": "finished",
              "queued_time": "2024-12-09T12:54:43.2996808Z",
              "session_start_time": null,
              "execution_start_time": "2024-12-09T13:01:01.8538379Z",
              "execution_finish_time": "2024-12-09T13:01:03.4330389Z",
              "parent_msg_id": "9da19fa6-b6fc-47fe-9280-44fdc42fdf7f"
            },
            "text/plain": "StatementMeta(b1a6d09a-cd79-40bd-b154-9f59912128df, 1, 7, Finished, Available, Finished)"
          },
          "metadata": {}
        }
      ],
      "execution_count": 2,
      "metadata": {
        "jupyter": {
          "source_hidden": false,
          "outputs_hidden": false
        },
        "nteract": {
          "transient": {
            "deleting": false
          }
        },
        "gather": {
          "logged": 1733749263642
        }
      }
    },
    {
      "cell_type": "code",
      "source": [
        "aita_df_labeled.count()"
      ],
      "outputs": [
        {
          "output_type": "display_data",
          "data": {
            "application/vnd.livy.statement-meta+json": {
              "spark_pool": "495bfb33-51fd-4c2c-8843-d4711866bbef",
              "statement_id": 9,
              "statement_ids": [
                9
              ],
              "state": "finished",
              "livy_statement_state": "available",
              "spark_jobs": {
                "numbers": {
                  "RUNNING": 0,
                  "SUCCEEDED": 4,
                  "FAILED": 0,
                  "UNKNOWN": 0
                },
                "jobs": [
                  {
                    "displayName": "count at NativeMethodAccessorImpl.java:0",
                    "dataWritten": 0,
                    "dataRead": 531,
                    "rowCount": 9,
                    "usageDescription": "",
                    "jobId": 15,
                    "name": "count at NativeMethodAccessorImpl.java:0",
                    "description": "Job group for statement 9:\naita_df_labeled.count()",
                    "submissionTime": "2024-12-09T02:57:42.008GMT",
                    "completionTime": "2024-12-09T02:57:42.068GMT",
                    "stageIds": [
                      20,
                      21,
                      22
                    ],
                    "jobGroup": "9",
                    "status": "SUCCEEDED",
                    "numTasks": 11,
                    "numActiveTasks": 0,
                    "numCompletedTasks": 1,
                    "numSkippedTasks": 10,
                    "numFailedTasks": 0,
                    "numKilledTasks": 0,
                    "numCompletedIndices": 1,
                    "numActiveStages": 0,
                    "numCompletedStages": 1,
                    "numSkippedStages": 2,
                    "numFailedStages": 0,
                    "killedTasksSummary": {}
                  },
                  {
                    "displayName": "count at NativeMethodAccessorImpl.java:0",
                    "dataWritten": 531,
                    "dataRead": 57109376,
                    "rowCount": 3816234,
                    "usageDescription": "",
                    "jobId": 14,
                    "name": "count at NativeMethodAccessorImpl.java:0",
                    "description": "Job group for statement 9:\naita_df_labeled.count()",
                    "submissionTime": "2024-12-09T02:57:41.225GMT",
                    "completionTime": "2024-12-09T02:57:41.915GMT",
                    "stageIds": [
                      19,
                      18
                    ],
                    "jobGroup": "9",
                    "status": "SUCCEEDED",
                    "numTasks": 10,
                    "numActiveTasks": 0,
                    "numCompletedTasks": 9,
                    "numSkippedTasks": 1,
                    "numFailedTasks": 0,
                    "numKilledTasks": 0,
                    "numCompletedIndices": 9,
                    "numActiveStages": 0,
                    "numCompletedStages": 1,
                    "numSkippedStages": 1,
                    "numFailedStages": 0,
                    "killedTasksSummary": {}
                  },
                  {
                    "displayName": "count at NativeMethodAccessorImpl.java:0",
                    "dataWritten": 19349145,
                    "dataRead": 10211146432,
                    "rowCount": 9238521,
                    "usageDescription": "",
                    "jobId": 12,
                    "name": "count at NativeMethodAccessorImpl.java:0",
                    "description": "Job group for statement 9:\naita_df_labeled.count()",
                    "submissionTime": "2024-12-09T02:52:47.394GMT",
                    "completionTime": "2024-12-09T02:57:33.824GMT",
                    "stageIds": [
                      15
                    ],
                    "jobGroup": "9",
                    "status": "SUCCEEDED",
                    "numTasks": 1,
                    "numActiveTasks": 0,
                    "numCompletedTasks": 1,
                    "numSkippedTasks": 0,
                    "numFailedTasks": 0,
                    "numKilledTasks": 0,
                    "numCompletedIndices": 1,
                    "numActiveStages": 0,
                    "numCompletedStages": 1,
                    "numSkippedStages": 0,
                    "numFailedStages": 0,
                    "killedTasksSummary": {}
                  },
                  {
                    "displayName": "count at NativeMethodAccessorImpl.java:0",
                    "dataWritten": 57109376,
                    "dataRead": 10211146432,
                    "rowCount": 7632450,
                    "usageDescription": "",
                    "jobId": 11,
                    "name": "count at NativeMethodAccessorImpl.java:0",
                    "description": "Job group for statement 9:\naita_df_labeled.count()",
                    "submissionTime": "2024-12-09T02:52:47.263GMT",
                    "completionTime": "2024-12-09T02:57:41.126GMT",
                    "stageIds": [
                      14
                    ],
                    "jobGroup": "9",
                    "status": "SUCCEEDED",
                    "numTasks": 1,
                    "numActiveTasks": 0,
                    "numCompletedTasks": 1,
                    "numSkippedTasks": 0,
                    "numFailedTasks": 0,
                    "numKilledTasks": 0,
                    "numCompletedIndices": 1,
                    "numActiveStages": 0,
                    "numCompletedStages": 1,
                    "numSkippedStages": 0,
                    "numFailedStages": 0,
                    "killedTasksSummary": {}
                  }
                ],
                "limit": 20,
                "rule": "ALL_DESC"
              },
              "session_id": "5",
              "normalized_state": "finished",
              "queued_time": "2024-12-09T02:45:48.1860177Z",
              "session_start_time": null,
              "execution_start_time": "2024-12-09T02:45:48.302028Z",
              "execution_finish_time": "2024-12-09T02:57:43.0776142Z",
              "parent_msg_id": "0eee12f1-3b16-4fec-a230-7c0e01e9dc5b"
            },
            "text/plain": "StatementMeta(495bfb33-51fd-4c2c-8843-d4711866bbef, 5, 9, Finished, Available, Finished)"
          },
          "metadata": {}
        },
        {
          "output_type": "execute_result",
          "execution_count": 17,
          "data": {
            "text/plain": "215994"
          },
          "metadata": {}
        }
      ],
      "execution_count": 4,
      "metadata": {
        "jupyter": {
          "source_hidden": false,
          "outputs_hidden": false
        },
        "nteract": {
          "transient": {
            "deleting": false
          }
        },
        "gather": {
          "logged": 1733713063311
        },
        "editable": false,
        "run_control": {
          "frozen": true
        }
      }
    },
    {
      "cell_type": "code",
      "source": [
        "from pyspark.sql.functions import col\n",
        "from pyspark.ml.feature import VectorAssembler, StringIndexer\n",
        "from pyspark.ml.classification import RandomForestClassifier\n",
        "from pyspark.ml import Pipeline\n",
        "from pyspark.sql.functions import when\n",
        "from pyspark.ml.evaluation import MulticlassClassificationEvaluator\n",
        "\n",
        "df_aita_nlp = spark.read.csv(file_path_aita_nlp, header=True, inferSchema=True)\n",
        "df = aita_df_labeled.join(df_aita_nlp, on=\"post_id\", how=\"inner\")\n",
        "df = df.select(\"score_post\", \"num_comments\", \"sentiment_score\", \"nmf_topic\", \"over_18\", \"label\")\n",
        "# df.show()\n",
        "\n",
        "# StringIndexer to encode `overall_sentiment`\n",
        "# sentiment_indexer = StringIndexer(inputCol=\"overall_sentiment\", outputCol=\"sentiment_index\")\n",
        "label_indexer = StringIndexer(inputCol=\"label\", outputCol=\"label_index\")\n",
        "# df = sentiment_indexer.fit(df).transform(df)\n",
        "df = label_indexer.fit(df).transform(df)\n",
        "# Dropping the `post_id` column\n",
        "# df = df.drop(\"post_id\", \"overall_sentiment\")\n",
        "\n",
        "# df = df.withColumn(\"label\", \n",
        "#                    when(df.label == \"YTA\", 0)\n",
        "#                    .when(df.label == \"NTA\", 1)\n",
        "#                    .when(df.label == \"ESH\", 2)\n",
        "#                    .when(df.label == \"NAH\", 3)\n",
        "#                    .when(df.label == \"INFO\", 4)\n",
        "#                    .otherwise(None))\n",
        "df = df.withColumn(\"over_18\", \n",
        "                   when(df.over_18 == \"TRUE\", 1)\n",
        "                   .when(df.over_18 == \"FALSE\", 0)\n",
        "                   .otherwise(None))\n",
        "\n",
        "df = df.withColumn(\"score_post\", col(\"score_post\").cast(\"int\"))\n",
        "df = df.withColumn(\"num_comments\", col(\"num_comments\").cast(\"int\"))\n",
        "\n",
        "df = df.dropna(subset=[\"score_post\", \"num_comments\", \"sentiment_score\", \"nmf_topic\", \"label_index\"])\n",
        "\n",
        "# # Data preview\n",
        "# df.show()\n",
        "\n",
        "# # Number of rows\n",
        "# num_rows = df.count()\n",
        "\n",
        "# # Number of columns\n",
        "# num_cols = len(df.columns)\n",
        "\n",
        "# # Print the shape\n",
        "# print(f\"Shape: ({num_rows}, {num_cols})\")\n",
        "\n"
      ],
      "outputs": [
        {
          "output_type": "display_data",
          "data": {
            "application/vnd.livy.statement-meta+json": {
              "spark_pool": "b1a6d09a-cd79-40bd-b154-9f59912128df",
              "statement_id": 8,
              "statement_ids": [
                8
              ],
              "state": "finished",
              "livy_statement_state": "available",
              "spark_jobs": {
                "numbers": {
                  "RUNNING": 0,
                  "UNKNOWN": 0,
                  "FAILED": 0,
                  "SUCCEEDED": 6
                },
                "jobs": [
                  {
                    "displayName": "collect at StringIndexer.scala:204",
                    "dataWritten": 0,
                    "dataRead": 71549,
                    "rowCount": 200,
                    "usageDescription": "",
                    "jobId": 9,
                    "name": "collect at StringIndexer.scala:204",
                    "description": "Job group for statement 8:\nfrom pyspark.sql.functions import col\nfrom pyspark.ml.feature import VectorAssembler, StringIndexer\nfrom pyspark.ml.classification import RandomForestClassifier\nfrom pyspark.ml import Pipeline\nfrom pyspark.sql.functions import when\nfrom pyspark.ml.evaluation import MulticlassClassificationEvaluator\n\ndf_aita_nlp = spark.read.csv(file_path_aita_nlp, header=True, inferSchema=True)\ndf = aita_df_labeled.join(df_aita_nlp, on=\"post_id\", how=\"inner\")\ndf = df.select(\"score_post\", \"num_comments\", \"sentiment_score\", \"nmf_topic\", \"over_18\", \"label\")\n# df.show()\n\n# StringIndexer to encode `overall_sentiment`\n# sentiment_indexer = StringIndexer(inputCol=\"overall_sentiment\", outputCol=\"sentiment_index\")\nlabel_indexer = StringIndexer(inputCol=\"label\", outputCol=\"label_index\")\n# df = sentiment_indexer.fit(df).transform(df)\ndf = label_indexer.fit(df).transform(df)\n# Dropping the `post_id` column\n# df = df.drop(\"post_id\", \"overall_sentiment\")\n\n# df = df.withColumn(\"label\", \n#                    when(df.label == \"YTA\", 0)\n#     ...",
                    "submissionTime": "2024-12-09T13:06:52.672GMT",
                    "completionTime": "2024-12-09T13:06:53.206GMT",
                    "stageIds": [
                      12,
                      13,
                      11
                    ],
                    "jobGroup": "8",
                    "status": "SUCCEEDED",
                    "numTasks": 202,
                    "numActiveTasks": 0,
                    "numCompletedTasks": 1,
                    "numSkippedTasks": 201,
                    "numFailedTasks": 0,
                    "numKilledTasks": 0,
                    "numCompletedIndices": 1,
                    "numActiveStages": 0,
                    "numCompletedStages": 1,
                    "numSkippedStages": 2,
                    "numFailedStages": 0,
                    "killedTasksSummary": {}
                  },
                  {
                    "displayName": "collect at StringIndexer.scala:204",
                    "dataWritten": 71549,
                    "dataRead": 621375091,
                    "rowCount": 3816425,
                    "usageDescription": "",
                    "jobId": 8,
                    "name": "collect at StringIndexer.scala:204",
                    "description": "Job group for statement 8:\nfrom pyspark.sql.functions import col\nfrom pyspark.ml.feature import VectorAssembler, StringIndexer\nfrom pyspark.ml.classification import RandomForestClassifier\nfrom pyspark.ml import Pipeline\nfrom pyspark.sql.functions import when\nfrom pyspark.ml.evaluation import MulticlassClassificationEvaluator\n\ndf_aita_nlp = spark.read.csv(file_path_aita_nlp, header=True, inferSchema=True)\ndf = aita_df_labeled.join(df_aita_nlp, on=\"post_id\", how=\"inner\")\ndf = df.select(\"score_post\", \"num_comments\", \"sentiment_score\", \"nmf_topic\", \"over_18\", \"label\")\n# df.show()\n\n# StringIndexer to encode `overall_sentiment`\n# sentiment_indexer = StringIndexer(inputCol=\"overall_sentiment\", outputCol=\"sentiment_index\")\nlabel_indexer = StringIndexer(inputCol=\"label\", outputCol=\"label_index\")\n# df = sentiment_indexer.fit(df).transform(df)\ndf = label_indexer.fit(df).transform(df)\n# Dropping the `post_id` column\n# df = df.drop(\"post_id\", \"overall_sentiment\")\n\n# df = df.withColumn(\"label\", \n#                    when(df.label == \"YTA\", 0)\n#     ...",
                    "submissionTime": "2024-12-09T13:06:41.974GMT",
                    "completionTime": "2024-12-09T13:06:52.630GMT",
                    "stageIds": [
                      9,
                      10
                    ],
                    "jobGroup": "8",
                    "status": "SUCCEEDED",
                    "numTasks": 201,
                    "numActiveTasks": 0,
                    "numCompletedTasks": 200,
                    "numSkippedTasks": 1,
                    "numFailedTasks": 0,
                    "numKilledTasks": 0,
                    "numCompletedIndices": 200,
                    "numActiveStages": 0,
                    "numCompletedStages": 1,
                    "numSkippedStages": 1,
                    "numFailedStages": 0,
                    "killedTasksSummary": {}
                  },
                  {
                    "displayName": "collect at StringIndexer.scala:204",
                    "dataWritten": 19349145,
                    "dataRead": 10211146432,
                    "rowCount": 9238521,
                    "usageDescription": "",
                    "jobId": 6,
                    "name": "collect at StringIndexer.scala:204",
                    "description": "Job group for statement 8:\nfrom pyspark.sql.functions import col\nfrom pyspark.ml.feature import VectorAssembler, StringIndexer\nfrom pyspark.ml.classification import RandomForestClassifier\nfrom pyspark.ml import Pipeline\nfrom pyspark.sql.functions import when\nfrom pyspark.ml.evaluation import MulticlassClassificationEvaluator\n\ndf_aita_nlp = spark.read.csv(file_path_aita_nlp, header=True, inferSchema=True)\ndf = aita_df_labeled.join(df_aita_nlp, on=\"post_id\", how=\"inner\")\ndf = df.select(\"score_post\", \"num_comments\", \"sentiment_score\", \"nmf_topic\", \"over_18\", \"label\")\n# df.show()\n\n# StringIndexer to encode `overall_sentiment`\n# sentiment_indexer = StringIndexer(inputCol=\"overall_sentiment\", outputCol=\"sentiment_index\")\nlabel_indexer = StringIndexer(inputCol=\"label\", outputCol=\"label_index\")\n# df = sentiment_indexer.fit(df).transform(df)\ndf = label_indexer.fit(df).transform(df)\n# Dropping the `post_id` column\n# df = df.drop(\"post_id\", \"overall_sentiment\")\n\n# df = df.withColumn(\"label\", \n#                    when(df.label == \"YTA\", 0)\n#     ...",
                    "submissionTime": "2024-12-09T13:01:30.113GMT",
                    "completionTime": "2024-12-09T13:06:39.443GMT",
                    "stageIds": [
                      6
                    ],
                    "jobGroup": "8",
                    "status": "SUCCEEDED",
                    "numTasks": 1,
                    "numActiveTasks": 0,
                    "numCompletedTasks": 1,
                    "numSkippedTasks": 0,
                    "numFailedTasks": 0,
                    "numKilledTasks": 0,
                    "numCompletedIndices": 1,
                    "numActiveStages": 0,
                    "numCompletedStages": 1,
                    "numSkippedStages": 0,
                    "numFailedStages": 0,
                    "killedTasksSummary": {}
                  },
                  {
                    "displayName": "collect at StringIndexer.scala:204",
                    "dataWritten": 621375091,
                    "dataRead": 10211146432,
                    "rowCount": 7632450,
                    "usageDescription": "",
                    "jobId": 5,
                    "name": "collect at StringIndexer.scala:204",
                    "description": "Job group for statement 8:\nfrom pyspark.sql.functions import col\nfrom pyspark.ml.feature import VectorAssembler, StringIndexer\nfrom pyspark.ml.classification import RandomForestClassifier\nfrom pyspark.ml import Pipeline\nfrom pyspark.sql.functions import when\nfrom pyspark.ml.evaluation import MulticlassClassificationEvaluator\n\ndf_aita_nlp = spark.read.csv(file_path_aita_nlp, header=True, inferSchema=True)\ndf = aita_df_labeled.join(df_aita_nlp, on=\"post_id\", how=\"inner\")\ndf = df.select(\"score_post\", \"num_comments\", \"sentiment_score\", \"nmf_topic\", \"over_18\", \"label\")\n# df.show()\n\n# StringIndexer to encode `overall_sentiment`\n# sentiment_indexer = StringIndexer(inputCol=\"overall_sentiment\", outputCol=\"sentiment_index\")\nlabel_indexer = StringIndexer(inputCol=\"label\", outputCol=\"label_index\")\n# df = sentiment_indexer.fit(df).transform(df)\ndf = label_indexer.fit(df).transform(df)\n# Dropping the `post_id` column\n# df = df.drop(\"post_id\", \"overall_sentiment\")\n\n# df = df.withColumn(\"label\", \n#                    when(df.label == \"YTA\", 0)\n#     ...",
                    "submissionTime": "2024-12-09T13:01:30.024GMT",
                    "completionTime": "2024-12-09T13:06:05.627GMT",
                    "stageIds": [
                      5
                    ],
                    "jobGroup": "8",
                    "status": "SUCCEEDED",
                    "numTasks": 1,
                    "numActiveTasks": 0,
                    "numCompletedTasks": 1,
                    "numSkippedTasks": 0,
                    "numFailedTasks": 0,
                    "numKilledTasks": 0,
                    "numCompletedIndices": 1,
                    "numActiveStages": 0,
                    "numCompletedStages": 1,
                    "numSkippedStages": 0,
                    "numFailedStages": 0,
                    "killedTasksSummary": {}
                  },
                  {
                    "displayName": "csv at NativeMethodAccessorImpl.java:0",
                    "dataWritten": 0,
                    "dataRead": 923307,
                    "rowCount": 32400,
                    "usageDescription": "",
                    "jobId": 3,
                    "name": "csv at NativeMethodAccessorImpl.java:0",
                    "description": "Job group for statement 8:\nfrom pyspark.sql.functions import col\nfrom pyspark.ml.feature import VectorAssembler, StringIndexer\nfrom pyspark.ml.classification import RandomForestClassifier\nfrom pyspark.ml import Pipeline\nfrom pyspark.sql.functions import when\nfrom pyspark.ml.evaluation import MulticlassClassificationEvaluator\n\ndf_aita_nlp = spark.read.csv(file_path_aita_nlp, header=True, inferSchema=True)\ndf = aita_df_labeled.join(df_aita_nlp, on=\"post_id\", how=\"inner\")\ndf = df.select(\"score_post\", \"num_comments\", \"sentiment_score\", \"nmf_topic\", \"over_18\", \"label\")\n# df.show()\n\n# StringIndexer to encode `overall_sentiment`\n# sentiment_indexer = StringIndexer(inputCol=\"overall_sentiment\", outputCol=\"sentiment_index\")\nlabel_indexer = StringIndexer(inputCol=\"label\", outputCol=\"label_index\")\n# df = sentiment_indexer.fit(df).transform(df)\ndf = label_indexer.fit(df).transform(df)\n# Dropping the `post_id` column\n# df = df.drop(\"post_id\", \"overall_sentiment\")\n\n# df = df.withColumn(\"label\", \n#                    when(df.label == \"YTA\", 0)\n#     ...",
                    "submissionTime": "2024-12-09T13:01:17.860GMT",
                    "completionTime": "2024-12-09T13:01:29.159GMT",
                    "stageIds": [
                      3
                    ],
                    "jobGroup": "8",
                    "status": "SUCCEEDED",
                    "numTasks": 1,
                    "numActiveTasks": 0,
                    "numCompletedTasks": 1,
                    "numSkippedTasks": 0,
                    "numFailedTasks": 0,
                    "numKilledTasks": 0,
                    "numCompletedIndices": 1,
                    "numActiveStages": 0,
                    "numCompletedStages": 1,
                    "numSkippedStages": 0,
                    "numFailedStages": 0,
                    "killedTasksSummary": {}
                  },
                  {
                    "displayName": "csv at NativeMethodAccessorImpl.java:0",
                    "dataWritten": 0,
                    "dataRead": 65536,
                    "rowCount": 1,
                    "usageDescription": "",
                    "jobId": 2,
                    "name": "csv at NativeMethodAccessorImpl.java:0",
                    "description": "Job group for statement 8:\nfrom pyspark.sql.functions import col\nfrom pyspark.ml.feature import VectorAssembler, StringIndexer\nfrom pyspark.ml.classification import RandomForestClassifier\nfrom pyspark.ml import Pipeline\nfrom pyspark.sql.functions import when\nfrom pyspark.ml.evaluation import MulticlassClassificationEvaluator\n\ndf_aita_nlp = spark.read.csv(file_path_aita_nlp, header=True, inferSchema=True)\ndf = aita_df_labeled.join(df_aita_nlp, on=\"post_id\", how=\"inner\")\ndf = df.select(\"score_post\", \"num_comments\", \"sentiment_score\", \"nmf_topic\", \"over_18\", \"label\")\n# df.show()\n\n# StringIndexer to encode `overall_sentiment`\n# sentiment_indexer = StringIndexer(inputCol=\"overall_sentiment\", outputCol=\"sentiment_index\")\nlabel_indexer = StringIndexer(inputCol=\"label\", outputCol=\"label_index\")\n# df = sentiment_indexer.fit(df).transform(df)\ndf = label_indexer.fit(df).transform(df)\n# Dropping the `post_id` column\n# df = df.drop(\"post_id\", \"overall_sentiment\")\n\n# df = df.withColumn(\"label\", \n#                    when(df.label == \"YTA\", 0)\n#     ...",
                    "submissionTime": "2024-12-09T13:01:09.096GMT",
                    "completionTime": "2024-12-09T13:01:17.690GMT",
                    "stageIds": [
                      2
                    ],
                    "jobGroup": "8",
                    "status": "SUCCEEDED",
                    "numTasks": 1,
                    "numActiveTasks": 0,
                    "numCompletedTasks": 1,
                    "numSkippedTasks": 0,
                    "numFailedTasks": 0,
                    "numKilledTasks": 0,
                    "numCompletedIndices": 1,
                    "numActiveStages": 0,
                    "numCompletedStages": 1,
                    "numSkippedStages": 0,
                    "numFailedStages": 0,
                    "killedTasksSummary": {}
                  }
                ],
                "limit": 20,
                "rule": "ALL_DESC"
              },
              "session_id": "1",
              "normalized_state": "finished",
              "queued_time": "2024-12-09T12:54:55.9370534Z",
              "session_start_time": null,
              "execution_start_time": "2024-12-09T13:01:03.5632108Z",
              "execution_finish_time": "2024-12-09T13:06:58.1032058Z",
              "parent_msg_id": "f44d78d9-7f90-4293-a899-fdf4c5d5f4f0"
            },
            "text/plain": "StatementMeta(b1a6d09a-cd79-40bd-b154-9f59912128df, 1, 8, Finished, Available, Finished)"
          },
          "metadata": {}
        }
      ],
      "execution_count": 3,
      "metadata": {
        "jupyter": {
          "source_hidden": false,
          "outputs_hidden": false
        },
        "nteract": {
          "transient": {
            "deleting": false
          }
        },
        "gather": {
          "logged": 1733749618294
        }
      }
    },
    {
      "cell_type": "code",
      "source": [
        "from pyspark.sql.functions import col\n",
        "from pyspark.ml.feature import VectorAssembler, StringIndexer\n",
        "from pyspark.ml.classification import RandomForestClassifier\n",
        "from pyspark.ml import Pipeline\n",
        "from pyspark.sql.functions import when\n",
        "from pyspark.ml.evaluation import MulticlassClassificationEvaluator\n",
        "\n",
        "df_aita_nlp = spark.read.csv(file_path_aita_nlp, header=True, inferSchema=True)\n",
        "df = aita_df_labeled.join(df_aita_nlp, on=\"post_id\", how=\"inner\")\n",
        "df = df.select(\"score_post\", \"num_comments\", \"sentiment_score\", \"nmf_topic\", \"over_18\", \"label\")\n",
        "# df.show()\n",
        "\n",
        "# StringIndexer to encode `overall_sentiment`\n",
        "# sentiment_indexer = StringIndexer(inputCol=\"overall_sentiment\", outputCol=\"sentiment_index\")\n",
        "label_indexer = StringIndexer(inputCol=\"label\", outputCol=\"label_index\")\n",
        "# df = sentiment_indexer.fit(df).transform(df)\n",
        "df = label_indexer.fit(df).transform(df)\n",
        "# Dropping the `post_id` column\n",
        "# df = df.drop(\"post_id\", \"overall_sentiment\")\n",
        "\n",
        "# df = df.withColumn(\"label\", \n",
        "#                    when(df.label == \"YTA\", 0)\n",
        "#                    .when(df.label == \"NTA\", 1)\n",
        "#                    .when(df.label == \"ESH\", 2)\n",
        "#                    .when(df.label == \"NAH\", 3)\n",
        "#                    .when(df.label == \"INFO\", 4)\n",
        "#                    .otherwise(None))\n",
        "df = df.withColumn(\"over_18\", \n",
        "                   when(df.over_18 == \"TRUE\", 1)\n",
        "                   .when(df.over_18 == \"FALSE\", 0)\n",
        "                   .otherwise(None))\n",
        "\n",
        "df = df.withColumn(\"score_post\", col(\"score_post\").cast(\"int\"))\n",
        "df = df.withColumn(\"num_comments\", col(\"num_comments\").cast(\"int\"))\n",
        "\n",
        "df = df.dropna(subset=[\"score_post\", \"num_comments\", \"sentiment_score\", \"nmf_topic\", \"label_index\"])\n",
        "\n",
        "# Data preview\n",
        "df.show()\n",
        "\n",
        "# Number of rows\n",
        "num_rows = df.count()\n",
        "\n",
        "# Number of columns\n",
        "num_cols = len(df.columns)\n",
        "\n",
        "# Print the shape\n",
        "print(f\"Shape: ({num_rows}, {num_cols})\")\n",
        "\n"
      ],
      "outputs": [
        {
          "output_type": "display_data",
          "data": {
            "application/vnd.livy.statement-meta+json": {
              "spark_pool": null,
              "statement_id": null,
              "statement_ids": null,
              "state": "waiting",
              "livy_statement_state": null,
              "spark_jobs": null,
              "session_id": null,
              "normalized_state": "waiting",
              "queued_time": "2024-12-09T06:07:20.7221805Z",
              "session_start_time": null,
              "execution_start_time": null,
              "execution_finish_time": null,
              "parent_msg_id": "ab267bfa-f74d-492a-b649-3fbfb1d234e4"
            },
            "text/plain": "StatementMeta(, , , Waiting, , Waiting)"
          },
          "metadata": {}
        },
        {
          "output_type": "stream",
          "name": "stdout",
          "text": "+----------+------------+---------------+---------+-------+-----+\n|score_post|num_comments|sentiment_score|nmf_topic|over_18|label|\n+----------+------------+---------------+---------+-------+-----+\n|         4|          26|           -0.2|        3|  false|  NTA|\n|         0|          26|      0.6666667|        1|  false|  YTA|\n|         0|          26|      0.6666667|        1|  false|  YTA|\n|        90|          44|     0.14285715|        1|  false|  ESH|\n|         7|          29|    -0.33333334|        1|  false|  NTA|\n|       504|         253|    -0.33333334|        2|  false|  NTA|\n|        19|          34|           -0.3|        3|  false|  YTA|\n|        10|          27|     -0.3846154|        1|  false| INFO|\n|        10|          30|            0.0|        2|  false|  NTA|\n|      6184|        2216|         -0.375|        3|  false|  NTA|\n|      6184|        2216|         -0.375|        3|  false|  ESH|\n|         7|          32|           -0.6|        3|  false|  YTA|\n|         7|          32|           -0.6|        3|  false|  ESH|\n|       196|         377|         -0.125|        2|  false|  NTA|\n|         8|          28|   -0.032258064|        2|  false|  YTA|\n|       771|         254|     0.15789473|        2|  false| INFO|\n|       771|         254|     0.15789473|        2|  false|  YTA|\n|        24|          31|           -1.0|        1|  false|  NTA|\n|        13|          76|    -0.33333334|        2|  false|  YTA|\n|        13|          76|    -0.33333334|        2|  false|  YTA|\n+----------+------------+---------------+---------+-------+-----+\nonly showing top 20 rows\n\n+----------+------------+---------------+---------+-------+-----+-----------+\n|score_post|num_comments|sentiment_score|nmf_topic|over_18|label|label_index|\n+----------+------------+---------------+---------+-------+-----+-----------+\n|         4|          26|           -0.2|        3|   null|  NTA|        1.0|\n|         0|          26|      0.6666667|        1|   null|  YTA|        0.0|\n|         0|          26|      0.6666667|        1|   null|  YTA|        0.0|\n|        90|          44|     0.14285715|        1|   null|  ESH|        2.0|\n|         7|          29|    -0.33333334|        1|   null|  NTA|        1.0|\n|       504|         253|    -0.33333334|        2|   null|  NTA|        1.0|\n|        19|          34|           -0.3|        3|   null|  YTA|        0.0|\n|        10|          27|     -0.3846154|        1|   null| INFO|        4.0|\n|        10|          30|            0.0|        2|   null|  NTA|        1.0|\n|      6184|        2216|         -0.375|        3|   null|  NTA|        1.0|\n|      6184|        2216|         -0.375|        3|   null|  ESH|        2.0|\n|         7|          32|           -0.6|        3|   null|  YTA|        0.0|\n|         7|          32|           -0.6|        3|   null|  ESH|        2.0|\n|       196|         377|         -0.125|        2|   null|  NTA|        1.0|\n|         8|          28|   -0.032258064|        2|   null|  YTA|        0.0|\n|       771|         254|     0.15789473|        2|   null| INFO|        4.0|\n|       771|         254|     0.15789473|        2|   null|  YTA|        0.0|\n|        24|          31|           -1.0|        1|   null|  NTA|        1.0|\n|        13|          76|    -0.33333334|        2|   null|  YTA|        0.0|\n|        13|          76|    -0.33333334|        2|   null|  YTA|        0.0|\n+----------+------------+---------------+---------+-------+-----+-----------+\nonly showing top 20 rows\n\nShape: (115389, 7)\n"
        }
      ],
      "execution_count": 3,
      "metadata": {
        "jupyter": {
          "source_hidden": false,
          "outputs_hidden": false
        },
        "nteract": {
          "transient": {
            "deleting": false
          }
        },
        "gather": {
          "logged": 1733726803310
        },
        "editable": false,
        "run_control": {
          "frozen": true
        }
      }
    },
    {
      "cell_type": "code",
      "source": [
        "# Check the number of partitions\n",
        "num_partitions = df.rdd.getNumPartitions()\n",
        "print(f\"Number of partitions: {num_partitions}\")"
      ],
      "outputs": [
        {
          "output_type": "display_data",
          "data": {
            "application/vnd.livy.statement-meta+json": {
              "spark_pool": "c8d5f074-6ca6-4bbb-bbf0-d4e3ba721f85",
              "statement_id": 10,
              "statement_ids": [
                10
              ],
              "state": "finished",
              "livy_statement_state": "available",
              "spark_jobs": {
                "numbers": {
                  "FAILED": 0,
                  "SUCCEEDED": 2,
                  "RUNNING": 0,
                  "UNKNOWN": 0
                },
                "jobs": [
                  {
                    "displayName": "javaToPython at NativeMethodAccessorImpl.java:0",
                    "dataWritten": 19349145,
                    "dataRead": 10211146432,
                    "rowCount": 9238521,
                    "usageDescription": "",
                    "jobId": 33,
                    "name": "javaToPython at NativeMethodAccessorImpl.java:0",
                    "description": "Job group for statement 10:\n# Check the number of partitions\nnum_partitions = df.rdd.getNumPartitions()\nprint(f\"Number of partitions: {num_partitions}\")",
                    "submissionTime": "2024-12-09T05:32:28.792GMT",
                    "completionTime": "2024-12-09T05:37:10.450GMT",
                    "stageIds": [
                      49
                    ],
                    "jobGroup": "10",
                    "status": "SUCCEEDED",
                    "numTasks": 1,
                    "numActiveTasks": 0,
                    "numCompletedTasks": 1,
                    "numSkippedTasks": 0,
                    "numFailedTasks": 0,
                    "numKilledTasks": 0,
                    "numCompletedIndices": 1,
                    "numActiveStages": 0,
                    "numCompletedStages": 1,
                    "numSkippedStages": 0,
                    "numFailedStages": 0,
                    "killedTasksSummary": {}
                  },
                  {
                    "displayName": "javaToPython at NativeMethodAccessorImpl.java:0",
                    "dataWritten": 677051163,
                    "dataRead": 10211146432,
                    "rowCount": 7632450,
                    "usageDescription": "",
                    "jobId": 31,
                    "name": "javaToPython at NativeMethodAccessorImpl.java:0",
                    "description": "Job group for statement 10:\n# Check the number of partitions\nnum_partitions = df.rdd.getNumPartitions()\nprint(f\"Number of partitions: {num_partitions}\")",
                    "submissionTime": "2024-12-09T05:32:28.748GMT",
                    "completionTime": "2024-12-09T05:37:18.635GMT",
                    "stageIds": [
                      47
                    ],
                    "jobGroup": "10",
                    "status": "SUCCEEDED",
                    "numTasks": 1,
                    "numActiveTasks": 0,
                    "numCompletedTasks": 1,
                    "numSkippedTasks": 0,
                    "numFailedTasks": 0,
                    "numKilledTasks": 0,
                    "numCompletedIndices": 1,
                    "numActiveStages": 0,
                    "numCompletedStages": 1,
                    "numSkippedStages": 0,
                    "numFailedStages": 0,
                    "killedTasksSummary": {}
                  }
                ],
                "limit": 20,
                "rule": "ALL_DESC"
              },
              "session_id": "0",
              "normalized_state": "finished",
              "queued_time": "2024-12-09T05:32:28.4991734Z",
              "session_start_time": null,
              "execution_start_time": "2024-12-09T05:32:28.6445765Z",
              "execution_finish_time": "2024-12-09T05:37:23.8771084Z",
              "parent_msg_id": "f78dffa9-5a88-4ef9-9e17-0bf0ebab81e2"
            },
            "text/plain": "StatementMeta(c8d5f074-6ca6-4bbb-bbf0-d4e3ba721f85, 0, 10, Finished, Available, Finished)"
          },
          "metadata": {}
        },
        {
          "output_type": "stream",
          "name": "stdout",
          "text": "Number of partitions: 200\n"
        }
      ],
      "execution_count": 5,
      "metadata": {
        "jupyter": {
          "source_hidden": false,
          "outputs_hidden": false
        },
        "nteract": {
          "transient": {
            "deleting": false
          }
        },
        "gather": {
          "logged": 1733722644173
        },
        "editable": false,
        "run_control": {
          "frozen": true
        }
      }
    },
    {
      "cell_type": "code",
      "source": [
        "# Feature vector creation\n",
        "feature_cols = [col for col in df.columns if col in [\"score_post\", \"num_comments\", \"sentiment_score\", \"nmf_topic\"]]\n",
        "assembler = VectorAssembler(inputCols=feature_cols, outputCol=\"features\")\n",
        "\n",
        "# RandomForest Classifier\n",
        "rf = RandomForestClassifier(featuresCol=\"features\", labelCol=\"label_index\", numTrees=100)\n",
        "\n",
        "# Pipeline setup\n",
        "pipeline = Pipeline(stages=[assembler, rf])\n",
        "\n",
        "# Train-test split\n",
        "train_data, test_data = df.randomSplit([0.8, 0.2], seed=42)\n",
        "\n",
        "# Train the model\n",
        "model = pipeline.fit(train_data)\n",
        "\n",
        "# Make predictions\n",
        "predictions = model.transform(test_data)\n",
        "\n",
        "# Evaluate the model\n",
        "evaluator = MulticlassClassificationEvaluator(labelCol=\"label_index\", predictionCol=\"prediction\", metricName=\"accuracy\")\n",
        "accuracy = evaluator.evaluate(predictions)\n",
        "print(f\"Test Accuracy: {accuracy}\")\n",
        "\n",
        "# Extract feature importances from the RandomForest model\n",
        "rf_model = model.stages[-1]  # Last stage of the pipeline is the RandomForestClassifier\n",
        "importances = rf_model.featureImportances\n",
        "\n",
        "# Map feature importances to their corresponding column names\n",
        "importance_dict = {feature: importance for feature, importance in zip(feature_cols, importances)}\n",
        "sorted_importances = sorted(importance_dict.items(), key=lambda x: x[1], reverse=True)\n",
        "\n",
        "# Display feature importances\n",
        "print(\"\\nFeature Importances:\")\n",
        "for feature, importance in sorted_importances:\n",
        "    print(f\"{feature}: {importance}\")"
      ],
      "outputs": [
        {
          "output_type": "display_data",
          "data": {
            "application/vnd.livy.statement-meta+json": {
              "spark_pool": "b1a6d09a-cd79-40bd-b154-9f59912128df",
              "statement_id": 9,
              "statement_ids": [
                9
              ],
              "state": "finished",
              "livy_statement_state": "available",
              "spark_jobs": {
                "numbers": {
                  "RUNNING": 0,
                  "UNKNOWN": 0,
                  "FAILED": 0,
                  "SUCCEEDED": 17
                },
                "jobs": [
                  {
                    "displayName": "collectAsMap at MulticlassMetrics.scala:61",
                    "dataWritten": 79722,
                    "dataRead": 677130885,
                    "rowCount": 3818801,
                    "usageDescription": "",
                    "jobId": 34,
                    "name": "collectAsMap at MulticlassMetrics.scala:61",
                    "description": "Job group for statement 9:\n# Feature vector creation\nfeature_cols = [col for col in df.columns if col in [\"score_post\", \"num_comments\", \"sentiment_score\", \"nmf_topic\"]]\nassembler = VectorAssembler(inputCols=feature_cols, outputCol=\"features\")\n\n# RandomForest Classifier\nrf = RandomForestClassifier(featuresCol=\"features\", labelCol=\"label_index\", numTrees=100)\n\n# Pipeline setup\npipeline = Pipeline(stages=[assembler, rf])\n\n# Train-test split\ntrain_data, test_data = df.randomSplit([0.8, 0.2], seed=42)\n\n# Train the model\nmodel = pipeline.fit(train_data)\n\n# Make predictions\npredictions = model.transform(test_data)\n\n# Evaluate the model\nevaluator = MulticlassClassificationEvaluator(labelCol=\"label_index\", predictionCol=\"prediction\", metricName=\"accuracy\")\naccuracy = evaluator.evaluate(predictions)\nprint(f\"Test Accuracy: {accuracy}\")\n\n# Extract feature importances from the RandomForest model\nrf_model = model.stages[-1]  # Last stage of the pipeline is the RandomForestClassifier\nimportances = rf_model.featureImportances\n\n# Map feature importance...",
                    "submissionTime": "2024-12-09T13:27:42.117GMT",
                    "completionTime": "2024-12-09T13:27:45.807GMT",
                    "stageIds": [
                      56,
                      57,
                      58
                    ],
                    "jobGroup": "9",
                    "status": "SUCCEEDED",
                    "numTasks": 401,
                    "numActiveTasks": 0,
                    "numCompletedTasks": 400,
                    "numSkippedTasks": 1,
                    "numFailedTasks": 0,
                    "numKilledTasks": 0,
                    "numCompletedIndices": 400,
                    "numActiveStages": 0,
                    "numCompletedStages": 2,
                    "numSkippedStages": 1,
                    "numFailedStages": 0,
                    "killedTasksSummary": {}
                  },
                  {
                    "displayName": "rdd at MulticlassClassificationEvaluator.scala:197",
                    "dataWritten": 19349145,
                    "dataRead": 10211146432,
                    "rowCount": 9238521,
                    "usageDescription": "",
                    "jobId": 32,
                    "name": "rdd at MulticlassClassificationEvaluator.scala:197",
                    "description": "Job group for statement 9:\n# Feature vector creation\nfeature_cols = [col for col in df.columns if col in [\"score_post\", \"num_comments\", \"sentiment_score\", \"nmf_topic\"]]\nassembler = VectorAssembler(inputCols=feature_cols, outputCol=\"features\")\n\n# RandomForest Classifier\nrf = RandomForestClassifier(featuresCol=\"features\", labelCol=\"label_index\", numTrees=100)\n\n# Pipeline setup\npipeline = Pipeline(stages=[assembler, rf])\n\n# Train-test split\ntrain_data, test_data = df.randomSplit([0.8, 0.2], seed=42)\n\n# Train the model\nmodel = pipeline.fit(train_data)\n\n# Make predictions\npredictions = model.transform(test_data)\n\n# Evaluate the model\nevaluator = MulticlassClassificationEvaluator(labelCol=\"label_index\", predictionCol=\"prediction\", metricName=\"accuracy\")\naccuracy = evaluator.evaluate(predictions)\nprint(f\"Test Accuracy: {accuracy}\")\n\n# Extract feature importances from the RandomForest model\nrf_model = model.stages[-1]  # Last stage of the pipeline is the RandomForestClassifier\nimportances = rf_model.featureImportances\n\n# Map feature importance...",
                    "submissionTime": "2024-12-09T13:22:41.225GMT",
                    "completionTime": "2024-12-09T13:27:40.770GMT",
                    "stageIds": [
                      53
                    ],
                    "jobGroup": "9",
                    "status": "SUCCEEDED",
                    "numTasks": 1,
                    "numActiveTasks": 0,
                    "numCompletedTasks": 1,
                    "numSkippedTasks": 0,
                    "numFailedTasks": 0,
                    "numKilledTasks": 0,
                    "numCompletedIndices": 1,
                    "numActiveStages": 0,
                    "numCompletedStages": 1,
                    "numSkippedStages": 0,
                    "numFailedStages": 0,
                    "killedTasksSummary": {}
                  },
                  {
                    "displayName": "rdd at MulticlassClassificationEvaluator.scala:197",
                    "dataWritten": 677051163,
                    "dataRead": 10211146432,
                    "rowCount": 7632450,
                    "usageDescription": "",
                    "jobId": 30,
                    "name": "rdd at MulticlassClassificationEvaluator.scala:197",
                    "description": "Job group for statement 9:\n# Feature vector creation\nfeature_cols = [col for col in df.columns if col in [\"score_post\", \"num_comments\", \"sentiment_score\", \"nmf_topic\"]]\nassembler = VectorAssembler(inputCols=feature_cols, outputCol=\"features\")\n\n# RandomForest Classifier\nrf = RandomForestClassifier(featuresCol=\"features\", labelCol=\"label_index\", numTrees=100)\n\n# Pipeline setup\npipeline = Pipeline(stages=[assembler, rf])\n\n# Train-test split\ntrain_data, test_data = df.randomSplit([0.8, 0.2], seed=42)\n\n# Train the model\nmodel = pipeline.fit(train_data)\n\n# Make predictions\npredictions = model.transform(test_data)\n\n# Evaluate the model\nevaluator = MulticlassClassificationEvaluator(labelCol=\"label_index\", predictionCol=\"prediction\", metricName=\"accuracy\")\naccuracy = evaluator.evaluate(predictions)\nprint(f\"Test Accuracy: {accuracy}\")\n\n# Extract feature importances from the RandomForest model\nrf_model = model.stages[-1]  # Last stage of the pipeline is the RandomForestClassifier\nimportances = rf_model.featureImportances\n\n# Map feature importance...",
                    "submissionTime": "2024-12-09T13:22:41.181GMT",
                    "completionTime": "2024-12-09T13:27:18.387GMT",
                    "stageIds": [
                      51
                    ],
                    "jobGroup": "9",
                    "status": "SUCCEEDED",
                    "numTasks": 1,
                    "numActiveTasks": 0,
                    "numCompletedTasks": 1,
                    "numSkippedTasks": 0,
                    "numFailedTasks": 0,
                    "numKilledTasks": 0,
                    "numCompletedIndices": 1,
                    "numActiveStages": 0,
                    "numCompletedStages": 1,
                    "numSkippedStages": 0,
                    "numFailedStages": 0,
                    "killedTasksSummary": {}
                  },
                  {
                    "displayName": "rdd at ClassificationSummary.scala:58",
                    "dataWritten": 19349145,
                    "dataRead": 10211146432,
                    "rowCount": 9238521,
                    "usageDescription": "",
                    "jobId": 28,
                    "name": "rdd at ClassificationSummary.scala:58",
                    "description": "Job group for statement 9:\n# Feature vector creation\nfeature_cols = [col for col in df.columns if col in [\"score_post\", \"num_comments\", \"sentiment_score\", \"nmf_topic\"]]\nassembler = VectorAssembler(inputCols=feature_cols, outputCol=\"features\")\n\n# RandomForest Classifier\nrf = RandomForestClassifier(featuresCol=\"features\", labelCol=\"label_index\", numTrees=100)\n\n# Pipeline setup\npipeline = Pipeline(stages=[assembler, rf])\n\n# Train-test split\ntrain_data, test_data = df.randomSplit([0.8, 0.2], seed=42)\n\n# Train the model\nmodel = pipeline.fit(train_data)\n\n# Make predictions\npredictions = model.transform(test_data)\n\n# Evaluate the model\nevaluator = MulticlassClassificationEvaluator(labelCol=\"label_index\", predictionCol=\"prediction\", metricName=\"accuracy\")\naccuracy = evaluator.evaluate(predictions)\nprint(f\"Test Accuracy: {accuracy}\")\n\n# Extract feature importances from the RandomForest model\nrf_model = model.stages[-1]  # Last stage of the pipeline is the RandomForestClassifier\nimportances = rf_model.featureImportances\n\n# Map feature importance...",
                    "submissionTime": "2024-12-09T13:17:59.404GMT",
                    "completionTime": "2024-12-09T13:22:39.248GMT",
                    "stageIds": [
                      48
                    ],
                    "jobGroup": "9",
                    "status": "SUCCEEDED",
                    "numTasks": 1,
                    "numActiveTasks": 0,
                    "numCompletedTasks": 1,
                    "numSkippedTasks": 0,
                    "numFailedTasks": 0,
                    "numKilledTasks": 0,
                    "numCompletedIndices": 1,
                    "numActiveStages": 0,
                    "numCompletedStages": 1,
                    "numSkippedStages": 0,
                    "numFailedStages": 0,
                    "killedTasksSummary": {}
                  },
                  {
                    "displayName": "rdd at ClassificationSummary.scala:58",
                    "dataWritten": 677051163,
                    "dataRead": 10211146432,
                    "rowCount": 7632450,
                    "usageDescription": "",
                    "jobId": 26,
                    "name": "rdd at ClassificationSummary.scala:58",
                    "description": "Job group for statement 9:\n# Feature vector creation\nfeature_cols = [col for col in df.columns if col in [\"score_post\", \"num_comments\", \"sentiment_score\", \"nmf_topic\"]]\nassembler = VectorAssembler(inputCols=feature_cols, outputCol=\"features\")\n\n# RandomForest Classifier\nrf = RandomForestClassifier(featuresCol=\"features\", labelCol=\"label_index\", numTrees=100)\n\n# Pipeline setup\npipeline = Pipeline(stages=[assembler, rf])\n\n# Train-test split\ntrain_data, test_data = df.randomSplit([0.8, 0.2], seed=42)\n\n# Train the model\nmodel = pipeline.fit(train_data)\n\n# Make predictions\npredictions = model.transform(test_data)\n\n# Evaluate the model\nevaluator = MulticlassClassificationEvaluator(labelCol=\"label_index\", predictionCol=\"prediction\", metricName=\"accuracy\")\naccuracy = evaluator.evaluate(predictions)\nprint(f\"Test Accuracy: {accuracy}\")\n\n# Extract feature importances from the RandomForest model\nrf_model = model.stages[-1]  # Last stage of the pipeline is the RandomForestClassifier\nimportances = rf_model.featureImportances\n\n# Map feature importance...",
                    "submissionTime": "2024-12-09T13:17:59.360GMT",
                    "completionTime": "2024-12-09T13:22:34.267GMT",
                    "stageIds": [
                      46
                    ],
                    "jobGroup": "9",
                    "status": "SUCCEEDED",
                    "numTasks": 1,
                    "numActiveTasks": 0,
                    "numCompletedTasks": 1,
                    "numSkippedTasks": 0,
                    "numFailedTasks": 0,
                    "numKilledTasks": 0,
                    "numCompletedIndices": 1,
                    "numActiveStages": 0,
                    "numCompletedStages": 1,
                    "numSkippedStages": 0,
                    "numFailedStages": 0,
                    "killedTasksSummary": {}
                  },
                  {
                    "displayName": "collectAsMap at RandomForest.scala:663",
                    "dataWritten": 40495093,
                    "dataRead": 73435069,
                    "rowCount": 683241,
                    "usageDescription": "",
                    "jobId": 25,
                    "name": "collectAsMap at RandomForest.scala:663",
                    "description": "Job group for statement 9:\n# Feature vector creation\nfeature_cols = [col for col in df.columns if col in [\"score_post\", \"num_comments\", \"sentiment_score\", \"nmf_topic\"]]\nassembler = VectorAssembler(inputCols=feature_cols, outputCol=\"features\")\n\n# RandomForest Classifier\nrf = RandomForestClassifier(featuresCol=\"features\", labelCol=\"label_index\", numTrees=100)\n\n# Pipeline setup\npipeline = Pipeline(stages=[assembler, rf])\n\n# Train-test split\ntrain_data, test_data = df.randomSplit([0.8, 0.2], seed=42)\n\n# Train the model\nmodel = pipeline.fit(train_data)\n\n# Make predictions\npredictions = model.transform(test_data)\n\n# Evaluate the model\nevaluator = MulticlassClassificationEvaluator(labelCol=\"label_index\", predictionCol=\"prediction\", metricName=\"accuracy\")\naccuracy = evaluator.evaluate(predictions)\nprint(f\"Test Accuracy: {accuracy}\")\n\n# Extract feature importances from the RandomForest model\nrf_model = model.stages[-1]  # Last stage of the pipeline is the RandomForestClassifier\nimportances = rf_model.featureImportances\n\n# Map feature importance...",
                    "submissionTime": "2024-12-09T13:17:57.678GMT",
                    "completionTime": "2024-12-09T13:17:58.966GMT",
                    "stageIds": [
                      45,
                      43,
                      44
                    ],
                    "jobGroup": "9",
                    "status": "SUCCEEDED",
                    "numTasks": 401,
                    "numActiveTasks": 0,
                    "numCompletedTasks": 400,
                    "numSkippedTasks": 1,
                    "numFailedTasks": 0,
                    "numKilledTasks": 0,
                    "numCompletedIndices": 400,
                    "numActiveStages": 0,
                    "numCompletedStages": 2,
                    "numSkippedStages": 1,
                    "numFailedStages": 0,
                    "killedTasksSummary": {}
                  },
                  {
                    "displayName": "collectAsMap at RandomForest.scala:663",
                    "dataWritten": 33428965,
                    "dataRead": 66368941,
                    "rowCount": 381241,
                    "usageDescription": "",
                    "jobId": 24,
                    "name": "collectAsMap at RandomForest.scala:663",
                    "description": "Job group for statement 9:\n# Feature vector creation\nfeature_cols = [col for col in df.columns if col in [\"score_post\", \"num_comments\", \"sentiment_score\", \"nmf_topic\"]]\nassembler = VectorAssembler(inputCols=feature_cols, outputCol=\"features\")\n\n# RandomForest Classifier\nrf = RandomForestClassifier(featuresCol=\"features\", labelCol=\"label_index\", numTrees=100)\n\n# Pipeline setup\npipeline = Pipeline(stages=[assembler, rf])\n\n# Train-test split\ntrain_data, test_data = df.randomSplit([0.8, 0.2], seed=42)\n\n# Train the model\nmodel = pipeline.fit(train_data)\n\n# Make predictions\npredictions = model.transform(test_data)\n\n# Evaluate the model\nevaluator = MulticlassClassificationEvaluator(labelCol=\"label_index\", predictionCol=\"prediction\", metricName=\"accuracy\")\naccuracy = evaluator.evaluate(predictions)\nprint(f\"Test Accuracy: {accuracy}\")\n\n# Extract feature importances from the RandomForest model\nrf_model = model.stages[-1]  # Last stage of the pipeline is the RandomForestClassifier\nimportances = rf_model.featureImportances\n\n# Map feature importance...",
                    "submissionTime": "2024-12-09T13:17:56.911GMT",
                    "completionTime": "2024-12-09T13:17:57.616GMT",
                    "stageIds": [
                      42,
                      40,
                      41
                    ],
                    "jobGroup": "9",
                    "status": "SUCCEEDED",
                    "numTasks": 401,
                    "numActiveTasks": 0,
                    "numCompletedTasks": 400,
                    "numSkippedTasks": 1,
                    "numFailedTasks": 0,
                    "numKilledTasks": 0,
                    "numCompletedIndices": 400,
                    "numActiveStages": 0,
                    "numCompletedStages": 2,
                    "numSkippedStages": 1,
                    "numFailedStages": 0,
                    "killedTasksSummary": {}
                  },
                  {
                    "displayName": "collectAsMap at RandomForest.scala:663",
                    "dataWritten": 28578051,
                    "dataRead": 61518027,
                    "rowCount": 221241,
                    "usageDescription": "",
                    "jobId": 23,
                    "name": "collectAsMap at RandomForest.scala:663",
                    "description": "Job group for statement 9:\n# Feature vector creation\nfeature_cols = [col for col in df.columns if col in [\"score_post\", \"num_comments\", \"sentiment_score\", \"nmf_topic\"]]\nassembler = VectorAssembler(inputCols=feature_cols, outputCol=\"features\")\n\n# RandomForest Classifier\nrf = RandomForestClassifier(featuresCol=\"features\", labelCol=\"label_index\", numTrees=100)\n\n# Pipeline setup\npipeline = Pipeline(stages=[assembler, rf])\n\n# Train-test split\ntrain_data, test_data = df.randomSplit([0.8, 0.2], seed=42)\n\n# Train the model\nmodel = pipeline.fit(train_data)\n\n# Make predictions\npredictions = model.transform(test_data)\n\n# Evaluate the model\nevaluator = MulticlassClassificationEvaluator(labelCol=\"label_index\", predictionCol=\"prediction\", metricName=\"accuracy\")\naccuracy = evaluator.evaluate(predictions)\nprint(f\"Test Accuracy: {accuracy}\")\n\n# Extract feature importances from the RandomForest model\nrf_model = model.stages[-1]  # Last stage of the pipeline is the RandomForestClassifier\nimportances = rf_model.featureImportances\n\n# Map feature importance...",
                    "submissionTime": "2024-12-09T13:17:55.545GMT",
                    "completionTime": "2024-12-09T13:17:56.871GMT",
                    "stageIds": [
                      37,
                      38,
                      39
                    ],
                    "jobGroup": "9",
                    "status": "SUCCEEDED",
                    "numTasks": 401,
                    "numActiveTasks": 0,
                    "numCompletedTasks": 400,
                    "numSkippedTasks": 1,
                    "numFailedTasks": 0,
                    "numKilledTasks": 0,
                    "numCompletedIndices": 400,
                    "numActiveStages": 0,
                    "numCompletedStages": 2,
                    "numSkippedStages": 1,
                    "numFailedStages": 0,
                    "killedTasksSummary": {}
                  },
                  {
                    "displayName": "collectAsMap at RandomForest.scala:663",
                    "dataWritten": 25390419,
                    "dataRead": 58330395,
                    "rowCount": 141241,
                    "usageDescription": "",
                    "jobId": 22,
                    "name": "collectAsMap at RandomForest.scala:663",
                    "description": "Job group for statement 9:\n# Feature vector creation\nfeature_cols = [col for col in df.columns if col in [\"score_post\", \"num_comments\", \"sentiment_score\", \"nmf_topic\"]]\nassembler = VectorAssembler(inputCols=feature_cols, outputCol=\"features\")\n\n# RandomForest Classifier\nrf = RandomForestClassifier(featuresCol=\"features\", labelCol=\"label_index\", numTrees=100)\n\n# Pipeline setup\npipeline = Pipeline(stages=[assembler, rf])\n\n# Train-test split\ntrain_data, test_data = df.randomSplit([0.8, 0.2], seed=42)\n\n# Train the model\nmodel = pipeline.fit(train_data)\n\n# Make predictions\npredictions = model.transform(test_data)\n\n# Evaluate the model\nevaluator = MulticlassClassificationEvaluator(labelCol=\"label_index\", predictionCol=\"prediction\", metricName=\"accuracy\")\naccuracy = evaluator.evaluate(predictions)\nprint(f\"Test Accuracy: {accuracy}\")\n\n# Extract feature importances from the RandomForest model\nrf_model = model.stages[-1]  # Last stage of the pipeline is the RandomForestClassifier\nimportances = rf_model.featureImportances\n\n# Map feature importance...",
                    "submissionTime": "2024-12-09T13:17:54.119GMT",
                    "completionTime": "2024-12-09T13:17:55.503GMT",
                    "stageIds": [
                      34,
                      35,
                      36
                    ],
                    "jobGroup": "9",
                    "status": "SUCCEEDED",
                    "numTasks": 401,
                    "numActiveTasks": 0,
                    "numCompletedTasks": 400,
                    "numSkippedTasks": 1,
                    "numFailedTasks": 0,
                    "numKilledTasks": 0,
                    "numCompletedIndices": 400,
                    "numActiveStages": 0,
                    "numCompletedStages": 2,
                    "numSkippedStages": 1,
                    "numFailedStages": 0,
                    "killedTasksSummary": {}
                  },
                  {
                    "displayName": "collectAsMap at RandomForest.scala:663",
                    "dataWritten": 16756423,
                    "dataRead": 693807586,
                    "rowCount": 3856225,
                    "usageDescription": "",
                    "jobId": 21,
                    "name": "collectAsMap at RandomForest.scala:663",
                    "description": "Job group for statement 9:\n# Feature vector creation\nfeature_cols = [col for col in df.columns if col in [\"score_post\", \"num_comments\", \"sentiment_score\", \"nmf_topic\"]]\nassembler = VectorAssembler(inputCols=feature_cols, outputCol=\"features\")\n\n# RandomForest Classifier\nrf = RandomForestClassifier(featuresCol=\"features\", labelCol=\"label_index\", numTrees=100)\n\n# Pipeline setup\npipeline = Pipeline(stages=[assembler, rf])\n\n# Train-test split\ntrain_data, test_data = df.randomSplit([0.8, 0.2], seed=42)\n\n# Train the model\nmodel = pipeline.fit(train_data)\n\n# Make predictions\npredictions = model.transform(test_data)\n\n# Evaluate the model\nevaluator = MulticlassClassificationEvaluator(labelCol=\"label_index\", predictionCol=\"prediction\", metricName=\"accuracy\")\naccuracy = evaluator.evaluate(predictions)\nprint(f\"Test Accuracy: {accuracy}\")\n\n# Extract feature importances from the RandomForest model\nrf_model = model.stages[-1]  # Last stage of the pipeline is the RandomForestClassifier\nimportances = rf_model.featureImportances\n\n# Map feature importance...",
                    "submissionTime": "2024-12-09T13:17:48.678GMT",
                    "completionTime": "2024-12-09T13:17:54.049GMT",
                    "stageIds": [
                      33,
                      31,
                      32
                    ],
                    "jobGroup": "9",
                    "status": "SUCCEEDED",
                    "numTasks": 401,
                    "numActiveTasks": 0,
                    "numCompletedTasks": 400,
                    "numSkippedTasks": 1,
                    "numFailedTasks": 0,
                    "numKilledTasks": 0,
                    "numCompletedIndices": 400,
                    "numActiveStages": 0,
                    "numCompletedStages": 2,
                    "numSkippedStages": 1,
                    "numFailedStages": 0,
                    "killedTasksSummary": {}
                  },
                  {
                    "displayName": "collectAsMap at RandomForest.scala:1054",
                    "dataWritten": 342610,
                    "dataRead": 677393773,
                    "rowCount": 3817825,
                    "usageDescription": "",
                    "jobId": 20,
                    "name": "collectAsMap at RandomForest.scala:1054",
                    "description": "Job group for statement 9:\n# Feature vector creation\nfeature_cols = [col for col in df.columns if col in [\"score_post\", \"num_comments\", \"sentiment_score\", \"nmf_topic\"]]\nassembler = VectorAssembler(inputCols=feature_cols, outputCol=\"features\")\n\n# RandomForest Classifier\nrf = RandomForestClassifier(featuresCol=\"features\", labelCol=\"label_index\", numTrees=100)\n\n# Pipeline setup\npipeline = Pipeline(stages=[assembler, rf])\n\n# Train-test split\ntrain_data, test_data = df.randomSplit([0.8, 0.2], seed=42)\n\n# Train the model\nmodel = pipeline.fit(train_data)\n\n# Make predictions\npredictions = model.transform(test_data)\n\n# Evaluate the model\nevaluator = MulticlassClassificationEvaluator(labelCol=\"label_index\", predictionCol=\"prediction\", metricName=\"accuracy\")\naccuracy = evaluator.evaluate(predictions)\nprint(f\"Test Accuracy: {accuracy}\")\n\n# Extract feature importances from the RandomForest model\nrf_model = model.stages[-1]  # Last stage of the pipeline is the RandomForestClassifier\nimportances = rf_model.featureImportances\n\n# Map feature importance...",
                    "submissionTime": "2024-12-09T13:17:44.533GMT",
                    "completionTime": "2024-12-09T13:17:48.568GMT",
                    "stageIds": [
                      30,
                      28,
                      29
                    ],
                    "jobGroup": "9",
                    "status": "SUCCEEDED",
                    "numTasks": 205,
                    "numActiveTasks": 0,
                    "numCompletedTasks": 204,
                    "numSkippedTasks": 1,
                    "numFailedTasks": 0,
                    "numKilledTasks": 0,
                    "numCompletedIndices": 204,
                    "numActiveStages": 0,
                    "numCompletedStages": 2,
                    "numSkippedStages": 1,
                    "numFailedStages": 0,
                    "killedTasksSummary": {}
                  },
                  {
                    "displayName": "aggregate at DecisionTreeMetadata.scala:125",
                    "dataWritten": 0,
                    "dataRead": 677051163,
                    "rowCount": 3816225,
                    "usageDescription": "",
                    "jobId": 19,
                    "name": "aggregate at DecisionTreeMetadata.scala:125",
                    "description": "Job group for statement 9:\n# Feature vector creation\nfeature_cols = [col for col in df.columns if col in [\"score_post\", \"num_comments\", \"sentiment_score\", \"nmf_topic\"]]\nassembler = VectorAssembler(inputCols=feature_cols, outputCol=\"features\")\n\n# RandomForest Classifier\nrf = RandomForestClassifier(featuresCol=\"features\", labelCol=\"label_index\", numTrees=100)\n\n# Pipeline setup\npipeline = Pipeline(stages=[assembler, rf])\n\n# Train-test split\ntrain_data, test_data = df.randomSplit([0.8, 0.2], seed=42)\n\n# Train the model\nmodel = pipeline.fit(train_data)\n\n# Make predictions\npredictions = model.transform(test_data)\n\n# Evaluate the model\nevaluator = MulticlassClassificationEvaluator(labelCol=\"label_index\", predictionCol=\"prediction\", metricName=\"accuracy\")\naccuracy = evaluator.evaluate(predictions)\nprint(f\"Test Accuracy: {accuracy}\")\n\n# Extract feature importances from the RandomForest model\nrf_model = model.stages[-1]  # Last stage of the pipeline is the RandomForestClassifier\nimportances = rf_model.featureImportances\n\n# Map feature importance...",
                    "submissionTime": "2024-12-09T13:17:40.385GMT",
                    "completionTime": "2024-12-09T13:17:44.418GMT",
                    "stageIds": [
                      27,
                      26
                    ],
                    "jobGroup": "9",
                    "status": "SUCCEEDED",
                    "numTasks": 201,
                    "numActiveTasks": 0,
                    "numCompletedTasks": 200,
                    "numSkippedTasks": 1,
                    "numFailedTasks": 0,
                    "numKilledTasks": 0,
                    "numCompletedIndices": 200,
                    "numActiveStages": 0,
                    "numCompletedStages": 1,
                    "numSkippedStages": 1,
                    "numFailedStages": 0,
                    "killedTasksSummary": {}
                  },
                  {
                    "displayName": "take at DecisionTreeMetadata.scala:119",
                    "dataWritten": 0,
                    "dataRead": 2809088,
                    "rowCount": 15210,
                    "usageDescription": "",
                    "jobId": 18,
                    "name": "take at DecisionTreeMetadata.scala:119",
                    "description": "Job group for statement 9:\n# Feature vector creation\nfeature_cols = [col for col in df.columns if col in [\"score_post\", \"num_comments\", \"sentiment_score\", \"nmf_topic\"]]\nassembler = VectorAssembler(inputCols=feature_cols, outputCol=\"features\")\n\n# RandomForest Classifier\nrf = RandomForestClassifier(featuresCol=\"features\", labelCol=\"label_index\", numTrees=100)\n\n# Pipeline setup\npipeline = Pipeline(stages=[assembler, rf])\n\n# Train-test split\ntrain_data, test_data = df.randomSplit([0.8, 0.2], seed=42)\n\n# Train the model\nmodel = pipeline.fit(train_data)\n\n# Make predictions\npredictions = model.transform(test_data)\n\n# Evaluate the model\nevaluator = MulticlassClassificationEvaluator(labelCol=\"label_index\", predictionCol=\"prediction\", metricName=\"accuracy\")\naccuracy = evaluator.evaluate(predictions)\nprint(f\"Test Accuracy: {accuracy}\")\n\n# Extract feature importances from the RandomForest model\nrf_model = model.stages[-1]  # Last stage of the pipeline is the RandomForestClassifier\nimportances = rf_model.featureImportances\n\n# Map feature importance...",
                    "submissionTime": "2024-12-09T13:17:37.905GMT",
                    "completionTime": "2024-12-09T13:17:40.375GMT",
                    "stageIds": [
                      24,
                      25
                    ],
                    "jobGroup": "9",
                    "status": "SUCCEEDED",
                    "numTasks": 2,
                    "numActiveTasks": 0,
                    "numCompletedTasks": 1,
                    "numSkippedTasks": 1,
                    "numFailedTasks": 0,
                    "numKilledTasks": 0,
                    "numCompletedIndices": 1,
                    "numActiveStages": 0,
                    "numCompletedStages": 1,
                    "numSkippedStages": 1,
                    "numFailedStages": 0,
                    "killedTasksSummary": {}
                  },
                  {
                    "displayName": "rdd at Predictor.scala:81",
                    "dataWritten": 19349145,
                    "dataRead": 10211146432,
                    "rowCount": 9238521,
                    "usageDescription": "",
                    "jobId": 16,
                    "name": "rdd at Predictor.scala:81",
                    "description": "Job group for statement 9:\n# Feature vector creation\nfeature_cols = [col for col in df.columns if col in [\"score_post\", \"num_comments\", \"sentiment_score\", \"nmf_topic\"]]\nassembler = VectorAssembler(inputCols=feature_cols, outputCol=\"features\")\n\n# RandomForest Classifier\nrf = RandomForestClassifier(featuresCol=\"features\", labelCol=\"label_index\", numTrees=100)\n\n# Pipeline setup\npipeline = Pipeline(stages=[assembler, rf])\n\n# Train-test split\ntrain_data, test_data = df.randomSplit([0.8, 0.2], seed=42)\n\n# Train the model\nmodel = pipeline.fit(train_data)\n\n# Make predictions\npredictions = model.transform(test_data)\n\n# Evaluate the model\nevaluator = MulticlassClassificationEvaluator(labelCol=\"label_index\", predictionCol=\"prediction\", metricName=\"accuracy\")\naccuracy = evaluator.evaluate(predictions)\nprint(f\"Test Accuracy: {accuracy}\")\n\n# Extract feature importances from the RandomForest model\nrf_model = model.stages[-1]  # Last stage of the pipeline is the RandomForestClassifier\nimportances = rf_model.featureImportances\n\n# Map feature importance...",
                    "submissionTime": "2024-12-09T13:12:16.336GMT",
                    "completionTime": "2024-12-09T13:16:48.789GMT",
                    "stageIds": [
                      21
                    ],
                    "jobGroup": "9",
                    "status": "SUCCEEDED",
                    "numTasks": 1,
                    "numActiveTasks": 0,
                    "numCompletedTasks": 1,
                    "numSkippedTasks": 0,
                    "numFailedTasks": 0,
                    "numKilledTasks": 0,
                    "numCompletedIndices": 1,
                    "numActiveStages": 0,
                    "numCompletedStages": 1,
                    "numSkippedStages": 0,
                    "numFailedStages": 0,
                    "killedTasksSummary": {}
                  },
                  {
                    "displayName": "rdd at Predictor.scala:81",
                    "dataWritten": 677051163,
                    "dataRead": 10211146432,
                    "rowCount": 7632450,
                    "usageDescription": "",
                    "jobId": 14,
                    "name": "rdd at Predictor.scala:81",
                    "description": "Job group for statement 9:\n# Feature vector creation\nfeature_cols = [col for col in df.columns if col in [\"score_post\", \"num_comments\", \"sentiment_score\", \"nmf_topic\"]]\nassembler = VectorAssembler(inputCols=feature_cols, outputCol=\"features\")\n\n# RandomForest Classifier\nrf = RandomForestClassifier(featuresCol=\"features\", labelCol=\"label_index\", numTrees=100)\n\n# Pipeline setup\npipeline = Pipeline(stages=[assembler, rf])\n\n# Train-test split\ntrain_data, test_data = df.randomSplit([0.8, 0.2], seed=42)\n\n# Train the model\nmodel = pipeline.fit(train_data)\n\n# Make predictions\npredictions = model.transform(test_data)\n\n# Evaluate the model\nevaluator = MulticlassClassificationEvaluator(labelCol=\"label_index\", predictionCol=\"prediction\", metricName=\"accuracy\")\naccuracy = evaluator.evaluate(predictions)\nprint(f\"Test Accuracy: {accuracy}\")\n\n# Extract feature importances from the RandomForest model\nrf_model = model.stages[-1]  # Last stage of the pipeline is the RandomForestClassifier\nimportances = rf_model.featureImportances\n\n# Map feature importance...",
                    "submissionTime": "2024-12-09T13:12:16.294GMT",
                    "completionTime": "2024-12-09T13:17:37.726GMT",
                    "stageIds": [
                      19
                    ],
                    "jobGroup": "9",
                    "status": "SUCCEEDED",
                    "numTasks": 1,
                    "numActiveTasks": 0,
                    "numCompletedTasks": 1,
                    "numSkippedTasks": 0,
                    "numFailedTasks": 0,
                    "numKilledTasks": 0,
                    "numCompletedIndices": 1,
                    "numActiveStages": 0,
                    "numCompletedStages": 1,
                    "numSkippedStages": 0,
                    "numFailedStages": 0,
                    "killedTasksSummary": {}
                  },
                  {
                    "displayName": "rdd at Instrumentation.scala:62",
                    "dataWritten": 19349145,
                    "dataRead": 10211146432,
                    "rowCount": 9238521,
                    "usageDescription": "",
                    "jobId": 12,
                    "name": "rdd at Instrumentation.scala:62",
                    "description": "Job group for statement 9:\n# Feature vector creation\nfeature_cols = [col for col in df.columns if col in [\"score_post\", \"num_comments\", \"sentiment_score\", \"nmf_topic\"]]\nassembler = VectorAssembler(inputCols=feature_cols, outputCol=\"features\")\n\n# RandomForest Classifier\nrf = RandomForestClassifier(featuresCol=\"features\", labelCol=\"label_index\", numTrees=100)\n\n# Pipeline setup\npipeline = Pipeline(stages=[assembler, rf])\n\n# Train-test split\ntrain_data, test_data = df.randomSplit([0.8, 0.2], seed=42)\n\n# Train the model\nmodel = pipeline.fit(train_data)\n\n# Make predictions\npredictions = model.transform(test_data)\n\n# Evaluate the model\nevaluator = MulticlassClassificationEvaluator(labelCol=\"label_index\", predictionCol=\"prediction\", metricName=\"accuracy\")\naccuracy = evaluator.evaluate(predictions)\nprint(f\"Test Accuracy: {accuracy}\")\n\n# Extract feature importances from the RandomForest model\nrf_model = model.stages[-1]  # Last stage of the pipeline is the RandomForestClassifier\nimportances = rf_model.featureImportances\n\n# Map feature importance...",
                    "submissionTime": "2024-12-09T13:06:58.751GMT",
                    "completionTime": "2024-12-09T13:12:04.554GMT",
                    "stageIds": [
                      16
                    ],
                    "jobGroup": "9",
                    "status": "SUCCEEDED",
                    "numTasks": 1,
                    "numActiveTasks": 0,
                    "numCompletedTasks": 1,
                    "numSkippedTasks": 0,
                    "numFailedTasks": 0,
                    "numKilledTasks": 0,
                    "numCompletedIndices": 1,
                    "numActiveStages": 0,
                    "numCompletedStages": 1,
                    "numSkippedStages": 0,
                    "numFailedStages": 0,
                    "killedTasksSummary": {}
                  },
                  {
                    "displayName": "rdd at Instrumentation.scala:62",
                    "dataWritten": 677051163,
                    "dataRead": 10211146432,
                    "rowCount": 7632450,
                    "usageDescription": "",
                    "jobId": 10,
                    "name": "rdd at Instrumentation.scala:62",
                    "description": "Job group for statement 9:\n# Feature vector creation\nfeature_cols = [col for col in df.columns if col in [\"score_post\", \"num_comments\", \"sentiment_score\", \"nmf_topic\"]]\nassembler = VectorAssembler(inputCols=feature_cols, outputCol=\"features\")\n\n# RandomForest Classifier\nrf = RandomForestClassifier(featuresCol=\"features\", labelCol=\"label_index\", numTrees=100)\n\n# Pipeline setup\npipeline = Pipeline(stages=[assembler, rf])\n\n# Train-test split\ntrain_data, test_data = df.randomSplit([0.8, 0.2], seed=42)\n\n# Train the model\nmodel = pipeline.fit(train_data)\n\n# Make predictions\npredictions = model.transform(test_data)\n\n# Evaluate the model\nevaluator = MulticlassClassificationEvaluator(labelCol=\"label_index\", predictionCol=\"prediction\", metricName=\"accuracy\")\naccuracy = evaluator.evaluate(predictions)\nprint(f\"Test Accuracy: {accuracy}\")\n\n# Extract feature importances from the RandomForest model\nrf_model = model.stages[-1]  # Last stage of the pipeline is the RandomForestClassifier\nimportances = rf_model.featureImportances\n\n# Map feature importance...",
                    "submissionTime": "2024-12-09T13:06:58.696GMT",
                    "completionTime": "2024-12-09T13:12:15.869GMT",
                    "stageIds": [
                      14
                    ],
                    "jobGroup": "9",
                    "status": "SUCCEEDED",
                    "numTasks": 1,
                    "numActiveTasks": 0,
                    "numCompletedTasks": 1,
                    "numSkippedTasks": 0,
                    "numFailedTasks": 0,
                    "numKilledTasks": 0,
                    "numCompletedIndices": 1,
                    "numActiveStages": 0,
                    "numCompletedStages": 1,
                    "numSkippedStages": 0,
                    "numFailedStages": 0,
                    "killedTasksSummary": {}
                  }
                ],
                "limit": 20,
                "rule": "ALL_DESC"
              },
              "session_id": "1",
              "normalized_state": "finished",
              "queued_time": "2024-12-09T12:55:12.139465Z",
              "session_start_time": null,
              "execution_start_time": "2024-12-09T13:06:58.2320233Z",
              "execution_finish_time": "2024-12-09T13:27:48.6436015Z",
              "parent_msg_id": "e00a3470-afd3-48d9-977d-1c9a4b1638b2"
            },
            "text/plain": "StatementMeta(b1a6d09a-cd79-40bd-b154-9f59912128df, 1, 9, Finished, Available, Finished)"
          },
          "metadata": {}
        },
        {
          "output_type": "stream",
          "name": "stdout",
          "text": "Test Accuracy: 0.6323606044815008\n\nFeature Importances:\nscore_post: 0.7276101590599068\nnum_comments: 0.21593437237091181\nsentiment_score: 0.03811727836869343\nnmf_topic: 0.01833819020048804\n"
        }
      ],
      "execution_count": 4,
      "metadata": {
        "jupyter": {
          "source_hidden": false,
          "outputs_hidden": false
        },
        "nteract": {
          "transient": {
            "deleting": false
          }
        },
        "gather": {
          "logged": 1733750868885
        }
      }
    },
    {
      "cell_type": "code",
      "source": [
        "from pyspark.ml.classification import OneVsRest, GBTClassifier\n",
        "\n",
        "# Configure the base classifier\n",
        "gbt = GBTClassifier(featuresCol=\"features\", labelCol=\"label_index\", maxIter=100)\n",
        "\n",
        "# Wrap it with OneVsRest for multiclass classification\n",
        "ovr = OneVsRest(classifier=gbt, labelCol=\"label_index\", featuresCol=\"features\")\n",
        "\n",
        "# Create a pipeline with the OneVsRest classifier\n",
        "xgb_pipeline = Pipeline(stages=[assembler, ovr])\n",
        "\n",
        "# Train the OneVsRest (XGBoost-based) model\n",
        "xgb_model = xgb_pipeline.fit(train_data)\n",
        "\n",
        "# Make predictions with the OneVsRest model\n",
        "xgb_predictions = xgb_model.transform(test_data)"
      ],
      "outputs": [
        {
          "output_type": "display_data",
          "data": {
            "application/vnd.livy.statement-meta+json": {
              "spark_pool": "b1a6d09a-cd79-40bd-b154-9f59912128df",
              "statement_id": 10,
              "statement_ids": [
                10
              ],
              "state": "finished",
              "livy_statement_state": "available",
              "spark_jobs": {
                "numbers": {
                  "RUNNING": 1,
                  "UNKNOWN": 0,
                  "FAILED": 0,
                  "SUCCEEDED": 604
                },
                "jobs": [
                  {
                    "displayName": "collectAsMap at RandomForest.scala:663",
                    "dataWritten": 0,
                    "dataRead": 0,
                    "rowCount": 0,
                    "usageDescription": "",
                    "jobId": 649,
                    "name": "collectAsMap at RandomForest.scala:663",
                    "description": "Job group for statement 10:\nfrom pyspark.ml.classification import OneVsRest, GBTClassifier\n\n# Configure the base classifier\ngbt = GBTClassifier(featuresCol=\"features\", labelCol=\"label_index\", maxIter=100)\n\n# Wrap it with OneVsRest for multiclass classification\novr = OneVsRest(classifier=gbt, labelCol=\"label_index\", featuresCol=\"features\")\n\n# Create a pipeline with the OneVsRest classifier\nxgb_pipeline = Pipeline(stages=[assembler, ovr])\n\n# Train the OneVsRest (XGBoost-based) model\nxgb_model = xgb_pipeline.fit(train_data)\n\n# Make predictions with the OneVsRest model\nxgb_predictions = xgb_model.transform(test_data)",
                    "submissionTime": "2024-12-09T13:56:50.497GMT",
                    "stageIds": [
                      1863,
                      1861,
                      1862
                    ],
                    "jobGroup": "10",
                    "status": "RUNNING",
                    "numTasks": 401,
                    "numActiveTasks": 0,
                    "numCompletedTasks": 0,
                    "numSkippedTasks": 0,
                    "numFailedTasks": 0,
                    "numKilledTasks": 0,
                    "numCompletedIndices": 0,
                    "numActiveStages": 0,
                    "numCompletedStages": 0,
                    "numSkippedStages": 0,
                    "numFailedStages": 0,
                    "killedTasksSummary": {}
                  },
                  {
                    "displayName": "collectAsMap at RandomForest.scala:663",
                    "dataWritten": 0,
                    "dataRead": 0,
                    "rowCount": 0,
                    "usageDescription": "",
                    "jobId": 648,
                    "name": "collectAsMap at RandomForest.scala:663",
                    "description": "Job group for statement 10:\nfrom pyspark.ml.classification import OneVsRest, GBTClassifier\n\n# Configure the base classifier\ngbt = GBTClassifier(featuresCol=\"features\", labelCol=\"label_index\", maxIter=100)\n\n# Wrap it with OneVsRest for multiclass classification\novr = OneVsRest(classifier=gbt, labelCol=\"label_index\", featuresCol=\"features\")\n\n# Create a pipeline with the OneVsRest classifier\nxgb_pipeline = Pipeline(stages=[assembler, ovr])\n\n# Train the OneVsRest (XGBoost-based) model\nxgb_model = xgb_pipeline.fit(train_data)\n\n# Make predictions with the OneVsRest model\nxgb_predictions = xgb_model.transform(test_data)",
                    "submissionTime": "2024-12-09T13:56:50.291GMT",
                    "completionTime": "2024-12-09T13:56:50.479GMT",
                    "stageIds": [
                      1860,
                      1858,
                      1859
                    ],
                    "jobGroup": "10",
                    "status": "SUCCEEDED",
                    "numTasks": 401,
                    "numActiveTasks": 0,
                    "numCompletedTasks": 400,
                    "numSkippedTasks": 1,
                    "numFailedTasks": 0,
                    "numKilledTasks": 0,
                    "numCompletedIndices": 400,
                    "numActiveStages": 0,
                    "numCompletedStages": 2,
                    "numSkippedStages": 1,
                    "numFailedStages": 0,
                    "killedTasksSummary": {}
                  },
                  {
                    "displayName": "collectAsMap at RandomForest.scala:663",
                    "dataWritten": 0,
                    "dataRead": 0,
                    "rowCount": 0,
                    "usageDescription": "",
                    "jobId": 647,
                    "name": "collectAsMap at RandomForest.scala:663",
                    "description": "Job group for statement 10:\nfrom pyspark.ml.classification import OneVsRest, GBTClassifier\n\n# Configure the base classifier\ngbt = GBTClassifier(featuresCol=\"features\", labelCol=\"label_index\", maxIter=100)\n\n# Wrap it with OneVsRest for multiclass classification\novr = OneVsRest(classifier=gbt, labelCol=\"label_index\", featuresCol=\"features\")\n\n# Create a pipeline with the OneVsRest classifier\nxgb_pipeline = Pipeline(stages=[assembler, ovr])\n\n# Train the OneVsRest (XGBoost-based) model\nxgb_model = xgb_pipeline.fit(train_data)\n\n# Make predictions with the OneVsRest model\nxgb_predictions = xgb_model.transform(test_data)",
                    "submissionTime": "2024-12-09T13:56:50.104GMT",
                    "completionTime": "2024-12-09T13:56:50.258GMT",
                    "stageIds": [
                      1856,
                      1857,
                      1855
                    ],
                    "jobGroup": "10",
                    "status": "SUCCEEDED",
                    "numTasks": 401,
                    "numActiveTasks": 0,
                    "numCompletedTasks": 400,
                    "numSkippedTasks": 1,
                    "numFailedTasks": 0,
                    "numKilledTasks": 0,
                    "numCompletedIndices": 400,
                    "numActiveStages": 0,
                    "numCompletedStages": 2,
                    "numSkippedStages": 1,
                    "numFailedStages": 0,
                    "killedTasksSummary": {}
                  },
                  {
                    "displayName": "collectAsMap at RandomForest.scala:663",
                    "dataWritten": 0,
                    "dataRead": 0,
                    "rowCount": 0,
                    "usageDescription": "",
                    "jobId": 646,
                    "name": "collectAsMap at RandomForest.scala:663",
                    "description": "Job group for statement 10:\nfrom pyspark.ml.classification import OneVsRest, GBTClassifier\n\n# Configure the base classifier\ngbt = GBTClassifier(featuresCol=\"features\", labelCol=\"label_index\", maxIter=100)\n\n# Wrap it with OneVsRest for multiclass classification\novr = OneVsRest(classifier=gbt, labelCol=\"label_index\", featuresCol=\"features\")\n\n# Create a pipeline with the OneVsRest classifier\nxgb_pipeline = Pipeline(stages=[assembler, ovr])\n\n# Train the OneVsRest (XGBoost-based) model\nxgb_model = xgb_pipeline.fit(train_data)\n\n# Make predictions with the OneVsRest model\nxgb_predictions = xgb_model.transform(test_data)",
                    "submissionTime": "2024-12-09T13:56:49.921GMT",
                    "completionTime": "2024-12-09T13:56:50.086GMT",
                    "stageIds": [
                      1852,
                      1853,
                      1854
                    ],
                    "jobGroup": "10",
                    "status": "SUCCEEDED",
                    "numTasks": 401,
                    "numActiveTasks": 0,
                    "numCompletedTasks": 400,
                    "numSkippedTasks": 1,
                    "numFailedTasks": 0,
                    "numKilledTasks": 0,
                    "numCompletedIndices": 400,
                    "numActiveStages": 0,
                    "numCompletedStages": 2,
                    "numSkippedStages": 1,
                    "numFailedStages": 0,
                    "killedTasksSummary": {}
                  },
                  {
                    "displayName": "collectAsMap at RandomForest.scala:663",
                    "dataWritten": 0,
                    "dataRead": 0,
                    "rowCount": 0,
                    "usageDescription": "",
                    "jobId": 645,
                    "name": "collectAsMap at RandomForest.scala:663",
                    "description": "Job group for statement 10:\nfrom pyspark.ml.classification import OneVsRest, GBTClassifier\n\n# Configure the base classifier\ngbt = GBTClassifier(featuresCol=\"features\", labelCol=\"label_index\", maxIter=100)\n\n# Wrap it with OneVsRest for multiclass classification\novr = OneVsRest(classifier=gbt, labelCol=\"label_index\", featuresCol=\"features\")\n\n# Create a pipeline with the OneVsRest classifier\nxgb_pipeline = Pipeline(stages=[assembler, ovr])\n\n# Train the OneVsRest (XGBoost-based) model\nxgb_model = xgb_pipeline.fit(train_data)\n\n# Make predictions with the OneVsRest model\nxgb_predictions = xgb_model.transform(test_data)",
                    "submissionTime": "2024-12-09T13:56:49.774GMT",
                    "completionTime": "2024-12-09T13:56:49.902GMT",
                    "stageIds": [
                      1849,
                      1850,
                      1851
                    ],
                    "jobGroup": "10",
                    "status": "SUCCEEDED",
                    "numTasks": 401,
                    "numActiveTasks": 0,
                    "numCompletedTasks": 400,
                    "numSkippedTasks": 1,
                    "numFailedTasks": 0,
                    "numKilledTasks": 0,
                    "numCompletedIndices": 400,
                    "numActiveStages": 0,
                    "numCompletedStages": 2,
                    "numSkippedStages": 1,
                    "numFailedStages": 0,
                    "killedTasksSummary": {}
                  },
                  {
                    "displayName": "collectAsMap at RandomForest.scala:663",
                    "dataWritten": 0,
                    "dataRead": 0,
                    "rowCount": 0,
                    "usageDescription": "",
                    "jobId": 644,
                    "name": "collectAsMap at RandomForest.scala:663",
                    "description": "Job group for statement 10:\nfrom pyspark.ml.classification import OneVsRest, GBTClassifier\n\n# Configure the base classifier\ngbt = GBTClassifier(featuresCol=\"features\", labelCol=\"label_index\", maxIter=100)\n\n# Wrap it with OneVsRest for multiclass classification\novr = OneVsRest(classifier=gbt, labelCol=\"label_index\", featuresCol=\"features\")\n\n# Create a pipeline with the OneVsRest classifier\nxgb_pipeline = Pipeline(stages=[assembler, ovr])\n\n# Train the OneVsRest (XGBoost-based) model\nxgb_model = xgb_pipeline.fit(train_data)\n\n# Make predictions with the OneVsRest model\nxgb_predictions = xgb_model.transform(test_data)",
                    "submissionTime": "2024-12-09T13:56:49.607GMT",
                    "completionTime": "2024-12-09T13:56:49.757GMT",
                    "stageIds": [
                      1848,
                      1846,
                      1847
                    ],
                    "jobGroup": "10",
                    "status": "SUCCEEDED",
                    "numTasks": 401,
                    "numActiveTasks": 0,
                    "numCompletedTasks": 400,
                    "numSkippedTasks": 1,
                    "numFailedTasks": 0,
                    "numKilledTasks": 0,
                    "numCompletedIndices": 400,
                    "numActiveStages": 0,
                    "numCompletedStages": 2,
                    "numSkippedStages": 1,
                    "numFailedStages": 0,
                    "killedTasksSummary": {}
                  },
                  {
                    "displayName": "collectAsMap at RandomForest.scala:663",
                    "dataWritten": 0,
                    "dataRead": 0,
                    "rowCount": 0,
                    "usageDescription": "",
                    "jobId": 643,
                    "name": "collectAsMap at RandomForest.scala:663",
                    "description": "Job group for statement 10:\nfrom pyspark.ml.classification import OneVsRest, GBTClassifier\n\n# Configure the base classifier\ngbt = GBTClassifier(featuresCol=\"features\", labelCol=\"label_index\", maxIter=100)\n\n# Wrap it with OneVsRest for multiclass classification\novr = OneVsRest(classifier=gbt, labelCol=\"label_index\", featuresCol=\"features\")\n\n# Create a pipeline with the OneVsRest classifier\nxgb_pipeline = Pipeline(stages=[assembler, ovr])\n\n# Train the OneVsRest (XGBoost-based) model\nxgb_model = xgb_pipeline.fit(train_data)\n\n# Make predictions with the OneVsRest model\nxgb_predictions = xgb_model.transform(test_data)",
                    "submissionTime": "2024-12-09T13:56:49.399GMT",
                    "completionTime": "2024-12-09T13:56:49.589GMT",
                    "stageIds": [
                      1845,
                      1843,
                      1844
                    ],
                    "jobGroup": "10",
                    "status": "SUCCEEDED",
                    "numTasks": 401,
                    "numActiveTasks": 0,
                    "numCompletedTasks": 400,
                    "numSkippedTasks": 1,
                    "numFailedTasks": 0,
                    "numKilledTasks": 0,
                    "numCompletedIndices": 400,
                    "numActiveStages": 0,
                    "numCompletedStages": 2,
                    "numSkippedStages": 1,
                    "numFailedStages": 0,
                    "killedTasksSummary": {}
                  },
                  {
                    "displayName": "collectAsMap at RandomForest.scala:663",
                    "dataWritten": 0,
                    "dataRead": 0,
                    "rowCount": 0,
                    "usageDescription": "",
                    "jobId": 642,
                    "name": "collectAsMap at RandomForest.scala:663",
                    "description": "Job group for statement 10:\nfrom pyspark.ml.classification import OneVsRest, GBTClassifier\n\n# Configure the base classifier\ngbt = GBTClassifier(featuresCol=\"features\", labelCol=\"label_index\", maxIter=100)\n\n# Wrap it with OneVsRest for multiclass classification\novr = OneVsRest(classifier=gbt, labelCol=\"label_index\", featuresCol=\"features\")\n\n# Create a pipeline with the OneVsRest classifier\nxgb_pipeline = Pipeline(stages=[assembler, ovr])\n\n# Train the OneVsRest (XGBoost-based) model\nxgb_model = xgb_pipeline.fit(train_data)\n\n# Make predictions with the OneVsRest model\nxgb_predictions = xgb_model.transform(test_data)",
                    "submissionTime": "2024-12-09T13:56:49.224GMT",
                    "completionTime": "2024-12-09T13:56:49.366GMT",
                    "stageIds": [
                      1842,
                      1840,
                      1841
                    ],
                    "jobGroup": "10",
                    "status": "SUCCEEDED",
                    "numTasks": 401,
                    "numActiveTasks": 0,
                    "numCompletedTasks": 400,
                    "numSkippedTasks": 1,
                    "numFailedTasks": 0,
                    "numKilledTasks": 0,
                    "numCompletedIndices": 400,
                    "numActiveStages": 0,
                    "numCompletedStages": 2,
                    "numSkippedStages": 1,
                    "numFailedStages": 0,
                    "killedTasksSummary": {}
                  },
                  {
                    "displayName": "collectAsMap at RandomForest.scala:663",
                    "dataWritten": 0,
                    "dataRead": 0,
                    "rowCount": 0,
                    "usageDescription": "",
                    "jobId": 641,
                    "name": "collectAsMap at RandomForest.scala:663",
                    "description": "Job group for statement 10:\nfrom pyspark.ml.classification import OneVsRest, GBTClassifier\n\n# Configure the base classifier\ngbt = GBTClassifier(featuresCol=\"features\", labelCol=\"label_index\", maxIter=100)\n\n# Wrap it with OneVsRest for multiclass classification\novr = OneVsRest(classifier=gbt, labelCol=\"label_index\", featuresCol=\"features\")\n\n# Create a pipeline with the OneVsRest classifier\nxgb_pipeline = Pipeline(stages=[assembler, ovr])\n\n# Train the OneVsRest (XGBoost-based) model\nxgb_model = xgb_pipeline.fit(train_data)\n\n# Make predictions with the OneVsRest model\nxgb_predictions = xgb_model.transform(test_data)",
                    "submissionTime": "2024-12-09T13:56:48.999GMT",
                    "completionTime": "2024-12-09T13:56:49.206GMT",
                    "stageIds": [
                      1838,
                      1839,
                      1837
                    ],
                    "jobGroup": "10",
                    "status": "SUCCEEDED",
                    "numTasks": 401,
                    "numActiveTasks": 0,
                    "numCompletedTasks": 400,
                    "numSkippedTasks": 1,
                    "numFailedTasks": 0,
                    "numKilledTasks": 0,
                    "numCompletedIndices": 400,
                    "numActiveStages": 0,
                    "numCompletedStages": 2,
                    "numSkippedStages": 1,
                    "numFailedStages": 0,
                    "killedTasksSummary": {}
                  },
                  {
                    "displayName": "collectAsMap at RandomForest.scala:663",
                    "dataWritten": 0,
                    "dataRead": 0,
                    "rowCount": 0,
                    "usageDescription": "",
                    "jobId": 640,
                    "name": "collectAsMap at RandomForest.scala:663",
                    "description": "Job group for statement 10:\nfrom pyspark.ml.classification import OneVsRest, GBTClassifier\n\n# Configure the base classifier\ngbt = GBTClassifier(featuresCol=\"features\", labelCol=\"label_index\", maxIter=100)\n\n# Wrap it with OneVsRest for multiclass classification\novr = OneVsRest(classifier=gbt, labelCol=\"label_index\", featuresCol=\"features\")\n\n# Create a pipeline with the OneVsRest classifier\nxgb_pipeline = Pipeline(stages=[assembler, ovr])\n\n# Train the OneVsRest (XGBoost-based) model\nxgb_model = xgb_pipeline.fit(train_data)\n\n# Make predictions with the OneVsRest model\nxgb_predictions = xgb_model.transform(test_data)",
                    "submissionTime": "2024-12-09T13:56:48.814GMT",
                    "completionTime": "2024-12-09T13:56:48.981GMT",
                    "stageIds": [
                      1834,
                      1835,
                      1836
                    ],
                    "jobGroup": "10",
                    "status": "SUCCEEDED",
                    "numTasks": 401,
                    "numActiveTasks": 0,
                    "numCompletedTasks": 400,
                    "numSkippedTasks": 1,
                    "numFailedTasks": 0,
                    "numKilledTasks": 0,
                    "numCompletedIndices": 400,
                    "numActiveStages": 0,
                    "numCompletedStages": 2,
                    "numSkippedStages": 1,
                    "numFailedStages": 0,
                    "killedTasksSummary": {}
                  },
                  {
                    "displayName": "collectAsMap at RandomForest.scala:663",
                    "dataWritten": 0,
                    "dataRead": 0,
                    "rowCount": 0,
                    "usageDescription": "",
                    "jobId": 639,
                    "name": "collectAsMap at RandomForest.scala:663",
                    "description": "Job group for statement 10:\nfrom pyspark.ml.classification import OneVsRest, GBTClassifier\n\n# Configure the base classifier\ngbt = GBTClassifier(featuresCol=\"features\", labelCol=\"label_index\", maxIter=100)\n\n# Wrap it with OneVsRest for multiclass classification\novr = OneVsRest(classifier=gbt, labelCol=\"label_index\", featuresCol=\"features\")\n\n# Create a pipeline with the OneVsRest classifier\nxgb_pipeline = Pipeline(stages=[assembler, ovr])\n\n# Train the OneVsRest (XGBoost-based) model\nxgb_model = xgb_pipeline.fit(train_data)\n\n# Make predictions with the OneVsRest model\nxgb_predictions = xgb_model.transform(test_data)",
                    "submissionTime": "2024-12-09T13:56:48.602GMT",
                    "completionTime": "2024-12-09T13:56:48.794GMT",
                    "stageIds": [
                      1831,
                      1832,
                      1833
                    ],
                    "jobGroup": "10",
                    "status": "SUCCEEDED",
                    "numTasks": 401,
                    "numActiveTasks": 0,
                    "numCompletedTasks": 400,
                    "numSkippedTasks": 1,
                    "numFailedTasks": 0,
                    "numKilledTasks": 0,
                    "numCompletedIndices": 400,
                    "numActiveStages": 0,
                    "numCompletedStages": 2,
                    "numSkippedStages": 1,
                    "numFailedStages": 0,
                    "killedTasksSummary": {}
                  },
                  {
                    "displayName": "collectAsMap at RandomForest.scala:663",
                    "dataWritten": 0,
                    "dataRead": 0,
                    "rowCount": 0,
                    "usageDescription": "",
                    "jobId": 638,
                    "name": "collectAsMap at RandomForest.scala:663",
                    "description": "Job group for statement 10:\nfrom pyspark.ml.classification import OneVsRest, GBTClassifier\n\n# Configure the base classifier\ngbt = GBTClassifier(featuresCol=\"features\", labelCol=\"label_index\", maxIter=100)\n\n# Wrap it with OneVsRest for multiclass classification\novr = OneVsRest(classifier=gbt, labelCol=\"label_index\", featuresCol=\"features\")\n\n# Create a pipeline with the OneVsRest classifier\nxgb_pipeline = Pipeline(stages=[assembler, ovr])\n\n# Train the OneVsRest (XGBoost-based) model\nxgb_model = xgb_pipeline.fit(train_data)\n\n# Make predictions with the OneVsRest model\nxgb_predictions = xgb_model.transform(test_data)",
                    "submissionTime": "2024-12-09T13:56:48.333GMT",
                    "completionTime": "2024-12-09T13:56:48.582GMT",
                    "stageIds": [
                      1830,
                      1828,
                      1829
                    ],
                    "jobGroup": "10",
                    "status": "SUCCEEDED",
                    "numTasks": 401,
                    "numActiveTasks": 0,
                    "numCompletedTasks": 400,
                    "numSkippedTasks": 1,
                    "numFailedTasks": 0,
                    "numKilledTasks": 0,
                    "numCompletedIndices": 400,
                    "numActiveStages": 0,
                    "numCompletedStages": 2,
                    "numSkippedStages": 1,
                    "numFailedStages": 0,
                    "killedTasksSummary": {}
                  },
                  {
                    "displayName": "collectAsMap at RandomForest.scala:663",
                    "dataWritten": 0,
                    "dataRead": 0,
                    "rowCount": 0,
                    "usageDescription": "",
                    "jobId": 637,
                    "name": "collectAsMap at RandomForest.scala:663",
                    "description": "Job group for statement 10:\nfrom pyspark.ml.classification import OneVsRest, GBTClassifier\n\n# Configure the base classifier\ngbt = GBTClassifier(featuresCol=\"features\", labelCol=\"label_index\", maxIter=100)\n\n# Wrap it with OneVsRest for multiclass classification\novr = OneVsRest(classifier=gbt, labelCol=\"label_index\", featuresCol=\"features\")\n\n# Create a pipeline with the OneVsRest classifier\nxgb_pipeline = Pipeline(stages=[assembler, ovr])\n\n# Train the OneVsRest (XGBoost-based) model\nxgb_model = xgb_pipeline.fit(train_data)\n\n# Make predictions with the OneVsRest model\nxgb_predictions = xgb_model.transform(test_data)",
                    "submissionTime": "2024-12-09T13:56:48.084GMT",
                    "completionTime": "2024-12-09T13:56:48.299GMT",
                    "stageIds": [
                      1827,
                      1825,
                      1826
                    ],
                    "jobGroup": "10",
                    "status": "SUCCEEDED",
                    "numTasks": 401,
                    "numActiveTasks": 0,
                    "numCompletedTasks": 400,
                    "numSkippedTasks": 1,
                    "numFailedTasks": 0,
                    "numKilledTasks": 0,
                    "numCompletedIndices": 400,
                    "numActiveStages": 0,
                    "numCompletedStages": 2,
                    "numSkippedStages": 1,
                    "numFailedStages": 0,
                    "killedTasksSummary": {}
                  },
                  {
                    "displayName": "collectAsMap at RandomForest.scala:663",
                    "dataWritten": 0,
                    "dataRead": 0,
                    "rowCount": 0,
                    "usageDescription": "",
                    "jobId": 636,
                    "name": "collectAsMap at RandomForest.scala:663",
                    "description": "Job group for statement 10:\nfrom pyspark.ml.classification import OneVsRest, GBTClassifier\n\n# Configure the base classifier\ngbt = GBTClassifier(featuresCol=\"features\", labelCol=\"label_index\", maxIter=100)\n\n# Wrap it with OneVsRest for multiclass classification\novr = OneVsRest(classifier=gbt, labelCol=\"label_index\", featuresCol=\"features\")\n\n# Create a pipeline with the OneVsRest classifier\nxgb_pipeline = Pipeline(stages=[assembler, ovr])\n\n# Train the OneVsRest (XGBoost-based) model\nxgb_model = xgb_pipeline.fit(train_data)\n\n# Make predictions with the OneVsRest model\nxgb_predictions = xgb_model.transform(test_data)",
                    "submissionTime": "2024-12-09T13:56:47.863GMT",
                    "completionTime": "2024-12-09T13:56:48.062GMT",
                    "stageIds": [
                      1824,
                      1822,
                      1823
                    ],
                    "jobGroup": "10",
                    "status": "SUCCEEDED",
                    "numTasks": 401,
                    "numActiveTasks": 0,
                    "numCompletedTasks": 400,
                    "numSkippedTasks": 1,
                    "numFailedTasks": 0,
                    "numKilledTasks": 0,
                    "numCompletedIndices": 400,
                    "numActiveStages": 0,
                    "numCompletedStages": 2,
                    "numSkippedStages": 1,
                    "numFailedStages": 0,
                    "killedTasksSummary": {}
                  },
                  {
                    "displayName": "collectAsMap at RandomForest.scala:663",
                    "dataWritten": 0,
                    "dataRead": 0,
                    "rowCount": 0,
                    "usageDescription": "",
                    "jobId": 635,
                    "name": "collectAsMap at RandomForest.scala:663",
                    "description": "Job group for statement 10:\nfrom pyspark.ml.classification import OneVsRest, GBTClassifier\n\n# Configure the base classifier\ngbt = GBTClassifier(featuresCol=\"features\", labelCol=\"label_index\", maxIter=100)\n\n# Wrap it with OneVsRest for multiclass classification\novr = OneVsRest(classifier=gbt, labelCol=\"label_index\", featuresCol=\"features\")\n\n# Create a pipeline with the OneVsRest classifier\nxgb_pipeline = Pipeline(stages=[assembler, ovr])\n\n# Train the OneVsRest (XGBoost-based) model\nxgb_model = xgb_pipeline.fit(train_data)\n\n# Make predictions with the OneVsRest model\nxgb_predictions = xgb_model.transform(test_data)",
                    "submissionTime": "2024-12-09T13:56:47.651GMT",
                    "completionTime": "2024-12-09T13:56:47.842GMT",
                    "stageIds": [
                      1819,
                      1820,
                      1821
                    ],
                    "jobGroup": "10",
                    "status": "SUCCEEDED",
                    "numTasks": 401,
                    "numActiveTasks": 0,
                    "numCompletedTasks": 400,
                    "numSkippedTasks": 1,
                    "numFailedTasks": 0,
                    "numKilledTasks": 0,
                    "numCompletedIndices": 400,
                    "numActiveStages": 0,
                    "numCompletedStages": 2,
                    "numSkippedStages": 1,
                    "numFailedStages": 0,
                    "killedTasksSummary": {}
                  },
                  {
                    "displayName": "collectAsMap at RandomForest.scala:663",
                    "dataWritten": 0,
                    "dataRead": 0,
                    "rowCount": 0,
                    "usageDescription": "",
                    "jobId": 634,
                    "name": "collectAsMap at RandomForest.scala:663",
                    "description": "Job group for statement 10:\nfrom pyspark.ml.classification import OneVsRest, GBTClassifier\n\n# Configure the base classifier\ngbt = GBTClassifier(featuresCol=\"features\", labelCol=\"label_index\", maxIter=100)\n\n# Wrap it with OneVsRest for multiclass classification\novr = OneVsRest(classifier=gbt, labelCol=\"label_index\", featuresCol=\"features\")\n\n# Create a pipeline with the OneVsRest classifier\nxgb_pipeline = Pipeline(stages=[assembler, ovr])\n\n# Train the OneVsRest (XGBoost-based) model\nxgb_model = xgb_pipeline.fit(train_data)\n\n# Make predictions with the OneVsRest model\nxgb_predictions = xgb_model.transform(test_data)",
                    "submissionTime": "2024-12-09T13:56:47.442GMT",
                    "completionTime": "2024-12-09T13:56:47.632GMT",
                    "stageIds": [
                      1816,
                      1817,
                      1818
                    ],
                    "jobGroup": "10",
                    "status": "SUCCEEDED",
                    "numTasks": 401,
                    "numActiveTasks": 0,
                    "numCompletedTasks": 400,
                    "numSkippedTasks": 1,
                    "numFailedTasks": 0,
                    "numKilledTasks": 0,
                    "numCompletedIndices": 400,
                    "numActiveStages": 0,
                    "numCompletedStages": 2,
                    "numSkippedStages": 1,
                    "numFailedStages": 0,
                    "killedTasksSummary": {}
                  },
                  {
                    "displayName": "collectAsMap at RandomForest.scala:663",
                    "dataWritten": 0,
                    "dataRead": 0,
                    "rowCount": 0,
                    "usageDescription": "",
                    "jobId": 633,
                    "name": "collectAsMap at RandomForest.scala:663",
                    "description": "Job group for statement 10:\nfrom pyspark.ml.classification import OneVsRest, GBTClassifier\n\n# Configure the base classifier\ngbt = GBTClassifier(featuresCol=\"features\", labelCol=\"label_index\", maxIter=100)\n\n# Wrap it with OneVsRest for multiclass classification\novr = OneVsRest(classifier=gbt, labelCol=\"label_index\", featuresCol=\"features\")\n\n# Create a pipeline with the OneVsRest classifier\nxgb_pipeline = Pipeline(stages=[assembler, ovr])\n\n# Train the OneVsRest (XGBoost-based) model\nxgb_model = xgb_pipeline.fit(train_data)\n\n# Make predictions with the OneVsRest model\nxgb_predictions = xgb_model.transform(test_data)",
                    "submissionTime": "2024-12-09T13:56:47.163GMT",
                    "completionTime": "2024-12-09T13:56:47.423GMT",
                    "stageIds": [
                      1813,
                      1814,
                      1815
                    ],
                    "jobGroup": "10",
                    "status": "SUCCEEDED",
                    "numTasks": 401,
                    "numActiveTasks": 0,
                    "numCompletedTasks": 400,
                    "numSkippedTasks": 1,
                    "numFailedTasks": 0,
                    "numKilledTasks": 0,
                    "numCompletedIndices": 400,
                    "numActiveStages": 0,
                    "numCompletedStages": 2,
                    "numSkippedStages": 1,
                    "numFailedStages": 0,
                    "killedTasksSummary": {}
                  },
                  {
                    "displayName": "collectAsMap at RandomForest.scala:663",
                    "dataWritten": 0,
                    "dataRead": 0,
                    "rowCount": 0,
                    "usageDescription": "",
                    "jobId": 632,
                    "name": "collectAsMap at RandomForest.scala:663",
                    "description": "Job group for statement 10:\nfrom pyspark.ml.classification import OneVsRest, GBTClassifier\n\n# Configure the base classifier\ngbt = GBTClassifier(featuresCol=\"features\", labelCol=\"label_index\", maxIter=100)\n\n# Wrap it with OneVsRest for multiclass classification\novr = OneVsRest(classifier=gbt, labelCol=\"label_index\", featuresCol=\"features\")\n\n# Create a pipeline with the OneVsRest classifier\nxgb_pipeline = Pipeline(stages=[assembler, ovr])\n\n# Train the OneVsRest (XGBoost-based) model\nxgb_model = xgb_pipeline.fit(train_data)\n\n# Make predictions with the OneVsRest model\nxgb_predictions = xgb_model.transform(test_data)",
                    "submissionTime": "2024-12-09T13:56:46.935GMT",
                    "completionTime": "2024-12-09T13:56:47.129GMT",
                    "stageIds": [
                      1812,
                      1810,
                      1811
                    ],
                    "jobGroup": "10",
                    "status": "SUCCEEDED",
                    "numTasks": 401,
                    "numActiveTasks": 0,
                    "numCompletedTasks": 400,
                    "numSkippedTasks": 1,
                    "numFailedTasks": 0,
                    "numKilledTasks": 0,
                    "numCompletedIndices": 400,
                    "numActiveStages": 0,
                    "numCompletedStages": 2,
                    "numSkippedStages": 1,
                    "numFailedStages": 0,
                    "killedTasksSummary": {}
                  },
                  {
                    "displayName": "collectAsMap at RandomForest.scala:663",
                    "dataWritten": 0,
                    "dataRead": 0,
                    "rowCount": 0,
                    "usageDescription": "",
                    "jobId": 631,
                    "name": "collectAsMap at RandomForest.scala:663",
                    "description": "Job group for statement 10:\nfrom pyspark.ml.classification import OneVsRest, GBTClassifier\n\n# Configure the base classifier\ngbt = GBTClassifier(featuresCol=\"features\", labelCol=\"label_index\", maxIter=100)\n\n# Wrap it with OneVsRest for multiclass classification\novr = OneVsRest(classifier=gbt, labelCol=\"label_index\", featuresCol=\"features\")\n\n# Create a pipeline with the OneVsRest classifier\nxgb_pipeline = Pipeline(stages=[assembler, ovr])\n\n# Train the OneVsRest (XGBoost-based) model\nxgb_model = xgb_pipeline.fit(train_data)\n\n# Make predictions with the OneVsRest model\nxgb_predictions = xgb_model.transform(test_data)",
                    "submissionTime": "2024-12-09T13:56:46.696GMT",
                    "completionTime": "2024-12-09T13:56:46.917GMT",
                    "stageIds": [
                      1809,
                      1807,
                      1808
                    ],
                    "jobGroup": "10",
                    "status": "SUCCEEDED",
                    "numTasks": 401,
                    "numActiveTasks": 0,
                    "numCompletedTasks": 400,
                    "numSkippedTasks": 1,
                    "numFailedTasks": 0,
                    "numKilledTasks": 0,
                    "numCompletedIndices": 400,
                    "numActiveStages": 0,
                    "numCompletedStages": 2,
                    "numSkippedStages": 1,
                    "numFailedStages": 0,
                    "killedTasksSummary": {}
                  },
                  {
                    "displayName": "collectAsMap at RandomForest.scala:663",
                    "dataWritten": 0,
                    "dataRead": 0,
                    "rowCount": 0,
                    "usageDescription": "",
                    "jobId": 630,
                    "name": "collectAsMap at RandomForest.scala:663",
                    "description": "Job group for statement 10:\nfrom pyspark.ml.classification import OneVsRest, GBTClassifier\n\n# Configure the base classifier\ngbt = GBTClassifier(featuresCol=\"features\", labelCol=\"label_index\", maxIter=100)\n\n# Wrap it with OneVsRest for multiclass classification\novr = OneVsRest(classifier=gbt, labelCol=\"label_index\", featuresCol=\"features\")\n\n# Create a pipeline with the OneVsRest classifier\nxgb_pipeline = Pipeline(stages=[assembler, ovr])\n\n# Train the OneVsRest (XGBoost-based) model\nxgb_model = xgb_pipeline.fit(train_data)\n\n# Make predictions with the OneVsRest model\nxgb_predictions = xgb_model.transform(test_data)",
                    "submissionTime": "2024-12-09T13:56:46.474GMT",
                    "completionTime": "2024-12-09T13:56:46.675GMT",
                    "stageIds": [
                      1805,
                      1806,
                      1804
                    ],
                    "jobGroup": "10",
                    "status": "SUCCEEDED",
                    "numTasks": 401,
                    "numActiveTasks": 0,
                    "numCompletedTasks": 400,
                    "numSkippedTasks": 1,
                    "numFailedTasks": 0,
                    "numKilledTasks": 0,
                    "numCompletedIndices": 400,
                    "numActiveStages": 0,
                    "numCompletedStages": 2,
                    "numSkippedStages": 1,
                    "numFailedStages": 0,
                    "killedTasksSummary": {}
                  }
                ],
                "limit": 20,
                "rule": "ALL_DESC"
              },
              "session_id": "1",
              "normalized_state": "finished",
              "queued_time": "2024-12-09T12:55:16.6344302Z",
              "session_start_time": null,
              "execution_start_time": "2024-12-09T13:27:48.8429846Z",
              "execution_finish_time": "2024-12-09T14:36:01.1453764Z",
              "parent_msg_id": "15d5e255-dec8-41a6-85a8-41768ef7c121"
            },
            "text/plain": "StatementMeta(b1a6d09a-cd79-40bd-b154-9f59912128df, 1, 10, Finished, Available, Finished)"
          },
          "metadata": {}
        }
      ],
      "execution_count": 5,
      "metadata": {
        "jupyter": {
          "source_hidden": false,
          "outputs_hidden": false
        },
        "nteract": {
          "transient": {
            "deleting": false
          }
        },
        "gather": {
          "logged": 1733754962297
        }
      }
    },
    {
      "cell_type": "code",
      "source": [
        "from pyspark.ml.evaluation import MulticlassClassificationEvaluator\n",
        "import matplotlib.pyplot as plt\n",
        "import numpy as np\n",
        "\n",
        "# Evaluate ROC AUC for both models\n",
        "rf_auc = evaluator.evaluate(predictions)  # Random Forest\n",
        "xgb_auc = evaluator.evaluate(xgb_predictions)  # XGBoost\n",
        "\n",
        "print(f\"Random Forest ROC AUC Score: {rf_auc}\")\n",
        "print(f\"XGBoost ROC AUC Score: {xgb_auc}\")\n",
        "\n",
        "# ROC Curve for both models\n",
        "rf_roc_data = predictions.select(\"probability\", \"label_index\").rdd \\\n",
        "    .map(lambda row: (float(row.probability[1]), float(row.label_index))).collect()\n",
        "# Compute probabilities from rawPrediction for XGBoost\n",
        "def raw_to_probability(raw_pred):\n",
        "    exp_raw = np.exp(raw_pred)\n",
        "    return exp_raw / exp_raw.sum()\n",
        "\n",
        "# ROC Curve for XGBoost\n",
        "xgb_roc_data = xgb_predictions.select(\"rawPrediction\", \"label_index\").rdd \\\n",
        "    .map(lambda row: (float(raw_to_probability(row.rawPrediction)[1]), float(row.label_index))).collect()\n",
        "\n",
        "def compute_roc_curve(roc_data):\n",
        "    roc_data = sorted(roc_data, key=lambda x: x[0])\n",
        "    tprs, fprs = [], []\n",
        "    positives = sum(1 for _, label in roc_data if label == 1)\n",
        "    negatives = sum(1 for _, label in roc_data if label == 0)\n",
        "\n",
        "    tp, fp = 0, 0\n",
        "    for prob, label in roc_data:\n",
        "        if label == 1:\n",
        "            tp += 1\n",
        "        else:\n",
        "            fp += 1\n",
        "        tprs.append(tp / positives)\n",
        "        fprs.append(fp / negatives)\n",
        "\n",
        "    return tprs, fprs\n",
        "\n",
        "rf_tprs, rf_fprs = compute_roc_curve(rf_roc_data)\n",
        "xgb_tprs, xgb_fprs = compute_roc_curve(xgb_roc_data)\n",
        "\n",
        "# Plot ROC Curves\n",
        "plt.figure(figsize=(8, 6))\n",
        "plt.plot(rf_fprs, rf_tprs, label=f'Random Forest (AUC = {rf_auc:.2f})', color='#EE7F68')\n",
        "plt.plot(xgb_fprs, xgb_tprs, label=f'XGBoost (AUC = {xgb_auc:.2f})', color='#F8CD92')\n",
        "plt.plot([0, 1], [0, 1], 'k--', label='Random Guess', color='#78C383')\n",
        "plt.xlabel('False Positive Rate')\n",
        "plt.ylabel('True Positive Rate')\n",
        "plt.title('ROC Curve')\n",
        "plt.legend()\n",
        "\n",
        "# Make the background transparent\n",
        "plt.gca().patch.set_alpha(0)  # Set axes background transparent\n",
        "plt.savefig('roc_curve.png', transparent=True) \n",
        "plt.show()"
      ],
      "outputs": [
        {
          "output_type": "display_data",
          "data": {
            "application/vnd.livy.statement-meta+json": {
              "spark_pool": "b1a6d09a-cd79-40bd-b154-9f59912128df",
              "statement_id": 12,
              "statement_ids": [
                12
              ],
              "state": "finished",
              "livy_statement_state": "available",
              "spark_jobs": {
                "numbers": {
                  "RUNNING": 0,
                  "UNKNOWN": 0,
                  "FAILED": 0,
                  "SUCCEEDED": 0
                },
                "jobs": [],
                "limit": 20,
                "rule": "ALL_DESC"
              },
              "session_id": "1",
              "normalized_state": "finished",
              "queued_time": "2024-12-09T14:57:59.9746921Z",
              "session_start_time": null,
              "execution_start_time": "2024-12-09T14:58:00.1310195Z",
              "execution_finish_time": "2024-12-09T15:19:25.6890579Z",
              "parent_msg_id": "9cc92c4a-6f7e-459f-9cad-e80045be8f81"
            },
            "text/plain": "StatementMeta(b1a6d09a-cd79-40bd-b154-9f59912128df, 1, 12, Finished, Available, Finished)"
          },
          "metadata": {}
        },
        {
          "output_type": "stream",
          "name": "stderr",
          "text": "/tmp/ipykernel_9747/2014263445.py:48: UserWarning: color is redundantly defined by the 'color' keyword argument and the fmt string \"k--\" (-> color='k'). The keyword argument will take precedence.\n  plt.plot([0, 1], [0, 1], 'k--', label='Random Guess', color='#78C383')\n"
        },
        {
          "output_type": "display_data",
          "data": {
            "text/plain": "<Figure size 800x600 with 1 Axes>",
            "image/png": "[encoded data removed]"
          },
          "metadata": {}
        }
      ],
      "execution_count": 7,
      "metadata": {
        "jupyter": {
          "source_hidden": false,
          "outputs_hidden": false
        },
        "nteract": {
          "transient": {
            "deleting": false
          }
        },
        "gather": {
          "logged": 1733757632073
        }
      }
    },
    {
      "cell_type": "code",
      "source": [
        "import seaborn as sns\n",
        "from sklearn.metrics import confusion_matrix\n",
        "import matplotlib.pyplot as plt\n",
        "from matplotlib.colors import LinearSegmentedColormap\n",
        "\n",
        "# Create a custom colormap with #5E8799 as the main color\n",
        "custom_cmap = LinearSegmentedColormap.from_list(\"custom_cmap\", [\"white\", \"#5E8799\"])\n",
        "\n",
        "# Confusion Matrix for Random Forest\n",
        "rf_y_true = predictions.select(\"label_index\").rdd.flatMap(lambda x: x).collect()\n",
        "rf_y_pred = predictions.select(\"prediction\").rdd.flatMap(lambda x: x).collect()\n",
        "rf_cm = confusion_matrix(rf_y_true, rf_y_pred)\n",
        "\n",
        "# Confusion Matrix for XGBoost\n",
        "xgb_y_true = xgb_predictions.select(\"label_index\").rdd.flatMap(lambda x: x).collect()\n",
        "xgb_y_pred = xgb_predictions.select(\"prediction\").rdd.flatMap(lambda x: x).collect()\n",
        "xgb_cm = confusion_matrix(xgb_y_true, xgb_y_pred)\n",
        "rf_cm = rf_cm[:2, :2]\n",
        "xgb_cm = xgb_cm[:2, :2]\n",
        "\n",
        "# Plot confusion matrices\n",
        "fig, axes = plt.subplots(1, 2, figsize=(12, 6))\n",
        "\n",
        "sns.heatmap(rf_cm, annot=True, fmt=\"d\", cmap=custom_cmap, \n",
        "            xticklabels=[\"YTA\", \"NTA\"], \n",
        "            yticklabels=[\"YTA\", \"NTA\"], ax=axes[0])\n",
        "axes[0].set_title(\"Random Forest Confusion Matrix\")\n",
        "axes[0].set_xlabel(\"Predicted\")\n",
        "axes[0].set_ylabel(\"Actual\")\n",
        "\n",
        "sns.heatmap(xgb_cm, annot=True, fmt=\"d\", cmap=custom_cmap, \n",
        "            xticklabels=[\"YTA\", \"NTA\"], \n",
        "            yticklabels=[\"YTA\", \"NTA\"], ax=axes[1])\n",
        "axes[1].set_title(\"XGBoost Confusion Matrix\")\n",
        "axes[1].set_xlabel(\"Predicted\")\n",
        "axes[1].set_ylabel(\"Actual\")\n",
        "\n",
        "plt.tight_layout()\n",
        "# Make the background transparent\n",
        "fig.patch.set_alpha(0)  # Set figure background transparent\n",
        "plt.savefig('confusion_matrices.png', transparent=True) \n",
        "plt.show()"
      ],
      "outputs": [
        {
          "output_type": "display_data",
          "data": {
            "application/vnd.livy.statement-meta+json": {
              "spark_pool": "b1a6d09a-cd79-40bd-b154-9f59912128df",
              "statement_id": 15,
              "statement_ids": [
                15
              ],
              "state": "submitted",
              "livy_statement_state": "running",
              "spark_jobs": {
                "numbers": {
                  "RUNNING": 0,
                  "UNKNOWN": 0,
                  "FAILED": 0,
                  "SUCCEEDED": 0
                },
                "jobs": [],
                "limit": 20,
                "rule": "ALL_DESC"
              },
              "session_id": "1",
              "normalized_state": "running",
              "queued_time": "2024-12-09T15:57:39.6877262Z",
              "session_start_time": null,
              "execution_start_time": "2024-12-09T15:57:39.8826801Z",
              "execution_finish_time": null,
              "parent_msg_id": "65e5b739-bd52-4927-a261-118ebf162962"
            },
            "text/plain": "StatementMeta(b1a6d09a-cd79-40bd-b154-9f59912128df, 1, 15, Submitted, Running, Running)"
          },
          "metadata": {}
        },
        {
          "output_type": "display_data",
          "data": {
            "text/plain": "<Figure size 1200x600 with 4 Axes>",
            "image/png": "[encoded data removed]"
          },
          "metadata": {
            "needs_background": "light"
          }
        }
      ],
      "execution_count": 10,
      "metadata": {
        "jupyter": {
          "source_hidden": false,
          "outputs_hidden": false
        },
        "nteract": {
          "transient": {
            "deleting": false
          }
        },
        "gather": {
          "logged": 1733761056299
        }
      }
    },
    {
      "cell_type": "code",
      "source": [
        "from sklearn.metrics import classification_report\n",
        "\n",
        "# Precision, Recall, F1-Score for Random Forest\n",
        "rf_report = classification_report(rf_y_true, rf_y_pred, target_names=[\"YTA\", \"NTA\", \"ESH\", \"NAH\", \"INFO\"], zero_division=0)\n",
        "print(\"Random Forest Classification Report:\")\n",
        "print(rf_report)\n",
        "\n",
        "# Precision, Recall, F1-Score for XGBoost\n",
        "xgb_report = classification_report(xgb_y_true, xgb_y_pred, target_names=[\"YTA\", \"NTA\", \"ESH\", \"NAH\", \"INFO\"], zero_division=0)\n",
        "print(\"XGBoost Classification Report:\")\n",
        "print(xgb_report)"
      ],
      "outputs": [
        {
          "output_type": "display_data",
          "data": {
            "application/vnd.livy.statement-meta+json": {
              "spark_pool": "b1a6d09a-cd79-40bd-b154-9f59912128df",
              "statement_id": 19,
              "statement_ids": [
                19
              ],
              "state": "finished",
              "livy_statement_state": "available",
              "spark_jobs": {
                "numbers": {
                  "RUNNING": 0,
                  "UNKNOWN": 0,
                  "FAILED": 0,
                  "SUCCEEDED": 0
                },
                "jobs": [],
                "limit": 20,
                "rule": "ALL_DESC"
              },
              "session_id": "1",
              "normalized_state": "finished",
              "queued_time": "2024-12-09T16:27:34.1678736Z",
              "session_start_time": null,
              "execution_start_time": "2024-12-09T16:27:34.3863725Z",
              "execution_finish_time": "2024-12-09T16:27:34.7240637Z",
              "parent_msg_id": "305a5448-2343-4b6b-bc5d-239a4a33ece4"
            },
            "text/plain": "StatementMeta(b1a6d09a-cd79-40bd-b154-9f59912128df, 1, 19, Finished, Available, Finished)"
          },
          "metadata": {}
        },
        {
          "output_type": "stream",
          "name": "stdout",
          "text": "Random Forest Classification Report:\n              precision    recall  f1-score   support\n\n         YTA       0.72      0.52      0.60      7387\n         NTA       0.59      0.84      0.69      7012\n         ESH       0.00      0.00      0.00       383\n         NAH       0.00      0.00      0.00       317\n        INFO       0.00      0.00      0.00       253\n\n    accuracy                           0.63     15352\n   macro avg       0.26      0.27      0.26     15352\nweighted avg       0.61      0.63      0.60     15352\n\nXGBoost Classification Report:\n              precision    recall  f1-score   support\n\n         YTA       0.71      0.62      0.66      7387\n         NTA       0.64      0.81      0.71      7012\n         ESH       0.00      0.00      0.00       383\n         NAH       0.00      0.00      0.00       317\n        INFO       0.00      0.00      0.00       253\n\n    accuracy                           0.67     15352\n   macro avg       0.27      0.29      0.27     15352\nweighted avg       0.63      0.67      0.64     15352\n\n"
        }
      ],
      "execution_count": 14,
      "metadata": {
        "jupyter": {
          "source_hidden": false,
          "outputs_hidden": false
        },
        "nteract": {
          "transient": {
            "deleting": false
          }
        },
        "gather": {
          "logged": 1733761654911
        }
      }
    },
    {
      "cell_type": "code",
      "source": [
        "from sklearn.metrics import cohen_kappa_score\n",
        "\n",
        "# Cohen's Kappa Score for Random Forest\n",
        "rf_kappa = cohen_kappa_score(rf_y_true, rf_y_pred)\n",
        "print(f\"Random Forest Kappa Score: {rf_kappa}\")\n",
        "\n",
        "# Cohen's Kappa Score for XGBoost\n",
        "xgb_kappa = cohen_kappa_score(xgb_y_true, xgb_y_pred)\n",
        "print(f\"XGBoost Kappa Score: {xgb_kappa}\")"
      ],
      "outputs": [
        {
          "output_type": "display_data",
          "data": {
            "application/vnd.livy.statement-meta+json": {
              "spark_pool": null,
              "statement_id": null,
              "statement_ids": null,
              "state": "waiting",
              "livy_statement_state": null,
              "spark_jobs": null,
              "session_id": null,
              "normalized_state": "waiting",
              "queued_time": "2024-12-09T15:58:11.7220421Z",
              "session_start_time": null,
              "execution_start_time": null,
              "execution_finish_time": null,
              "parent_msg_id": "9e52fff2-a2ed-4241-8a94-eb4cfcc16060"
            },
            "text/plain": "StatementMeta(, , , Waiting, , Waiting)"
          },
          "metadata": {}
        },
        {
          "output_type": "stream",
          "name": "stdout",
          "text": "Random Forest Kappa Score: 0.3125477758880384\nXGBoost Kappa Score: 0.37599140374591733\n"
        }
      ],
      "execution_count": 12,
      "metadata": {
        "jupyter": {
          "source_hidden": false,
          "outputs_hidden": false
        },
        "nteract": {
          "transient": {
            "deleting": false
          }
        },
        "gather": {
          "logged": 1733761058706
        }
      }
    },
    {
      "cell_type": "markdown",
      "source": [
        "# Saving Models"
      ],
      "metadata": {
        "nteract": {
          "transient": {
            "deleting": false
          }
        }
      }
    },
    {
      "cell_type": "code",
      "source": [
        "# Save the trained Random Forest model\n",
        "rf_model_path = \"azureml://subscriptions/21ff0fc0-dd2c-450d-93b7-96eeb3699b22/resourcegroups/project-group-27/workspaces/project-group-27/datastores/workspaceblobstore/paths/UI/2024-12-08_211801_UTC/rf_model_aita\"\n",
        "model.write().overwrite().save(rf_model_path)\n",
        "print(f\"Random Forest model saved to {rf_model_path}\")"
      ],
      "outputs": [
        {
          "output_type": "display_data",
          "data": {
            "application/vnd.livy.statement-meta+json": {
              "spark_pool": "b1a6d09a-cd79-40bd-b154-9f59912128df",
              "statement_id": 22,
              "statement_ids": [
                22
              ],
              "state": "finished",
              "livy_statement_state": "available",
              "spark_jobs": {
                "numbers": {
                  "RUNNING": 0,
                  "UNKNOWN": 0,
                  "FAILED": 0,
                  "SUCCEEDED": 0
                },
                "jobs": [],
                "limit": 20,
                "rule": "ALL_DESC"
              },
              "session_id": "1",
              "normalized_state": "finished",
              "queued_time": "2024-12-09T16:49:20.8333403Z",
              "session_start_time": null,
              "execution_start_time": "2024-12-09T16:49:21.0688286Z",
              "execution_finish_time": "2024-12-09T16:49:27.6909283Z",
              "parent_msg_id": "05941a3d-ffbe-497f-86ff-f1d5e6db9577"
            },
            "text/plain": "StatementMeta(b1a6d09a-cd79-40bd-b154-9f59912128df, 1, 22, Finished, Available, Finished)"
          },
          "metadata": {}
        },
        {
          "output_type": "stream",
          "name": "stdout",
          "text": "Random Forest model saved to azureml://subscriptions/21ff0fc0-dd2c-450d-93b7-96eeb3699b22/resourcegroups/project-group-27/workspaces/project-group-27/datastores/workspaceblobstore/paths/UI/2024-12-08_211801_UTC/rf_model_aita\n"
        }
      ],
      "execution_count": 17,
      "metadata": {
        "jupyter": {
          "source_hidden": false,
          "outputs_hidden": false
        },
        "nteract": {
          "transient": {
            "deleting": false
          }
        },
        "gather": {
          "logged": 1733762967845
        }
      }
    },
    {
      "cell_type": "code",
      "source": [
        "# Save the trained XGBoost (OneVsRest) model\n",
        "xgb_model_path = \"azureml://subscriptions/21ff0fc0-dd2c-450d-93b7-96eeb3699b22/resourcegroups/project-group-27/workspaces/project-group-27/datastores/workspaceblobstore/paths/UI/2024-12-08_211801_UTC/xgboost_model_aita\"\n",
        "xgb_model.write().overwrite().save(xgb_model_path)\n",
        "print(f\"XGBoost model saved to {xgb_model_path}\")"
      ],
      "outputs": [
        {
          "output_type": "display_data",
          "data": {
            "application/vnd.livy.statement-meta+json": {
              "spark_pool": "b1a6d09a-cd79-40bd-b154-9f59912128df",
              "statement_id": 23,
              "statement_ids": [
                23
              ],
              "state": "finished",
              "livy_statement_state": "available",
              "spark_jobs": {
                "numbers": {
                  "RUNNING": 0,
                  "UNKNOWN": 0,
                  "FAILED": 0,
                  "SUCCEEDED": 0
                },
                "jobs": [],
                "limit": 20,
                "rule": "ALL_DESC"
              },
              "session_id": "1",
              "normalized_state": "finished",
              "queued_time": "2024-12-09T16:50:17.9002397Z",
              "session_start_time": null,
              "execution_start_time": "2024-12-09T16:50:18.0213414Z",
              "execution_finish_time": "2024-12-09T16:50:43.1085163Z",
              "parent_msg_id": "bba1abe5-451c-44da-b972-f9d313d7fb76"
            },
            "text/plain": "StatementMeta(b1a6d09a-cd79-40bd-b154-9f59912128df, 1, 23, Finished, Available, Finished)"
          },
          "metadata": {}
        },
        {
          "output_type": "stream",
          "name": "stdout",
          "text": "XGBoost model saved to azureml://subscriptions/21ff0fc0-dd2c-450d-93b7-96eeb3699b22/resourcegroups/project-group-27/workspaces/project-group-27/datastores/workspaceblobstore/paths/UI/2024-12-08_211801_UTC/xgboost_model_aita\n"
        }
      ],
      "execution_count": 18,
      "metadata": {
        "jupyter": {
          "source_hidden": false,
          "outputs_hidden": false
        },
        "nteract": {
          "transient": {
            "deleting": false
          }
        },
        "gather": {
          "logged": 1733763043318
        }
      }
    }
  ],
  "metadata": {
    "kernel_info": {
      "name": "synapse_pyspark"
    },
    "kernelspec": {
      "name": "synapse_pyspark",
      "language": "Python",
      "display_name": "Synapse PySpark"
    },
    "language_info": {
      "name": "python",
      "version": "3.8.0",
      "mimetype": "text/x-python",
      "file_extension": ".py",
      "pygments_lexer": "ipython",
      "codemirror_mode": "ipython",
      "nbconvert_exporter": "python"
    },
    "microsoft": {
      "host": {
        "AzureML": {
          "notebookHasBeenCompleted": true
        }
      },
      "ms_spell_check": {
        "ms_spell_check_language": "en"
      }
    },
    "nteract": {
      "version": "nteract-front-end@1.0.0"
    }
  },
  "nbformat": 4,
  "nbformat_minor": 2
}