{
 "cells": [
  {
   "cell_type": "markdown",
   "id": "b6617018-ee79-4306-b44d-4e0ff4633cd1",
   "metadata": {},
   "source": [
    "# Initialize spark session"
   ]
  },
  {
   "cell_type": "code",
   "execution_count": null,
   "id": "ea44476e-99ed-49ab-a6cf-4bd57e71d3f5",
   "metadata": {},
   "outputs": [],
   "source": [
    "# Setup - Run only once per Kernel App\n",
    "%conda install https://anaconda.org/conda-forge/openjdk/11.0.1/download/linux-64/openjdk-11.0.1-hacce0ff_1021.tar.bz2\n",
    "\n",
    "# install PySpark\n",
    "%pip install pyspark==3.4.0\n",
    "\n",
    "# restart kernel\n",
    "from IPython.core.display import HTML\n",
    "HTML(\"<script>Jupyter.notebook.kernel.restart()</script>\")"
   ]
  },
  {
   "cell_type": "code",
   "execution_count": 8,
   "id": "c10d6f6a-4cd4-403b-bd0e-15aa9e84238b",
   "metadata": {},
   "outputs": [
    {
     "name": "stdout",
     "output_type": "stream",
     "text": [
      "3.4.0\n"
     ]
    }
   ],
   "source": [
    "# Import pyspark and build Spark session\n",
    "from pyspark.sql import SparkSession\n",
    "\n",
    "spark = (\n",
    "    SparkSession.builder.appName(\"PySparkApp\")\n",
    "    .config(\"spark.jars.packages\", \"org.apache.hadoop:hadoop-aws:3.2.2\")\n",
    "    .config(\n",
    "        \"fs.s3a.aws.credentials.provider\",\n",
    "        \"com.amazonaws.auth.ContainerCredentialsProvider\",\n",
    "    )\n",
    "    .getOrCreate()\n",
    ")\n",
    "\n",
    "print(spark.version)"
   ]
  },
  {
   "cell_type": "code",
   "execution_count": 58,
   "id": "b450a8ef-92fb-444a-b025-5f39cb6bf9aa",
   "metadata": {},
   "outputs": [
    {
     "name": "stderr",
     "output_type": "stream",
     "text": [
      "/tmp/ipykernel_141/2731177420.py:2: DeprecationWarning: Importing display from IPython.core.display is deprecated since IPython 7.14, please import from IPython.display\n",
      "  from IPython.core.display import display, HTML\n"
     ]
    },
    {
     "data": {
      "text/html": [
       "<style>div.jp-OutputArea-output pre {white-space: pre;}</style>"
      ],
      "text/plain": [
       "<IPython.core.display.HTML object>"
      ]
     },
     "metadata": {},
     "output_type": "display_data"
    },
    {
     "name": "stderr",
     "output_type": "stream",
     "text": [
      "[Stage 165:>(36 + 4) / 69][Stage 166:>(0 + 0) / 197][Stage 167:> (0 + 0) / 69]\r"
     ]
    }
   ],
   "source": [
    "# Disable output cell folding\n",
    "from IPython.core.display import display, HTML\n",
    "display(HTML(\"<style>div.jp-OutputArea-output pre {white-space: pre;}</style>\"))"
   ]
  },
  {
   "cell_type": "markdown",
   "id": "2dff0add-0d89-4b1e-842a-52111ad47c53",
   "metadata": {},
   "source": [
    "# Submissions (Posts)"
   ]
  },
  {
   "cell_type": "code",
   "execution_count": 9,
   "id": "631d294d-5f39-4e01-bd91-756589d45963",
   "metadata": {},
   "outputs": [
    {
     "name": "stdout",
     "output_type": "stream",
     "text": [
      "sagemaker.config INFO - Not applying SDK defaults from location: /etc/xdg/sagemaker/config.yaml\n",
      "sagemaker.config INFO - Not applying SDK defaults from location: /home/sagemaker-user/.config/sagemaker/config.yaml\n"
     ]
    }
   ],
   "source": [
    "import sagemaker\n",
    "session = sagemaker.Session()\n",
    "bucket = session.default_bucket()"
   ]
  },
  {
   "cell_type": "code",
   "execution_count": 10,
   "id": "41c8672b-822b-4a26-a874-34adddfd70df",
   "metadata": {},
   "outputs": [
    {
     "name": "stdout",
     "output_type": "stream",
     "text": [
      "reading submissions from s3a://sagemaker-us-east-1-637423443621/BDproject/submissions/yyyy=*\n"
     ]
    },
    {
     "name": "stderr",
     "output_type": "stream",
     "text": [
      "24/11/12 22:02:03 WARN MetricsConfig: Cannot locate configuration: tried hadoop-metrics2-s3a-file-system.properties,hadoop-metrics2.properties\n",
      "[Stage 1:======================================================>  (22 + 1) / 23]\r"
     ]
    },
    {
     "name": "stdout",
     "output_type": "stream",
     "text": [
      "shape of the submissions dataframe is 3,186,808x21\n",
      "CPU times: user 26.2 ms, sys: 4.31 ms, total: 30.6 ms\n",
      "Wall time: 48.9 s\n"
     ]
    },
    {
     "name": "stderr",
     "output_type": "stream",
     "text": [
      "                                                                                \r"
     ]
    }
   ],
   "source": [
    "%%time\n",
    "output_prefix_data_submissions = f\"BDproject/submissions/yyyy=*\"\n",
    "s3_path = f\"s3a://{bucket}/{output_prefix_data_submissions}\"\n",
    "print(f\"reading submissions from {s3_path}\")\n",
    "submissions = spark.read.parquet(s3_path, header=True)\n",
    "print(f\"shape of the submissions dataframe is {submissions.count():,}x{len(submissions.columns)}\")"
   ]
  },
  {
   "cell_type": "code",
   "execution_count": 11,
   "id": "cc0d32b5-40af-4b7c-bac0-bd17cf5b9d9f",
   "metadata": {},
   "outputs": [
    {
     "name": "stderr",
     "output_type": "stream",
     "text": [
      "[Stage 4:======================================================>  (22 + 1) / 23]\r"
     ]
    },
    {
     "name": "stdout",
     "output_type": "stream",
     "text": [
      "+---------------+-------+\n",
      "|      subreddit|  count|\n",
      "+---------------+-------+\n",
      "|      AskReddit|2686082|\n",
      "|  AmItheAsshole| 487706|\n",
      "|AmIOverreacting|  13020|\n",
      "+---------------+-------+\n",
      "\n"
     ]
    },
    {
     "name": "stderr",
     "output_type": "stream",
     "text": [
      "                                                                                \r"
     ]
    }
   ],
   "source": [
    "# check counts (ensuring all needed subreddits exist)\n",
    "submissions.groupBy('subreddit').count().show()"
   ]
  },
  {
   "cell_type": "code",
   "execution_count": 12,
   "id": "2a0c0bb4-dd43-49a0-8e09-6b41c8ec5670",
   "metadata": {},
   "outputs": [
    {
     "name": "stdout",
     "output_type": "stream",
     "text": [
      "root\n",
      " |-- author: string (nullable = true)\n",
      " |-- author_flair_css_class: string (nullable = true)\n",
      " |-- author_flair_text: string (nullable = true)\n",
      " |-- created_utc: long (nullable = true)\n",
      " |-- distinguished: string (nullable = true)\n",
      " |-- domain: string (nullable = true)\n",
      " |-- edited: double (nullable = true)\n",
      " |-- id: string (nullable = true)\n",
      " |-- is_self: boolean (nullable = true)\n",
      " |-- locked: boolean (nullable = true)\n",
      " |-- num_comments: long (nullable = true)\n",
      " |-- over_18: boolean (nullable = true)\n",
      " |-- quarantine: boolean (nullable = true)\n",
      " |-- retrieved_on: long (nullable = true)\n",
      " |-- score: long (nullable = true)\n",
      " |-- selftext: string (nullable = true)\n",
      " |-- stickied: boolean (nullable = true)\n",
      " |-- subreddit: string (nullable = true)\n",
      " |-- subreddit_id: string (nullable = true)\n",
      " |-- title: string (nullable = true)\n",
      " |-- url: string (nullable = true)\n",
      "\n"
     ]
    }
   ],
   "source": [
    "submissions.printSchema()"
   ]
  },
  {
   "cell_type": "markdown",
   "id": "2a85ef87-dfd1-4f17-a037-3149fe1a4f24",
   "metadata": {},
   "source": [
    "### Select & Reorder Columns"
   ]
  },
  {
   "cell_type": "code",
   "execution_count": 13,
   "id": "63a2b70e-e9bf-45ad-913f-73c274147c3b",
   "metadata": {},
   "outputs": [
    {
     "name": "stderr",
     "output_type": "stream",
     "text": [
      "                                                                                \r"
     ]
    },
    {
     "name": "stdout",
     "output_type": "stream",
     "text": [
      "aita shape: (487706, 9)\n"
     ]
    },
    {
     "name": "stderr",
     "output_type": "stream",
     "text": [
      "                                                                                \r"
     ]
    },
    {
     "name": "stdout",
     "output_type": "stream",
     "text": [
      "aio shape: (13020, 9)\n"
     ]
    },
    {
     "name": "stderr",
     "output_type": "stream",
     "text": [
      "[Stage 13:=====================================================>  (22 + 1) / 23]\r"
     ]
    },
    {
     "name": "stdout",
     "output_type": "stream",
     "text": [
      "AskReddit shape: (2686082, 9)\n"
     ]
    },
    {
     "name": "stderr",
     "output_type": "stream",
     "text": [
      "                                                                                \r"
     ]
    }
   ],
   "source": [
    "# select and reorder columns\n",
    "submissions = submissions.select(\n",
    "    'id',\n",
    "    'author',\n",
    "    'created_utc',\n",
    "    'subreddit',\n",
    "    'title',\n",
    "    'selftext',\n",
    "    'score',\n",
    "    'num_comments',\n",
    "    'over_18'\n",
    ")\n",
    "\n",
    "# filter and create separate dataframes\n",
    "aita = submissions.filter(submissions['subreddit'] == 'AmItheAsshole')\n",
    "aio = submissions.filter(submissions['subreddit'] == 'AmIOverreacting')\n",
    "ask_reddit = submissions.filter(submissions['subreddit'] == 'AskReddit')\n",
    "\n",
    "# print initial shapes of each subreddit\n",
    "aita_count = aita.count()\n",
    "aita_columns = len(aita.columns)\n",
    "print(f\"aita shape: ({aita_count}, {aita_columns})\")\n",
    "\n",
    "aio_count = aio.count()\n",
    "aio_columns = len(aio.columns)\n",
    "print(f\"aio shape: ({aio_count}, {aio_columns})\")\n",
    "\n",
    "ask_reddit_count = ask_reddit.count()\n",
    "ask_reddit_columns = len(ask_reddit.columns)\n",
    "print(f\"AskReddit shape: ({ask_reddit_count}, {ask_reddit_columns})\")"
   ]
  },
  {
   "cell_type": "code",
   "execution_count": 14,
   "id": "c1aecb37-0f69-44db-a0a5-704cc45d8961",
   "metadata": {},
   "outputs": [
    {
     "name": "stdout",
     "output_type": "stream",
     "text": [
      "+-------+------------------+-----------+-------------+--------------------+--------------------+-----+------------+-------+\n",
      "|     id|            author|created_utc|    subreddit|               title|            selftext|score|num_comments|over_18|\n",
      "+-------+------------------+-----------+-------------+--------------------+--------------------+-----+------------+-------+\n",
      "|1522z9b|        Saratom725| 1689602826|AmItheAsshole|AITA for choosing...|My entire life i’...|    1|           1|  false|\n",
      "|1522zgp|             44Jon| 1689602840|AmItheAsshole|AITA for calling ...|This occurred at ...|    1|           1|  false|\n",
      "|15232um|ThrowMeAway4534534| 1689603061|AmItheAsshole|AITA because i as...|Hi.\\r  \\n I (19) ...|    1|           1|  false|\n",
      "|15234g2|  Scarlett_Witch06| 1689603168|AmItheAsshole|AITA for telling ...|My boyfriend is o...|    1|           1|  false|\n",
      "|152353p|  Final_Pudding480| 1689603214|AmItheAsshole|AITA for telling ...|I (26m) have a fr...|    1|           1|  false|\n",
      "|15235bs|  iamananachronism| 1689603229|AmItheAsshole|AITA for getting ...|Full disclosure: ...|    1|           1|  false|\n",
      "|15235h6|     Smartietart88| 1689603241|AmItheAsshole|AITAH for wanting...|My fiance (38M) a...|    1|           1|  false|\n",
      "|15235sj|    whiteraven4142| 1689603261|AmItheAsshole|AITA For Holding ...|           [removed]|    1|           1|  false|\n",
      "|1523668| Ok_Grapefruit2822| 1689603287|AmItheAsshole|AITA in my relati...|I (25M) and datin...|    1|           1|  false|\n",
      "|15237wt|         Miss0verK| 1689603397|AmItheAsshole|AITA for not want...|My boyfriend of 2...|    1|           1|  false|\n",
      "+-------+------------------+-----------+-------------+--------------------+--------------------+-----+------------+-------+\n",
      "only showing top 10 rows\n",
      "\n"
     ]
    }
   ],
   "source": [
    "aita.show(10)"
   ]
  },
  {
   "cell_type": "code",
   "execution_count": 15,
   "id": "26c6ce42-993a-4dbc-a608-b9786feee043",
   "metadata": {},
   "outputs": [
    {
     "name": "stderr",
     "output_type": "stream",
     "text": [
      "[Stage 17:>                                                         (0 + 1) / 1]\r"
     ]
    },
    {
     "name": "stdout",
     "output_type": "stream",
     "text": [
      "+-------+--------------------+-----------+---------------+--------------------+--------------------+-----+------------+-------+\n",
      "|     id|              author|created_utc|      subreddit|               title|            selftext|score|num_comments|over_18|\n",
      "+-------+--------------------+-----------+---------------+--------------------+--------------------+-----+------------+-------+\n",
      "|152bamc|          Samisafish| 1689621832|AmIOverreacting|Am I overreacting...|Am I overreacting...|    1|           0|  false|\n",
      "|154f5mt|Glittering_Cream_362| 1689822199|AmIOverreacting|Pool party man ma...|So basically a fe...|    1|           0|  false|\n",
      "|15dwae6|     ImpressiveAd808| 1690750696|AmIOverreacting|Am I [18Ftm] over...|\\nMe and my boyfr...|    1|           0|   true|\n",
      "|15dwzzl| strangeandunusual3x| 1690752356|AmIOverreacting|Another vent, mos...|Ok so for the 2 p...|    1|           0|  false|\n",
      "|156b7dy|             chrryxo| 1690003824|AmIOverreacting|Am I overeacting ...|Me (17f, white) a...|    1|           0|  false|\n",
      "|15jkfbw|      TableGarden365| 1691310823|AmIOverreacting|Am I over reactin...|I have never real...|    1|           0|  false|\n",
      "|15jpeu5|        No_Royal9579| 1691327757|AmIOverreacting|I[20F] feel my pa...|\\n (For reference...|    1|           0|  false|\n",
      "|15plomk|Embarrassed_Grass576| 1691890173|AmIOverreacting|I feel like im be...|Sorry if there ty...|    1|           0|  false|\n",
      "|15d3bu9|     octopus_balls04| 1690665833|AmIOverreacting|  Am I overreacting?|I'm autistic and ...|    1|           0|  false|\n",
      "|15ded7w|Independent_duck2559| 1690698664|AmIOverreacting|Am I overreacting...|My boyfriend aske...|    1|           0|  false|\n",
      "+-------+--------------------+-----------+---------------+--------------------+--------------------+-----+------------+-------+\n",
      "only showing top 10 rows\n",
      "\n"
     ]
    },
    {
     "name": "stderr",
     "output_type": "stream",
     "text": [
      "                                                                                \r"
     ]
    }
   ],
   "source": [
    "aio.show(10)"
   ]
  },
  {
   "cell_type": "code",
   "execution_count": 16,
   "id": "1d603b22-0afc-47b9-b403-a5eb744bfbc6",
   "metadata": {},
   "outputs": [
    {
     "name": "stdout",
     "output_type": "stream",
     "text": [
      "+-------+--------------------+-----------+---------+--------------------+--------+-----+------------+-------+\n",
      "|     id|              author|created_utc|subreddit|               title|selftext|score|num_comments|over_18|\n",
      "+-------+--------------------+-----------+---------+--------------------+--------+-----+------------+-------+\n",
      "|1522z1j|           KIRA_2507| 1689602811|AskReddit|What piece of adv...|        |    1|           0|  false|\n",
      "|1522z2r| AffectionateAnt4868| 1689602813|AskReddit|It's 2023, who is...|        |    1|           0|   true|\n",
      "|1522z90|FormRepresentative66| 1689602826|AskReddit|What do think of ...|        |    1|           0|  false|\n",
      "|1522zb6|             Zattari| 1689602829|AskReddit|How would you des...|        |    1|           0|  false|\n",
      "|1522zeq|          Wingstorm0| 1689602837|AskReddit|My fellow Reddito...|        |    1|           1|  false|\n",
      "|1522zfd|     veni-vidi-vic-i| 1689602838|AskReddit|How have a really...|        |    1|           0|  false|\n",
      "|1522zff|          meganmirav| 1689602838|AskReddit|What’s a movie th...|        |    1|           0|  false|\n",
      "|1522zip|     Throat_Goat2092| 1689602843|AskReddit|What do you need ...|        |    1|           0|  false|\n",
      "|1522zng|         Orgasmister| 1689602852|AskReddit|Which is the most...|        |    1|           0|  false|\n",
      "|1522zqm|    Quick-Cream-5325| 1689602858|AskReddit|What subreddit ca...|        |    1|           1|  false|\n",
      "+-------+--------------------+-----------+---------+--------------------+--------+-----+------------+-------+\n",
      "only showing top 10 rows\n",
      "\n"
     ]
    }
   ],
   "source": [
    "ask_reddit.show(10)"
   ]
  },
  {
   "cell_type": "markdown",
   "id": "8c91b5b4-d1e9-4d0b-ba00-39258813ffd6",
   "metadata": {},
   "source": [
    "### Remove posts that have selftext removed"
   ]
  },
  {
   "cell_type": "code",
   "execution_count": 17,
   "id": "ef51c73f-c7d8-4164-95fe-3171202b95a5",
   "metadata": {},
   "outputs": [
    {
     "name": "stderr",
     "output_type": "stream",
     "text": [
      "                                                                                \r"
     ]
    },
    {
     "name": "stdout",
     "output_type": "stream",
     "text": [
      "aita shape: (243778, 9)\n"
     ]
    },
    {
     "name": "stderr",
     "output_type": "stream",
     "text": [
      "                                                                                \r"
     ]
    },
    {
     "name": "stdout",
     "output_type": "stream",
     "text": [
      "aio shape: (9218, 9)\n"
     ]
    },
    {
     "name": "stderr",
     "output_type": "stream",
     "text": [
      "[Stage 25:=====================================================>  (22 + 1) / 23]\r"
     ]
    },
    {
     "name": "stdout",
     "output_type": "stream",
     "text": [
      "AskReddit shape: (2557564, 9)\n"
     ]
    },
    {
     "name": "stderr",
     "output_type": "stream",
     "text": [
      "                                                                                \r"
     ]
    }
   ],
   "source": [
    "# keep rows where selftext is not '[removed]'\n",
    "aita = aita.filter(submissions.selftext != '[removed]')\n",
    "aio = aio.filter(submissions.selftext != '[removed]')\n",
    "ask_reddit = ask_reddit.filter(submissions.selftext != '[removed]')\n",
    "\n",
    "# check shapes again\n",
    "aita_count = aita.count()\n",
    "aita_columns = len(aita.columns)\n",
    "print(f\"aita shape: ({aita_count}, {aita_columns})\")\n",
    "\n",
    "aio_count = aio.count()\n",
    "aio_columns = len(aio.columns)\n",
    "print(f\"aio shape: ({aio_count}, {aio_columns})\")\n",
    "\n",
    "ask_reddit_count = ask_reddit.count()\n",
    "ask_reddit_columns = len(ask_reddit.columns)\n",
    "print(f\"AskReddit shape: ({ask_reddit_count}, {ask_reddit_columns})\")"
   ]
  },
  {
   "cell_type": "markdown",
   "id": "0f144cc4-c025-4b6c-aa10-330d87e767be",
   "metadata": {},
   "source": [
    "AITA: 487k -> 244k <br></br>\n",
    "AIO: 13k -> 9.2k <br></br>\n",
    "AskReddit: 2.69M -> 2.56M"
   ]
  },
  {
   "cell_type": "markdown",
   "id": "b1dfef19-73c0-45a5-bf94-f96e7aee00fd",
   "metadata": {},
   "source": [
    "### Check distribution of num_comments for each subreddit"
   ]
  },
  {
   "cell_type": "code",
   "execution_count": 18,
   "id": "8f8a09ec-6f20-43c5-b865-e66787a0bcde",
   "metadata": {},
   "outputs": [
    {
     "name": "stderr",
     "output_type": "stream",
     "text": [
      "[Stage 28:=====================================================>  (22 + 1) / 23]\r"
     ]
    },
    {
     "name": "stdout",
     "output_type": "stream",
     "text": [
      "+------------+------+\n",
      "|num_comments| count|\n",
      "+------------+------+\n",
      "|           0|   348|\n",
      "|           1|140988|\n",
      "|           2|  5005|\n",
      "|           3|  6336|\n",
      "|           4|  4399|\n",
      "|           5|  4044|\n",
      "|           6|  3976|\n",
      "|           7|  3873|\n",
      "|           8|  3861|\n",
      "|           9|  3561|\n",
      "|          10|  3437|\n",
      "|          11|  3171|\n",
      "|          12|  2963|\n",
      "|          13|  2805|\n",
      "|          14|  2651|\n",
      "|          15|  2347|\n",
      "|          16|  2224|\n",
      "|          17|  2117|\n",
      "|          18|  1894|\n",
      "|          19|  1759|\n",
      "|          20|  1650|\n",
      "|          21|  1501|\n",
      "|          22|  1394|\n",
      "|          23|  1296|\n",
      "|          24|  1239|\n",
      "+------------+------+\n",
      "only showing top 25 rows\n",
      "\n"
     ]
    },
    {
     "name": "stderr",
     "output_type": "stream",
     "text": [
      "                                                                                \r"
     ]
    }
   ],
   "source": [
    "# check distribution for aita\n",
    "aita.groupBy('num_comments').count().orderBy('num_comments').show(25)"
   ]
  },
  {
   "cell_type": "code",
   "execution_count": 19,
   "id": "b2f35ad4-9c50-4444-9998-3c12a8ee3275",
   "metadata": {},
   "outputs": [
    {
     "name": "stderr",
     "output_type": "stream",
     "text": [
      "[Stage 31:=====================================================>  (22 + 1) / 23]\r"
     ]
    },
    {
     "name": "stdout",
     "output_type": "stream",
     "text": [
      "+------------+-----+\n",
      "|num_comments|count|\n",
      "+------------+-----+\n",
      "|           0| 1058|\n",
      "|           1|  751|\n",
      "|           2|  584|\n",
      "|           3|  507|\n",
      "|           4|  418|\n",
      "|           5|  394|\n",
      "|           6|  307|\n",
      "|           7|  284|\n",
      "|           8|  278|\n",
      "|           9|  213|\n",
      "|          10|  198|\n",
      "|          11|  194|\n",
      "|          12|  155|\n",
      "|          13|  140|\n",
      "|          14|  144|\n",
      "|          15|  123|\n",
      "|          16|  112|\n",
      "|          17|   89|\n",
      "|          18|   89|\n",
      "|          19|   80|\n",
      "|          20|   65|\n",
      "|          21|   88|\n",
      "|          22|   80|\n",
      "|          23|   62|\n",
      "|          24|   56|\n",
      "+------------+-----+\n",
      "only showing top 25 rows\n",
      "\n"
     ]
    },
    {
     "name": "stderr",
     "output_type": "stream",
     "text": [
      "                                                                                \r"
     ]
    }
   ],
   "source": [
    "# check distribution for aio\n",
    "aio.groupBy('num_comments').count().orderBy('num_comments').show(25)"
   ]
  },
  {
   "cell_type": "code",
   "execution_count": 20,
   "id": "064ed666-3748-4eaf-ad1f-698b2f023fcb",
   "metadata": {},
   "outputs": [
    {
     "name": "stderr",
     "output_type": "stream",
     "text": [
      "[Stage 34:=====================================================>  (22 + 1) / 23]\r"
     ]
    },
    {
     "name": "stdout",
     "output_type": "stream",
     "text": [
      "+------------+------+\n",
      "|num_comments| count|\n",
      "+------------+------+\n",
      "|           0|643471|\n",
      "|           1|762514|\n",
      "|           2|126432|\n",
      "|           3|105425|\n",
      "|           4|100146|\n",
      "|           5| 91527|\n",
      "|           6| 83271|\n",
      "|           7| 73727|\n",
      "|           8| 65105|\n",
      "|           9| 56458|\n",
      "|          10| 49507|\n",
      "|          11| 42481|\n",
      "|          12| 37341|\n",
      "|          13| 32340|\n",
      "|          14| 28113|\n",
      "|          15| 24436|\n",
      "|          16| 21152|\n",
      "|          17| 18837|\n",
      "|          18| 16120|\n",
      "|          19| 14175|\n",
      "|          20| 12562|\n",
      "|          21| 11075|\n",
      "|          22|  9761|\n",
      "|          23|  8608|\n",
      "|          24|  7811|\n",
      "|          25|  7085|\n",
      "|          26|  6265|\n",
      "|          27|  5640|\n",
      "|          28|  5113|\n",
      "|          29|  4642|\n",
      "|          30|  4279|\n",
      "|          31|  3870|\n",
      "|          32|  3496|\n",
      "|          33|  3233|\n",
      "|          34|  2902|\n",
      "|          35|  2701|\n",
      "|          36|  2507|\n",
      "|          37|  2297|\n",
      "|          38|  2079|\n",
      "|          39|  1958|\n",
      "|          40|  1786|\n",
      "|          41|  1673|\n",
      "|          42|  1568|\n",
      "|          43|  1461|\n",
      "|          44|  1376|\n",
      "|          45|  1317|\n",
      "|          46|  1280|\n",
      "|          47|  1242|\n",
      "|          48|  1072|\n",
      "|          49|  1092|\n",
      "+------------+------+\n",
      "only showing top 50 rows\n",
      "\n"
     ]
    },
    {
     "name": "stderr",
     "output_type": "stream",
     "text": [
      "                                                                                \r"
     ]
    }
   ],
   "source": [
    "# check distribution for ask reddit\n",
    "ask_reddit.groupBy('num_comments').count().orderBy('num_comments').show(50)"
   ]
  },
  {
   "cell_type": "code",
   "execution_count": 21,
   "id": "9a8ce717-daa4-4e90-8ea0-bba68b9ca0e0",
   "metadata": {},
   "outputs": [
    {
     "name": "stderr",
     "output_type": "stream",
     "text": [
      "[Stage 37:=====================================================>  (22 + 1) / 23]\r"
     ]
    },
    {
     "name": "stdout",
     "output_type": "stream",
     "text": [
      "+-------+------------------+\n",
      "|summary|      num_comments|\n",
      "+-------+------------------+\n",
      "|  count|            243778|\n",
      "|   mean| 35.55549311258604|\n",
      "| stddev|218.21249615269716|\n",
      "|    min|                 0|\n",
      "|    max|             31996|\n",
      "+-------+------------------+\n",
      "\n"
     ]
    },
    {
     "name": "stderr",
     "output_type": "stream",
     "text": [
      "                                                                                \r"
     ]
    }
   ],
   "source": [
    "# summary statistics for aita\n",
    "aita.select('num_comments').describe().show()"
   ]
  },
  {
   "cell_type": "code",
   "execution_count": 22,
   "id": "fbe0ba33-9d76-45fc-a687-0662dffec7c3",
   "metadata": {},
   "outputs": [
    {
     "name": "stderr",
     "output_type": "stream",
     "text": [
      "[Stage 40:=====================================================>  (22 + 1) / 23]\r"
     ]
    },
    {
     "name": "stdout",
     "output_type": "stream",
     "text": [
      "+-------+------------------+\n",
      "|summary|      num_comments|\n",
      "+-------+------------------+\n",
      "|  count|              9218|\n",
      "|   mean|101.06422217400738|\n",
      "| stddev|503.38324261165405|\n",
      "|    min|                 0|\n",
      "|    max|             15617|\n",
      "+-------+------------------+\n",
      "\n"
     ]
    },
    {
     "name": "stderr",
     "output_type": "stream",
     "text": [
      "                                                                                \r"
     ]
    }
   ],
   "source": [
    "# summary statistics for aio\n",
    "aio.select('num_comments').describe().show()"
   ]
  },
  {
   "cell_type": "code",
   "execution_count": 23,
   "id": "c60c517c-657c-4d4d-9322-f795ee12adb1",
   "metadata": {},
   "outputs": [
    {
     "name": "stderr",
     "output_type": "stream",
     "text": [
      "[Stage 43:=====================================================>  (22 + 1) / 23]\r"
     ]
    },
    {
     "name": "stdout",
     "output_type": "stream",
     "text": [
      "+-------+------------------+\n",
      "|summary|      num_comments|\n",
      "+-------+------------------+\n",
      "|  count|           2557564|\n",
      "|   mean| 16.06656920413331|\n",
      "| stddev|240.13160137292405|\n",
      "|    min|                 0|\n",
      "|    max|             28219|\n",
      "+-------+------------------+\n",
      "\n"
     ]
    },
    {
     "name": "stderr",
     "output_type": "stream",
     "text": [
      "                                                                                \r"
     ]
    }
   ],
   "source": [
    "# summary statistics for ask reddit\n",
    "ask_reddit.select('num_comments').describe().show()"
   ]
  },
  {
   "cell_type": "code",
   "execution_count": 24,
   "id": "65b0df12-298c-4024-b288-f367af1db30c",
   "metadata": {},
   "outputs": [
    {
     "name": "stderr",
     "output_type": "stream",
     "text": [
      "                                                                                \r"
     ]
    },
    {
     "name": "stdout",
     "output_type": "stream",
     "text": [
      "Quantiles for 'aita' - 25th percentile: 1.0, Median (50th percentile): 1.0, 75th percentile: 11.0\n"
     ]
    },
    {
     "name": "stderr",
     "output_type": "stream",
     "text": [
      "                                                                                \r"
     ]
    },
    {
     "name": "stdout",
     "output_type": "stream",
     "text": [
      "Quantiles for 'aio' - 25th percentile: 2.0, Median (50th percentile): 8.0, 75th percentile: 33.0\n"
     ]
    },
    {
     "name": "stderr",
     "output_type": "stream",
     "text": [
      "[Stage 50:=====================================================>  (22 + 1) / 23]\r"
     ]
    },
    {
     "name": "stdout",
     "output_type": "stream",
     "text": [
      "Quantiles for 'ask_reddit' - 25th percentile: 0.0, Median (50th percentile): 1.0, 75th percentile: 7.0\n"
     ]
    },
    {
     "name": "stderr",
     "output_type": "stream",
     "text": [
      "                                                                                \r"
     ]
    }
   ],
   "source": [
    "# calculate quantiles for the 'num_comments' column in aita\n",
    "quantiles_aita = aita.approxQuantile('num_comments', [0.25, 0.5, 0.75], 0.01)\n",
    "print(f\"Quantiles for 'aita' - 25th percentile: {quantiles_aita[0]}, Median (50th percentile): {quantiles_aita[1]}, 75th percentile: {quantiles_aita[2]}\")\n",
    "\n",
    "# calculate quantiles for the 'num_comments' column in aio\n",
    "quantiles_aio = aio.approxQuantile('num_comments', [0.25, 0.5, 0.75], 0.01)\n",
    "print(f\"Quantiles for 'aio' - 25th percentile: {quantiles_aio[0]}, Median (50th percentile): {quantiles_aio[1]}, 75th percentile: {quantiles_aio[2]}\")\n",
    "\n",
    "# calculate quantiles for the 'num_comments' column in ask_reddit\n",
    "quantiles_ask_reddit = ask_reddit.approxQuantile('num_comments', [0.25, 0.5, 0.75], 0.01)\n",
    "print(f\"Quantiles for 'ask_reddit' - 25th percentile: {quantiles_ask_reddit[0]}, Median (50th percentile): {quantiles_ask_reddit[1]}, 75th percentile: {quantiles_ask_reddit[2]}\")"
   ]
  },
  {
   "cell_type": "code",
   "execution_count": 25,
   "id": "e2662383-6e3e-4842-a06c-396c4ac7ada0",
   "metadata": {},
   "outputs": [
    {
     "name": "stderr",
     "output_type": "stream",
     "text": [
      "                                                                                \r"
     ]
    },
    {
     "name": "stdout",
     "output_type": "stream",
     "text": [
      "aita shape: (33836, 9)\n"
     ]
    },
    {
     "name": "stderr",
     "output_type": "stream",
     "text": [
      "                                                                                \r"
     ]
    },
    {
     "name": "stdout",
     "output_type": "stream",
     "text": [
      "aio shape: (3470, 9)\n"
     ]
    },
    {
     "name": "stderr",
     "output_type": "stream",
     "text": [
      "[Stage 58:=====================================================>  (22 + 1) / 23]\r"
     ]
    },
    {
     "name": "stdout",
     "output_type": "stream",
     "text": [
      "AskReddit shape: (42296, 9)\n"
     ]
    },
    {
     "name": "stderr",
     "output_type": "stream",
     "text": [
      "                                                                                \r"
     ]
    }
   ],
   "source": [
    "# as all of our subreddits are seeking feedback and are among the most popular subreddits on reddit, \n",
    "# we will remove posts with 25 or less comments in aita, 15 or less in aio, and 50 or less in ask_reddit\n",
    "# to only keep posts with significant engagement\n",
    "aita = aita.filter(aita['num_comments'] > 25)\n",
    "aio = aio.filter(aio['num_comments'] > 15)\n",
    "ask_reddit = ask_reddit.filter(ask_reddit['num_comments'] > 50)\n",
    "\n",
    "# check shapes again\n",
    "aita_count = aita.count()\n",
    "aita_columns = len(aita.columns)\n",
    "print(f\"aita shape: ({aita_count}, {aita_columns})\")\n",
    "\n",
    "aio_count = aio.count()\n",
    "aio_columns = len(aio.columns)\n",
    "print(f\"aio shape: ({aio_count}, {aio_columns})\")\n",
    "\n",
    "ask_reddit_count = ask_reddit.count()\n",
    "ask_reddit_columns = len(ask_reddit.columns)\n",
    "print(f\"AskReddit shape: ({ask_reddit_count}, {ask_reddit_columns})\")"
   ]
  },
  {
   "cell_type": "markdown",
   "id": "cde55bdc-ce23-4a6f-b277-a97dae33954d",
   "metadata": {},
   "source": [
    "AITA: 487k -> 244k -> 33.84k<br></br>\n",
    "AIO: 13k -> 9.2k -> 3.5k<br></br>\n",
    "AskReddit: 2.69M -> 2.56M -> 42.3k"
   ]
  },
  {
   "cell_type": "code",
   "execution_count": 26,
   "id": "448d84f5-a41a-44f9-8954-d187f3c0ad35",
   "metadata": {},
   "outputs": [
    {
     "name": "stderr",
     "output_type": "stream",
     "text": [
      "                                                                                \r"
     ]
    },
    {
     "data": {
      "image/png": "[encoded data removed]",
      "text/plain": [
       "<Figure size 1000x600 with 1 Axes>"
      ]
     },
     "metadata": {},
     "output_type": "display_data"
    }
   ],
   "source": [
    "import matplotlib.pyplot as plt\n",
    "\n",
    "# collect the num_comments data for aita\n",
    "aita_num_comments = aita.select('num_comments').rdd.flatMap(lambda x: x).collect()\n",
    "\n",
    "# histogram using matplotlib\n",
    "plt.figure(figsize=(10, 6))\n",
    "plt.hist(aita_num_comments, bins=30, edgecolor='black', alpha=0.7)\n",
    "plt.title('Histogram of num_comments for aita')\n",
    "plt.xlabel('Number of Comments')\n",
    "plt.ylabel('Frequency')\n",
    "plt.grid(axis='y', alpha=0.75)\n",
    "plt.show()"
   ]
  },
  {
   "cell_type": "code",
   "execution_count": 51,
   "id": "4596bcfc-0290-4e29-9515-80ad1eec5ffe",
   "metadata": {},
   "outputs": [
    {
     "name": "stderr",
     "output_type": "stream",
     "text": [
      "                                                                                \r"
     ]
    },
    {
     "data": {
      "image/png": "[encoded data removed]",
      "text/plain": [
       "<Figure size 1000x600 with 1 Axes>"
      ]
     },
     "metadata": {},
     "output_type": "display_data"
    }
   ],
   "source": [
    "# aio\n",
    "aio_num_comments = aio.select('num_comments').rdd.flatMap(lambda x: x).collect()\n",
    "plt.figure(figsize=(10, 6))\n",
    "plt.hist(aio_num_comments, bins=30, edgecolor='black', alpha=0.7)\n",
    "plt.title('Histogram of num_comments for aio')\n",
    "plt.xlabel('Number of Comments')\n",
    "plt.ylabel('Frequency')\n",
    "plt.grid(axis='y', alpha=0.75)\n",
    "plt.show()"
   ]
  },
  {
   "cell_type": "code",
   "execution_count": 27,
   "id": "a6b4fc94-aba8-4838-9a46-cb5eefe9de59",
   "metadata": {},
   "outputs": [
    {
     "name": "stderr",
     "output_type": "stream",
     "text": [
      "                                                                                \r"
     ]
    },
    {
     "data": {
      "image/png": "[encoded data removed]",
      "text/plain": [
       "<Figure size 1000x600 with 1 Axes>"
      ]
     },
     "metadata": {},
     "output_type": "display_data"
    }
   ],
   "source": [
    "# ask reddit\n",
    "ask_reddit_num_comments = ask_reddit.select('num_comments').rdd.flatMap(lambda x: x).collect()\n",
    "plt.figure(figsize=(10, 6))\n",
    "plt.hist(ask_reddit_num_comments, bins=30, edgecolor='black', alpha=0.7)\n",
    "plt.title('Histogram of num_comments for AskReddit')\n",
    "plt.xlabel('Number of Comments')\n",
    "plt.ylabel('Frequency')\n",
    "plt.grid(axis='y', alpha=0.75)\n",
    "plt.show()"
   ]
  },
  {
   "cell_type": "markdown",
   "id": "680b52e3-66fd-48f9-ad50-4afada2d579a",
   "metadata": {},
   "source": [
    "### Convert created_utc into readable datetime"
   ]
  },
  {
   "cell_type": "code",
   "execution_count": 28,
   "id": "0fde36cc-e7f0-491f-a486-cce7ea7b520a",
   "metadata": {},
   "outputs": [],
   "source": [
    "from pyspark.sql.functions import from_unixtime, date_format, col\n",
    "\n",
    "# Format the date\n",
    "aita = aita.withColumn('created_date', date_format(from_unixtime(col('created_utc')), 'yyyy-MM-dd HH:mm:ss'))\n",
    "aio = aio.withColumn('created_date', date_format(from_unixtime(col('created_utc')), 'yyyy-MM-dd HH:mm:ss'))\n",
    "ask_reddit = ask_reddit.withColumn('created_date', date_format(from_unixtime(col('created_utc')), 'yyyy-MM-dd HH:mm:ss'))"
   ]
  },
  {
   "cell_type": "code",
   "execution_count": 29,
   "id": "44df7896-75d8-4889-a7cc-b46a0ac1845d",
   "metadata": {},
   "outputs": [
    {
     "name": "stderr",
     "output_type": "stream",
     "text": [
      "[Stage 63:>                                                         (0 + 1) / 1]\r"
     ]
    },
    {
     "name": "stdout",
     "output_type": "stream",
     "text": [
      "+-------+-------------------+-----------+-------------+--------------------+--------------------+-----+------------+-------+-------------------+\n",
      "|     id|             author|created_utc|    subreddit|               title|            selftext|score|num_comments|over_18|       created_date|\n",
      "+-------+-------------------+-----------+-------------+--------------------+--------------------+-----+------------+-------+-------------------+\n",
      "|14ck4v4|    Throwaway070511| 1687093840|AmItheAsshole|AITA for stepping...|I’ve never had mu...|  573|         171|  false|2023-06-18 13:10:40|\n",
      "|14ckmm7|          BoboFF117| 1687095244|AmItheAsshole|AITA For Not Tech...|I will try to be ...|   13|          33|  false|2023-06-18 13:34:04|\n",
      "|14cli3e|Peestainedbedsheets| 1687097589|AmItheAsshole|AITA for yelling ...|My wife and I jus...|  296|         151|  false|2023-06-18 14:13:09|\n",
      "|14clm8b| ThrowawayLongdress| 1687097912|AmItheAsshole|AITA for showing ...|I (18f) sometimes...| 5374|         558|  false|2023-06-18 14:18:32|\n",
      "|14clp5m|           niidhogg| 1687098138|AmItheAsshole|AITA for overreac...|I said to my frie...|   29|         130|  false|2023-06-18 14:22:18|\n",
      "|14clsxz|          [deleted]| 1687098431|AmItheAsshole|AITAH for not tha...|           [deleted]|   16|          27|  false|2023-06-18 14:27:11|\n",
      "|14cm0zy|          [deleted]| 1687099031|AmItheAsshole|AITA for berating...|           [deleted]|  202|          79|  false|2023-06-18 14:37:11|\n",
      "|14cmjqt|iwanttobeacavediver| 1687100412|AmItheAsshole|AITA for shouting...|I’m currently tra...| 7443|        1628|  false|2023-06-18 15:00:12|\n",
      "|14cmzoz|          [deleted]| 1687101512|AmItheAsshole|AITA for saying b...|           [deleted]| 1704|         172|  false|2023-06-18 15:18:32|\n",
      "|14cn075|          [deleted]| 1687101546|AmItheAsshole|AITA for not lett...|           [deleted]|   33|          38|  false|2023-06-18 15:19:06|\n",
      "+-------+-------------------+-----------+-------------+--------------------+--------------------+-----+------------+-------+-------------------+\n",
      "only showing top 10 rows\n",
      "\n"
     ]
    },
    {
     "name": "stderr",
     "output_type": "stream",
     "text": [
      "                                                                                \r"
     ]
    }
   ],
   "source": [
    "aita.show(10)"
   ]
  },
  {
   "cell_type": "code",
   "execution_count": 30,
   "id": "f608d0eb-71e5-415d-ba92-b3fb04dbc797",
   "metadata": {},
   "outputs": [
    {
     "name": "stderr",
     "output_type": "stream",
     "text": [
      "[Stage 65:===========================================>              (3 + 1) / 4]\r"
     ]
    },
    {
     "name": "stdout",
     "output_type": "stream",
     "text": [
      "+-------+--------------------+-----------+---------------+--------------------+--------------------+-----+------------+-------+-------------------+\n",
      "|     id|              author|created_utc|      subreddit|               title|            selftext|score|num_comments|over_18|       created_date|\n",
      "+-------+--------------------+-----------+---------------+--------------------+--------------------+-----+------------+-------+-------------------+\n",
      "|1c75wqv|Longjumping_Round637| 1713453455|AmIOverreacting|Should I cancel t...|Hello, I just fou...|  113|         294|  false|2024-04-18 15:17:35|\n",
      "|1c76pzu|        LatterAd4096| 1713455446|AmIOverreacting|My granddaughter ...|\\nMy oldest son t...|    0|          24|  false|2024-04-18 15:50:46|\n",
      "|1c778ga|      Scared-Ad-7678| 1713456648|AmIOverreacting|Am I overreacting...|I’m 21 and he’s 3...|    1|          23|  false|2024-04-18 16:10:48|\n",
      "|1c781ez|Various_Storage_9331| 1713458639|AmIOverreacting|I can’t get over ...|I[32F] have been ...|  403|         458|  false|2024-04-18 16:43:59|\n",
      "|1c78br3|          DrewdoggKC| 1713459325|AmIOverreacting|Why are people tr...|A few days ago a ...|    2|          71|  false|2024-04-18 16:55:25|\n",
      "|1c78iyk|            miel2020| 1713459807|AmIOverreacting|Saw this on my hu...|Question am I ove...|   73|         187|  false|2024-04-18 17:03:27|\n",
      "|1c78wq6|        holyrennn123| 1713460737|AmIOverreacting|Ex gf clubbing st...|M here. My ex gf ...|    0|          20|  false|2024-04-18 17:18:57|\n",
      "|1c79msv|        Wondering_37| 1713462481|AmIOverreacting|My husband gave h...|I was scrolling i...|    0|          16|  false|2024-04-18 17:48:01|\n",
      "|1c79sis|  National_Poem_4597| 1713462872|AmIOverreacting|My cheating GF wa...|A little bit of b...|    0|          20|  false|2024-04-18 17:54:32|\n",
      "|1c7a4eo|        YESSIRSHEESH| 1713463643|AmIOverreacting|Don’t want my fia...|As title suggests...|  332|         874|  false|2024-04-18 18:07:23|\n",
      "+-------+--------------------+-----------+---------------+--------------------+--------------------+-----+------------+-------+-------------------+\n",
      "only showing top 10 rows\n",
      "\n"
     ]
    },
    {
     "name": "stderr",
     "output_type": "stream",
     "text": [
      "                                                                                \r"
     ]
    }
   ],
   "source": [
    "aio.show(10)"
   ]
  },
  {
   "cell_type": "code",
   "execution_count": 31,
   "id": "badf6f0e-0893-4d91-8554-fd091bab52e1",
   "metadata": {},
   "outputs": [
    {
     "name": "stderr",
     "output_type": "stream",
     "text": [
      "[Stage 66:>                                                         (0 + 1) / 1]\r"
     ]
    },
    {
     "name": "stdout",
     "output_type": "stream",
     "text": [
      "+-------+--------------------+-----------+---------+--------------------+---------+-----+------------+-------+-------------------+\n",
      "|     id|              author|created_utc|subreddit|               title| selftext|score|num_comments|over_18|       created_date|\n",
      "+-------+--------------------+-----------+---------+--------------------+---------+-----+------------+-------+-------------------+\n",
      "|14cjrit|  Flat-Succotash4784| 1687092820|AskReddit|what's your opini...|         |    0|          68|  false|2023-06-18 12:53:40|\n",
      "|14ck18t|         BakerBrando| 1687093556|AskReddit|What are reasons ...|         |    1|          95|  false|2023-06-18 13:05:56|\n",
      "|14ck8d2|MiserablePurpose5845| 1687094118|AskReddit|What is the one f...|         |   23|         135|  false|2023-06-18 13:15:18|\n",
      "|14ck9np| Used-Equipment-5698| 1687094219|AskReddit|Non drinkers of R...|         |   11|          70|  false|2023-06-18 13:16:59|\n",
      "|14ckmxj|         Ill-Ad-8421| 1687095268|AskReddit|What is the best ...|         | 2569|        1525|   true|2023-06-18 13:34:28|\n",
      "|14clk5b|      wantedbytheIRS| 1687097747|AskReddit|Your username is ...|         |   31|         364|  false|2023-06-18 14:15:47|\n",
      "|14clu6l|           Wtflmao22| 1687098526|AskReddit|What is the best ...|         |   54|         230|  false|2023-06-18 14:28:46|\n",
      "|14clzzy|           [deleted]| 1687098955|AskReddit|What would a good...|[deleted]|    3|          78|  false|2023-06-18 14:35:55|\n",
      "|14cm35h|           [deleted]| 1687099192|AskReddit|POV: you are in s...|         |    3|          54|  false|2023-06-18 14:39:52|\n",
      "|14cm9dg|     500_million_guy| 1687099640|AskReddit|What would you sa...|         |    0|          51|  false|2023-06-18 14:47:20|\n",
      "+-------+--------------------+-----------+---------+--------------------+---------+-----+------------+-------+-------------------+\n",
      "only showing top 10 rows\n",
      "\n"
     ]
    },
    {
     "name": "stderr",
     "output_type": "stream",
     "text": [
      "                                                                                \r"
     ]
    }
   ],
   "source": [
    "ask_reddit.show(10)"
   ]
  },
  {
   "cell_type": "markdown",
   "id": "a49b909b-4142-45b3-b853-11010996db40",
   "metadata": {},
   "source": [
    "### Create post_ids dataframe to join with comments (filtering out comments with no post)"
   ]
  },
  {
   "cell_type": "code",
   "execution_count": 32,
   "id": "326343ed-ed05-41de-a18a-809c510302ad",
   "metadata": {},
   "outputs": [],
   "source": [
    "# Create small DataFrames of post IDs for each filtered subreddit\n",
    "aita_post_ids = aita.select('id').withColumnRenamed('id', 'post_id')\n",
    "aio_post_ids = aio.select('id').withColumnRenamed('id', 'post_id')\n",
    "ask_reddit_post_ids = ask_reddit.select('id').withColumnRenamed('id', 'post_id')"
   ]
  },
  {
   "cell_type": "code",
   "execution_count": 33,
   "id": "4d22bdff-5152-461d-b74b-5f26c76adebf",
   "metadata": {},
   "outputs": [
    {
     "name": "stderr",
     "output_type": "stream",
     "text": [
      "[Stage 67:=======================================================>(68 + 1) / 69]\r"
     ]
    },
    {
     "name": "stdout",
     "output_type": "stream",
     "text": [
      "Number of rows in post_ids: 79602\n"
     ]
    },
    {
     "name": "stderr",
     "output_type": "stream",
     "text": [
      "                                                                                \r"
     ]
    }
   ],
   "source": [
    "# union the post IDs from all subreddits\n",
    "from pyspark.sql import DataFrame\n",
    "\n",
    "post_ids = aita_post_ids.union(aio_post_ids).union(ask_reddit_post_ids)\n",
    "\n",
    "# get the count of rows in the post_ids DataFrame\n",
    "row_count = post_ids.count()\n",
    "print(f\"Number of rows in post_ids: {row_count}\")"
   ]
  },
  {
   "cell_type": "markdown",
   "id": "9ae23f6e-41cb-4c7a-bb47-1662d71a31b3",
   "metadata": {},
   "source": [
    "<!-- ### Change column names to merge and differentiate from comments column -->"
   ]
  },
  {
   "cell_type": "code",
   "execution_count": 31,
   "id": "37473207-7ec9-4a9b-b833-975c79270c71",
   "metadata": {},
   "outputs": [],
   "source": [
    "# sub_columns = sub_select.columns\n",
    "\n",
    "# for col_name in sub_columns:\n",
    "#     sub_select = sub_select.withColumnRenamed(col_name, f\"sub_{col_name}\")"
   ]
  },
  {
   "cell_type": "code",
   "execution_count": null,
   "id": "3f33a49e-3d73-4b86-8791-4f8279aacd29",
   "metadata": {},
   "outputs": [],
   "source": []
  },
  {
   "cell_type": "code",
   "execution_count": null,
   "id": "3e1fdef8-452c-4ad6-b3dd-0a5debc933f0",
   "metadata": {},
   "outputs": [],
   "source": []
  },
  {
   "cell_type": "code",
   "execution_count": null,
   "id": "fea4467b-d7d5-4dbc-8fc3-5006f7555662",
   "metadata": {},
   "outputs": [],
   "source": []
  },
  {
   "cell_type": "code",
   "execution_count": null,
   "id": "4948c6a2-a0d9-4997-b7d7-291becf17fcb",
   "metadata": {},
   "outputs": [],
   "source": []
  },
  {
   "cell_type": "code",
   "execution_count": null,
   "id": "b57f3795-241d-4616-b2a4-c5f05054b795",
   "metadata": {},
   "outputs": [],
   "source": []
  },
  {
   "cell_type": "markdown",
   "id": "15b61821-b890-4435-acee-8aaa67e59589",
   "metadata": {},
   "source": [
    "# Comments"
   ]
  },
  {
   "cell_type": "code",
   "execution_count": 34,
   "id": "6da13658-29e4-42ec-9209-ebe1b839dd41",
   "metadata": {},
   "outputs": [
    {
     "name": "stdout",
     "output_type": "stream",
     "text": [
      "reading comments from s3a://sagemaker-us-east-1-637423443621/BDproject/comments/yyyy=*\n"
     ]
    },
    {
     "name": "stderr",
     "output_type": "stream",
     "text": [
      "[Stage 71:=====================================================>(196 + 1) / 197]\r"
     ]
    },
    {
     "name": "stdout",
     "output_type": "stream",
     "text": [
      "shape of the comments dataframe is 76,351,417x17\n",
      "CPU times: user 582 ms, sys: 87.5 ms, total: 670 ms\n",
      "Wall time: 4min 53s\n"
     ]
    },
    {
     "name": "stderr",
     "output_type": "stream",
     "text": [
      "                                                                                \r"
     ]
    }
   ],
   "source": [
    "%%time\n",
    "import sagemaker\n",
    "session = sagemaker.Session()\n",
    "bucket = session.default_bucket()\n",
    "output_prefix_data_comments = \"BDproject/comments/yyyy=*\"\n",
    "s3_path = f\"s3a://{bucket}/{output_prefix_data_comments}\"\n",
    "#s3_path = \"s3a://sagemaker-us-east-1-038932893404/project/comments/yyyy=2021/part-00000-90796409-5783-4705-92c0-27c27eda8c4c-c000.snappy.parquet\"\n",
    "print(f\"reading comments from {s3_path}\")\n",
    "comments = spark.read.parquet(s3_path, header=True)\n",
    "print(f\"shape of the comments dataframe is {comments.count():,}x{len(comments.columns)}\")"
   ]
  },
  {
   "cell_type": "code",
   "execution_count": 35,
   "id": "93196331-3b0b-4f91-8187-2720f6dc233a",
   "metadata": {},
   "outputs": [
    {
     "name": "stderr",
     "output_type": "stream",
     "text": [
      "[Stage 74:=====================================================>(196 + 1) / 197]\r"
     ]
    },
    {
     "name": "stdout",
     "output_type": "stream",
     "text": [
      "+---------------+--------+\n",
      "|      subreddit|   count|\n",
      "+---------------+--------+\n",
      "|      AskReddit|55851868|\n",
      "|  AmItheAsshole|19472806|\n",
      "|AmIOverreacting| 1026743|\n",
      "+---------------+--------+\n",
      "\n"
     ]
    },
    {
     "name": "stderr",
     "output_type": "stream",
     "text": [
      "                                                                                \r"
     ]
    }
   ],
   "source": [
    "# check counts (ensuring all needed subreddits exist)\n",
    "comments.groupBy('subreddit').count().show()"
   ]
  },
  {
   "cell_type": "code",
   "execution_count": 36,
   "id": "7369b638-8108-417e-bb6a-eb88bc38a35f",
   "metadata": {},
   "outputs": [
    {
     "name": "stdout",
     "output_type": "stream",
     "text": [
      "root\n",
      " |-- author: string (nullable = true)\n",
      " |-- author_flair_css_class: string (nullable = true)\n",
      " |-- author_flair_text: string (nullable = true)\n",
      " |-- body: string (nullable = true)\n",
      " |-- controversiality: long (nullable = true)\n",
      " |-- created_utc: long (nullable = true)\n",
      " |-- distinguished: string (nullable = true)\n",
      " |-- edited: double (nullable = true)\n",
      " |-- gilded: long (nullable = true)\n",
      " |-- id: string (nullable = true)\n",
      " |-- link_id: string (nullable = true)\n",
      " |-- parent_id: string (nullable = true)\n",
      " |-- retrieved_on: long (nullable = true)\n",
      " |-- score: long (nullable = true)\n",
      " |-- stickied: boolean (nullable = true)\n",
      " |-- subreddit: string (nullable = true)\n",
      " |-- subreddit_id: string (nullable = true)\n",
      "\n"
     ]
    }
   ],
   "source": [
    "comments.printSchema()"
   ]
  },
  {
   "cell_type": "markdown",
   "id": "01e73dc7-e536-4aa2-9f6e-de5892fab312",
   "metadata": {},
   "source": [
    "### Select & Reorder Columns"
   ]
  },
  {
   "cell_type": "code",
   "execution_count": 37,
   "id": "727a31cd-f44b-4211-88c9-74101f705303",
   "metadata": {},
   "outputs": [
    {
     "name": "stdout",
     "output_type": "stream",
     "text": [
      "+-------+--------------------+----------+----------+-----------+-------------+--------------------+-----+------+----------------+\n",
      "|     id|              author|   link_id| parent_id|created_utc|    subreddit|                body|score|gilded|controversiality|\n",
      "+-------+--------------------+----------+----------+-----------+-------------+--------------------+-----+------+----------------+\n",
      "|jo488dx|  LeftandLeaving9006|t3_148x130|t3_148x130| 1686758855|    AskReddit|Anne of Green Gab...|    1|     0|               0|\n",
      "|jo488e4|            daniboyi|t3_148nq2g|t1_jo1rnku| 1686758855|    AskReddit|as my dad always ...|    2|     0|               0|\n",
      "|jo488eh|Fuck_you_Reddit_Nazi|t3_149b7c9|t1_jo47zcb| 1686758855|    AskReddit|Sounds like you n...|    3|     0|               0|\n",
      "|jo488f4|Realistic-Active7230|t3_1498l3e|t3_1498l3e| 1686758855|AmItheAsshole|YTA! How spiteful...|    1|     0|               0|\n",
      "|jo488g1|            An_Dr01d|t3_148sxkl|t3_148sxkl| 1686758856|    AskReddit|           Kombucha.|    1|     0|               0|\n",
      "|jo488gd|      jolly_rodger42|t3_148x130|t3_148x130| 1686758856|    AskReddit|          Home Alone|    1|     0|               0|\n",
      "|jo488hf|   throwaway2getsome|t3_1495del|t1_jo3mzbs| 1686758856|    AskReddit|       Learn to code|    1|     0|               0|\n",
      "|jo488ie|            jbphilly|t3_1490225|t3_1490225| 1686758857|    AskReddit|A cult with a his...|    1|     0|               0|\n",
      "|jo488ij| A_Generic_White_Guy|t3_149birf|t3_149birf| 1686758857|    AskReddit|Well I'm older bu...|    1|     0|               0|\n",
      "|jo488in|        stillslaying|t3_148b059|t1_jo2kpqa| 1686758857|    AskReddit|Maybe then don’t ...|   -1|     0|               0|\n",
      "+-------+--------------------+----------+----------+-----------+-------------+--------------------+-----+------+----------------+\n",
      "only showing top 10 rows\n",
      "\n"
     ]
    },
    {
     "name": "stderr",
     "output_type": "stream",
     "text": [
      "                                                                                \r"
     ]
    }
   ],
   "source": [
    "# select and reorder columns\n",
    "comments = comments.select(\n",
    "    'id',\n",
    "    'author',\n",
    "    'link_id',\n",
    "    'parent_id',\n",
    "    'created_utc',\n",
    "    'subreddit',\n",
    "    'body',\n",
    "    'score',\n",
    "    'gilded',\n",
    "    'controversiality'\n",
    ")\n",
    "\n",
    "comments.show(10)"
   ]
  },
  {
   "cell_type": "markdown",
   "id": "6b211d2b-ce9a-4035-8df5-7fe4835ec68f",
   "metadata": {},
   "source": [
    "### Remove comments that have body removed"
   ]
  },
  {
   "cell_type": "code",
   "execution_count": 38,
   "id": "407c62ac-5013-45f7-9bf6-e00d054972bb",
   "metadata": {},
   "outputs": [
    {
     "name": "stderr",
     "output_type": "stream",
     "text": [
      "[Stage 78:=====================================================>(195 + 2) / 197]\r"
     ]
    },
    {
     "name": "stdout",
     "output_type": "stream",
     "text": [
      "comments shape: (74619948, 10)\n"
     ]
    },
    {
     "name": "stderr",
     "output_type": "stream",
     "text": [
      "                                                                                \r"
     ]
    }
   ],
   "source": [
    "# keep rows where body is not '[removed]'\n",
    "comments = comments.filter(comments.body != '[removed]')\n",
    "\n",
    "# check shape again\n",
    "count = comments.count()\n",
    "num_columns = len(comments.columns)\n",
    "print(f\"comments shape: ({count}, {num_columns})\")"
   ]
  },
  {
   "cell_type": "markdown",
   "id": "1fd1dccf-27a3-49dc-b35b-e4ec7a8226be",
   "metadata": {},
   "source": [
    "Comments: 76.35M -> 74.62M"
   ]
  },
  {
   "cell_type": "markdown",
   "id": "915fb63b-22ce-4d70-a21a-200c27bfddd4",
   "metadata": {},
   "source": [
    "### Filter to only keep comments with posts"
   ]
  },
  {
   "cell_type": "code",
   "execution_count": 39,
   "id": "d1708c4e-bd60-423d-81b3-dc73e797aa4a",
   "metadata": {},
   "outputs": [
    {
     "name": "stderr",
     "output_type": "stream",
     "text": [
      "[Stage 81:>                                                         (0 + 1) / 1]\r"
     ]
    },
    {
     "name": "stdout",
     "output_type": "stream",
     "text": [
      "+-------+\n",
      "|post_id|\n",
      "+-------+\n",
      "|14ck4v4|\n",
      "|14ckmm7|\n",
      "|14cli3e|\n",
      "|14clm8b|\n",
      "|14clp5m|\n",
      "|14clsxz|\n",
      "|14cm0zy|\n",
      "|14cmjqt|\n",
      "|14cmzoz|\n",
      "|14cn075|\n",
      "+-------+\n",
      "only showing top 10 rows\n",
      "\n"
     ]
    },
    {
     "name": "stderr",
     "output_type": "stream",
     "text": [
      "                                                                                \r"
     ]
    }
   ],
   "source": [
    "post_ids.show(10)"
   ]
  },
  {
   "cell_type": "code",
   "execution_count": 40,
   "id": "15dfda96-57a5-4d13-a4ba-e6b5cf5a1160",
   "metadata": {},
   "outputs": [
    {
     "name": "stdout",
     "output_type": "stream",
     "text": [
      "+-------+--------------------+-------+---------+-----------+-------------+--------------------+-----+------+----------------+\n",
      "|     id|              author|link_id|parent_id|created_utc|    subreddit|                body|score|gilded|controversiality|\n",
      "+-------+--------------------+-------+---------+-----------+-------------+--------------------+-----+------+----------------+\n",
      "|jo488dx|  LeftandLeaving9006|148x130|  148x130| 1686758855|    AskReddit|Anne of Green Gab...|    1|     0|               0|\n",
      "|jo488e4|            daniboyi|148nq2g|  jo1rnku| 1686758855|    AskReddit|as my dad always ...|    2|     0|               0|\n",
      "|jo488eh|Fuck_you_Reddit_Nazi|149b7c9|  jo47zcb| 1686758855|    AskReddit|Sounds like you n...|    3|     0|               0|\n",
      "|jo488f4|Realistic-Active7230|1498l3e|  1498l3e| 1686758855|AmItheAsshole|YTA! How spiteful...|    1|     0|               0|\n",
      "|jo488g1|            An_Dr01d|148sxkl|  148sxkl| 1686758856|    AskReddit|           Kombucha.|    1|     0|               0|\n",
      "|jo488gd|      jolly_rodger42|148x130|  148x130| 1686758856|    AskReddit|          Home Alone|    1|     0|               0|\n",
      "|jo488hf|   throwaway2getsome|1495del|  jo3mzbs| 1686758856|    AskReddit|       Learn to code|    1|     0|               0|\n",
      "|jo488ie|            jbphilly|1490225|  1490225| 1686758857|    AskReddit|A cult with a his...|    1|     0|               0|\n",
      "|jo488ij| A_Generic_White_Guy|149birf|  149birf| 1686758857|    AskReddit|Well I'm older bu...|    1|     0|               0|\n",
      "|jo488in|        stillslaying|148b059|  jo2kpqa| 1686758857|    AskReddit|Maybe then don’t ...|   -1|     0|               0|\n",
      "+-------+--------------------+-------+---------+-----------+-------------+--------------------+-----+------+----------------+\n",
      "only showing top 10 rows\n",
      "\n"
     ]
    }
   ],
   "source": [
    "from pyspark.sql.functions import regexp_replace\n",
    "\n",
    "# correctly format link_id for merge\n",
    "comments = comments.withColumn(\"link_id\", regexp_replace(\"link_id\", \"^[^_]+_\", \"\"))\n",
    "\n",
    "# also correctly format parent_id to evaluate how many top level comments there are \n",
    "comments = comments.withColumn(\"parent_id\", regexp_replace(\"parent_id\", \"^[^_]+_\", \"\"))\n",
    "\n",
    "comments.show(10)"
   ]
  },
  {
   "cell_type": "code",
   "execution_count": 45,
   "id": "6b194e64-e44e-4a4c-9df9-0a871b130f38",
   "metadata": {},
   "outputs": [
    {
     "name": "stderr",
     "output_type": "stream",
     "text": [
      "[Stage 97:=======================================================>(68 + 1) / 69]\r"
     ]
    },
    {
     "name": "stdout",
     "output_type": "stream",
     "text": [
      "+-------+-------------------+-------+---------+-----------+---------+--------------------+-----+------+----------------+-------+\n",
      "|     id|             author|link_id|parent_id|created_utc|subreddit|                body|score|gilded|controversiality|post_id|\n",
      "+-------+-------------------+-------+---------+-----------+---------+--------------------+-----+------+----------------+-------+\n",
      "|jo1701i| situationalreality|148kgyq|  148kgyq| 1686690154|AskReddit|My pardner just p...|    1|     0|               0|148kgyq|\n",
      "|jo1cv1i|            onixdog|148kgyq|  148kgyq| 1686693179|AskReddit|Paper bouquet - Mili|    1|     0|               0|148kgyq|\n",
      "|jo1du9d|woohooenjoyingspeed|148qus1|  148qus1| 1686693696|AskReddit|          Cigarettes|    2|     0|               0|148qus1|\n",
      "|jo1dvms|          i-deology|148qus1|  148qus1| 1686693717|AskReddit|April 25. Not too...|   20|     0|               0|148qus1|\n",
      "|jo1dwpq|        thanks_bruh|148qus1|  148qus1| 1686693733|AskReddit|Driving fast in a...|    1|     0|               0|148qus1|\n",
      "|jo1dy7v|        spiderman96|148qus1|  148qus1| 1686693756|AskReddit|My wife really wa...|    3|     0|               0|148qus1|\n",
      "|jo1e02r|Mindless_Method_302|148qus1|  148qus1| 1686693784|AskReddit|Something private...|    1|     0|               0|148qus1|\n",
      "|jo1e3ia|   MindfulWonderer_|148qus1|  148qus1| 1686693836|AskReddit|Just a bunch of s...|    3|     0|               0|148qus1|\n",
      "|jo1eeil|Jordan_The_Tinwoman|148qus1|  148qus1| 1686694001|AskReddit|I don't have a SO...|    5|     0|               0|148qus1|\n",
      "|jo1eh34|        oldmanjacob|148qus1|  148qus1| 1686694039|AskReddit|One where she wor...|    6|     0|               0|148qus1|\n",
      "+-------+-------------------+-------+---------+-----------+---------+--------------------+-----+------+----------------+-------+\n",
      "only showing top 10 rows\n",
      "\n"
     ]
    },
    {
     "name": "stderr",
     "output_type": "stream",
     "text": [
      "                                                                                \r"
     ]
    }
   ],
   "source": [
    "# filter comments by performing an inner join with the post_ids DataFrame\n",
    "comments_filtered = comments.join(post_ids, comments['link_id'] == post_ids['post_id'], how='inner')\n",
    "\n",
    "# display the filtered comments\n",
    "comments_filtered.show(10)"
   ]
  },
  {
   "cell_type": "code",
   "execution_count": 46,
   "id": "cba8ae4b-cb51-43af-b3fc-942f8c1d7aff",
   "metadata": {},
   "outputs": [
    {
     "name": "stderr",
     "output_type": "stream",
     "text": [
      "[Stage 107:=============================================>           (4 + 1) / 5]\r"
     ]
    },
    {
     "name": "stdout",
     "output_type": "stream",
     "text": [
      "comments shape: (39548046, 11)\n",
      "CPU times: user 276 ms, sys: 37.1 ms, total: 313 ms\n",
      "Wall time: 11min 14s\n"
     ]
    },
    {
     "name": "stderr",
     "output_type": "stream",
     "text": [
      "                                                                                \r"
     ]
    }
   ],
   "source": [
    "%%time\n",
    "# check shape again\n",
    "count = comments_filtered.count()\n",
    "num_columns = len(comments_filtered.columns)\n",
    "print(f\"comments shape: ({count}, {num_columns})\")"
   ]
  },
  {
   "cell_type": "markdown",
   "id": "d8c4045c-ea06-4d8a-bb29-3a30b0190b87",
   "metadata": {},
   "source": [
    "Comments: 76.35M -> 74.62M -> 39.54M\n"
   ]
  },
  {
   "cell_type": "markdown",
   "id": "6ae08375-dd3e-4411-9b28-11b58a7ef319",
   "metadata": {},
   "source": [
    "### Check for top level comments"
   ]
  },
  {
   "cell_type": "code",
   "execution_count": 47,
   "id": "9bc3132f-e03e-4ff0-9380-2b051bc17b5b",
   "metadata": {},
   "outputs": [
    {
     "name": "stderr",
     "output_type": "stream",
     "text": [
      "[Stage 116:==========================================>              (3 + 1) / 4]\r"
     ]
    },
    {
     "name": "stdout",
     "output_type": "stream",
     "text": [
      "Number of top-level comments: 20313289\n"
     ]
    },
    {
     "name": "stderr",
     "output_type": "stream",
     "text": [
      "                                                                                \r"
     ]
    }
   ],
   "source": [
    "# how many top-level comments are there?\n",
    "top_level_comments_count = comments_filtered.filter(comments_filtered.link_id == comments_filtered.parent_id).count()\n",
    "print(f\"Number of top-level comments: {top_level_comments_count}\")"
   ]
  },
  {
   "cell_type": "code",
   "execution_count": 49,
   "id": "df736e6b-a722-49f9-aef9-c369741c1e91",
   "metadata": {},
   "outputs": [
    {
     "name": "stderr",
     "output_type": "stream",
     "text": [
      "[Stage 121:======================================================>(68 + 1) / 69]\r"
     ]
    },
    {
     "name": "stdout",
     "output_type": "stream",
     "text": [
      "+-------+-------------------+-------+---------+-----------+---------+--------------------+-----+------+----------------+-------+-----------------+\n",
      "|     id|             author|link_id|parent_id|created_utc|subreddit|                body|score|gilded|controversiality|post_id|top_level_comment|\n",
      "+-------+-------------------+-------+---------+-----------+---------+--------------------+-----+------+----------------+-------+-----------------+\n",
      "|jo1701i| situationalreality|148kgyq|  148kgyq| 1686690154|AskReddit|My pardner just p...|    1|     0|               0|148kgyq|                1|\n",
      "|jo1cv1i|            onixdog|148kgyq|  148kgyq| 1686693179|AskReddit|Paper bouquet - Mili|    1|     0|               0|148kgyq|                1|\n",
      "|jo1du9d|woohooenjoyingspeed|148qus1|  148qus1| 1686693696|AskReddit|          Cigarettes|    2|     0|               0|148qus1|                1|\n",
      "|jo1dvms|          i-deology|148qus1|  148qus1| 1686693717|AskReddit|April 25. Not too...|   20|     0|               0|148qus1|                1|\n",
      "|jo1dwpq|        thanks_bruh|148qus1|  148qus1| 1686693733|AskReddit|Driving fast in a...|    1|     0|               0|148qus1|                1|\n",
      "|jo1dy7v|        spiderman96|148qus1|  148qus1| 1686693756|AskReddit|My wife really wa...|    3|     0|               0|148qus1|                1|\n",
      "|jo1e02r|Mindless_Method_302|148qus1|  148qus1| 1686693784|AskReddit|Something private...|    1|     0|               0|148qus1|                1|\n",
      "|jo1e3ia|   MindfulWonderer_|148qus1|  148qus1| 1686693836|AskReddit|Just a bunch of s...|    3|     0|               0|148qus1|                1|\n",
      "|jo1eeil|Jordan_The_Tinwoman|148qus1|  148qus1| 1686694001|AskReddit|I don't have a SO...|    5|     0|               0|148qus1|                1|\n",
      "|jo1eh34|        oldmanjacob|148qus1|  148qus1| 1686694039|AskReddit|One where she wor...|    6|     0|               0|148qus1|                1|\n",
      "+-------+-------------------+-------+---------+-----------+---------+--------------------+-----+------+----------------+-------+-----------------+\n",
      "only showing top 10 rows\n",
      "\n"
     ]
    },
    {
     "name": "stderr",
     "output_type": "stream",
     "text": [
      "                                                                                \r"
     ]
    }
   ],
   "source": [
    "from pyspark.sql.functions import when\n",
    "\n",
    "# add a new column indicating whether the comment is a top-level comment (1 if True, 0 otherwise)\n",
    "comments_filtered = comments_filtered.withColumn(\n",
    "    \"top_level_comment\",\n",
    "    when(comments_filtered.link_id == comments_filtered.parent_id, 1).otherwise(0)\n",
    ")\n",
    "\n",
    "comments_filtered.show(10)"
   ]
  },
  {
   "cell_type": "code",
   "execution_count": 50,
   "id": "daf9dbc8-ab16-4d84-a4fe-56cbcd9e6a99",
   "metadata": {},
   "outputs": [
    {
     "name": "stderr",
     "output_type": "stream",
     "text": [
      "[Stage 131:==========================================>              (3 + 1) / 4]\r"
     ]
    },
    {
     "name": "stdout",
     "output_type": "stream",
     "text": [
      "comments shape: (20313289, 12)\n"
     ]
    },
    {
     "name": "stderr",
     "output_type": "stream",
     "text": [
      "                                                                                \r"
     ]
    }
   ],
   "source": [
    "# filter the DataFrame to keep only rows where top_level_comment is 1\n",
    "top_level_comments = comments_filtered.filter(comments_filtered.top_level_comment == 1)\n",
    "\n",
    "# check shape again\n",
    "count = top_level_comments.count()\n",
    "num_columns = len(top_level_comments.columns)\n",
    "print(f\"comments shape: ({count}, {num_columns})\")"
   ]
  },
  {
   "cell_type": "code",
   "execution_count": null,
   "id": "11d33a5f-4de5-4967-8e6b-554cc6fd2407",
   "metadata": {},
   "outputs": [],
   "source": [
    "Comments: 76.35M -> 74.62M -> 39.54M -> 20.31M"
   ]
  },
  {
   "cell_type": "markdown",
   "id": "013dee78-3520-4e30-a362-93a0842c4669",
   "metadata": {},
   "source": [
    "### Convert created_utc into readable datetime"
   ]
  },
  {
   "cell_type": "code",
   "execution_count": 51,
   "id": "ce356a56-260d-48b2-b00d-4587718eb2a5",
   "metadata": {},
   "outputs": [
    {
     "name": "stderr",
     "output_type": "stream",
     "text": [
      "[Stage 136:=====================================================> (67 + 2) / 69]\r"
     ]
    },
    {
     "name": "stdout",
     "output_type": "stream",
     "text": [
      "+-------+-------------------+-------+---------+-----------+---------+--------------------+-----+------+----------------+-------+-----------------+--------------------+\n",
      "|     id|             author|link_id|parent_id|created_utc|subreddit|                body|score|gilded|controversiality|post_id|top_level_comment|created_date_comment|\n",
      "+-------+-------------------+-------+---------+-----------+---------+--------------------+-----+------+----------------+-------+-----------------+--------------------+\n",
      "|jo1701i| situationalreality|148kgyq|  148kgyq| 1686690154|AskReddit|My pardner just p...|    1|     0|               0|148kgyq|                1| 2023-06-13 21:02:34|\n",
      "|jo1cv1i|            onixdog|148kgyq|  148kgyq| 1686693179|AskReddit|Paper bouquet - Mili|    1|     0|               0|148kgyq|                1| 2023-06-13 21:52:59|\n",
      "|jo1du9d|woohooenjoyingspeed|148qus1|  148qus1| 1686693696|AskReddit|          Cigarettes|    2|     0|               0|148qus1|                1| 2023-06-13 22:01:36|\n",
      "|jo1dvms|          i-deology|148qus1|  148qus1| 1686693717|AskReddit|April 25. Not too...|   20|     0|               0|148qus1|                1| 2023-06-13 22:01:57|\n",
      "|jo1dwpq|        thanks_bruh|148qus1|  148qus1| 1686693733|AskReddit|Driving fast in a...|    1|     0|               0|148qus1|                1| 2023-06-13 22:02:13|\n",
      "|jo1dy7v|        spiderman96|148qus1|  148qus1| 1686693756|AskReddit|My wife really wa...|    3|     0|               0|148qus1|                1| 2023-06-13 22:02:36|\n",
      "|jo1e02r|Mindless_Method_302|148qus1|  148qus1| 1686693784|AskReddit|Something private...|    1|     0|               0|148qus1|                1| 2023-06-13 22:03:04|\n",
      "|jo1e3ia|   MindfulWonderer_|148qus1|  148qus1| 1686693836|AskReddit|Just a bunch of s...|    3|     0|               0|148qus1|                1| 2023-06-13 22:03:56|\n",
      "|jo1eeil|Jordan_The_Tinwoman|148qus1|  148qus1| 1686694001|AskReddit|I don't have a SO...|    5|     0|               0|148qus1|                1| 2023-06-13 22:06:41|\n",
      "|jo1eh34|        oldmanjacob|148qus1|  148qus1| 1686694039|AskReddit|One where she wor...|    6|     0|               0|148qus1|                1| 2023-06-13 22:07:19|\n",
      "+-------+-------------------+-------+---------+-----------+---------+--------------------+-----+------+----------------+-------+-----------------+--------------------+\n",
      "only showing top 10 rows\n",
      "\n"
     ]
    },
    {
     "name": "stderr",
     "output_type": "stream",
     "text": [
      "                                                                                \r"
     ]
    }
   ],
   "source": [
    "# format the date\n",
    "top_level_comments = top_level_comments.withColumn('created_date_comment', date_format(from_unixtime(col('created_utc')), 'yyyy-MM-dd HH:mm:ss'))\n",
    "\n",
    "top_level_comments.show(10)"
   ]
  },
  {
   "cell_type": "markdown",
   "id": "26f79f67-681f-479c-83c3-97f263ba5729",
   "metadata": {},
   "source": [
    "# Concatenate all post dataframes for eventual merge"
   ]
  },
  {
   "cell_type": "code",
   "execution_count": 52,
   "id": "4411af17-d6e8-43fb-9d25-45c810ba1ca8",
   "metadata": {},
   "outputs": [
    {
     "name": "stderr",
     "output_type": "stream",
     "text": [
      "[Stage 141:>                                                        (0 + 1) / 1]\r"
     ]
    },
    {
     "name": "stdout",
     "output_type": "stream",
     "text": [
      "+-------+-------------------+-----------+-------------+--------------------+--------------------+-----+------------+-------+-------------------+\n",
      "|     id|             author|created_utc|    subreddit|               title|            selftext|score|num_comments|over_18|       created_date|\n",
      "+-------+-------------------+-----------+-------------+--------------------+--------------------+-----+------------+-------+-------------------+\n",
      "|14ck4v4|    Throwaway070511| 1687093840|AmItheAsshole|AITA for stepping...|I’ve never had mu...|  573|         171|  false|2023-06-18 13:10:40|\n",
      "|14ckmm7|          BoboFF117| 1687095244|AmItheAsshole|AITA For Not Tech...|I will try to be ...|   13|          33|  false|2023-06-18 13:34:04|\n",
      "|14cli3e|Peestainedbedsheets| 1687097589|AmItheAsshole|AITA for yelling ...|My wife and I jus...|  296|         151|  false|2023-06-18 14:13:09|\n",
      "|14clm8b| ThrowawayLongdress| 1687097912|AmItheAsshole|AITA for showing ...|I (18f) sometimes...| 5374|         558|  false|2023-06-18 14:18:32|\n",
      "|14clp5m|           niidhogg| 1687098138|AmItheAsshole|AITA for overreac...|I said to my frie...|   29|         130|  false|2023-06-18 14:22:18|\n",
      "|14clsxz|          [deleted]| 1687098431|AmItheAsshole|AITAH for not tha...|           [deleted]|   16|          27|  false|2023-06-18 14:27:11|\n",
      "|14cm0zy|          [deleted]| 1687099031|AmItheAsshole|AITA for berating...|           [deleted]|  202|          79|  false|2023-06-18 14:37:11|\n",
      "|14cmjqt|iwanttobeacavediver| 1687100412|AmItheAsshole|AITA for shouting...|I’m currently tra...| 7443|        1628|  false|2023-06-18 15:00:12|\n",
      "|14cmzoz|          [deleted]| 1687101512|AmItheAsshole|AITA for saying b...|           [deleted]| 1704|         172|  false|2023-06-18 15:18:32|\n",
      "|14cn075|          [deleted]| 1687101546|AmItheAsshole|AITA for not lett...|           [deleted]|   33|          38|  false|2023-06-18 15:19:06|\n",
      "+-------+-------------------+-----------+-------------+--------------------+--------------------+-----+------------+-------+-------------------+\n",
      "only showing top 10 rows\n",
      "\n"
     ]
    },
    {
     "name": "stderr",
     "output_type": "stream",
     "text": [
      "                                                                                \r"
     ]
    }
   ],
   "source": [
    "# concatenate the DataFrames aita, aio, and ask_reddit into a single DataFrame posts\n",
    "posts = aita.union(aio).union(ask_reddit)\n",
    "\n",
    "posts.show(10)"
   ]
  },
  {
   "cell_type": "markdown",
   "id": "6bac4e04-0847-4c1c-96ef-636d4bf4f813",
   "metadata": {},
   "source": [
    "### rename variables before merge"
   ]
  },
  {
   "cell_type": "code",
   "execution_count": 53,
   "id": "abfe420e-38e9-4e70-b629-150f51e3a71c",
   "metadata": {},
   "outputs": [
    {
     "name": "stderr",
     "output_type": "stream",
     "text": [
      "[Stage 143:======================================================>(68 + 1) / 69]\r"
     ]
    },
    {
     "name": "stdout",
     "output_type": "stream",
     "text": [
      "+----------+-------------------+-------+---------+-------------------+-----------------+--------------------+-------------+------+----------------+-------+-----------------+--------------------+\n",
      "|comment_id|     comment_author|link_id|parent_id|created_utc_comment|subreddit_comment|        comment_body|score_comment|gilded|controversiality|post_id|top_level_comment|created_date_comment|\n",
      "+----------+-------------------+-------+---------+-------------------+-----------------+--------------------+-------------+------+----------------+-------+-----------------+--------------------+\n",
      "|   jo1701i| situationalreality|148kgyq|  148kgyq|         1686690154|        AskReddit|My pardner just p...|            1|     0|               0|148kgyq|                1| 2023-06-13 21:02:34|\n",
      "|   jo1cv1i|            onixdog|148kgyq|  148kgyq|         1686693179|        AskReddit|Paper bouquet - Mili|            1|     0|               0|148kgyq|                1| 2023-06-13 21:52:59|\n",
      "|   jo1du9d|woohooenjoyingspeed|148qus1|  148qus1|         1686693696|        AskReddit|          Cigarettes|            2|     0|               0|148qus1|                1| 2023-06-13 22:01:36|\n",
      "|   jo1dvms|          i-deology|148qus1|  148qus1|         1686693717|        AskReddit|April 25. Not too...|           20|     0|               0|148qus1|                1| 2023-06-13 22:01:57|\n",
      "|   jo1dwpq|        thanks_bruh|148qus1|  148qus1|         1686693733|        AskReddit|Driving fast in a...|            1|     0|               0|148qus1|                1| 2023-06-13 22:02:13|\n",
      "|   jo1dy7v|        spiderman96|148qus1|  148qus1|         1686693756|        AskReddit|My wife really wa...|            3|     0|               0|148qus1|                1| 2023-06-13 22:02:36|\n",
      "|   jo1e02r|Mindless_Method_302|148qus1|  148qus1|         1686693784|        AskReddit|Something private...|            1|     0|               0|148qus1|                1| 2023-06-13 22:03:04|\n",
      "|   jo1e3ia|   MindfulWonderer_|148qus1|  148qus1|         1686693836|        AskReddit|Just a bunch of s...|            3|     0|               0|148qus1|                1| 2023-06-13 22:03:56|\n",
      "|   jo1eeil|Jordan_The_Tinwoman|148qus1|  148qus1|         1686694001|        AskReddit|I don't have a SO...|            5|     0|               0|148qus1|                1| 2023-06-13 22:06:41|\n",
      "|   jo1eh34|        oldmanjacob|148qus1|  148qus1|         1686694039|        AskReddit|One where she wor...|            6|     0|               0|148qus1|                1| 2023-06-13 22:07:19|\n",
      "+----------+-------------------+-------+---------+-------------------+-----------------+--------------------+-------------+------+----------------+-------+-----------------+--------------------+\n",
      "only showing top 10 rows\n",
      "\n"
     ]
    },
    {
     "name": "stderr",
     "output_type": "stream",
     "text": [
      "                                                                                \r"
     ]
    }
   ],
   "source": [
    "# Rename columns in the top_level_comments DataFrame\n",
    "top_level_comments = top_level_comments.withColumnRenamed(\"id\", \"comment_id\") \\\n",
    "    .withColumnRenamed(\"author\", \"comment_author\") \\\n",
    "    .withColumnRenamed(\"created_utc\", \"created_utc_comment\") \\\n",
    "    .withColumnRenamed(\"subreddit\", \"subreddit_comment\") \\\n",
    "    .withColumnRenamed(\"body\", \"comment_body\") \\\n",
    "    .withColumnRenamed(\"score\", \"score_comment\")\n",
    "\n",
    "top_level_comments.show(10)"
   ]
  },
  {
   "cell_type": "code",
   "execution_count": 54,
   "id": "47766c14-b727-4d14-859d-852c94af57b8",
   "metadata": {},
   "outputs": [
    {
     "name": "stderr",
     "output_type": "stream",
     "text": [
      "[Stage 148:>                                                        (0 + 1) / 1]\r"
     ]
    },
    {
     "name": "stdout",
     "output_type": "stream",
     "text": [
      "+-------+-------------------+----------------+--------------+--------------------+--------------------+----------+------------+-------+-------------------+\n",
      "|post_id|        post_author|created_utc_post|subreddit_post|          post_title|            selftext|score_post|num_comments|over_18|  created_date_post|\n",
      "+-------+-------------------+----------------+--------------+--------------------+--------------------+----------+------------+-------+-------------------+\n",
      "|14ck4v4|    Throwaway070511|      1687093840| AmItheAsshole|AITA for stepping...|I’ve never had mu...|       573|         171|  false|2023-06-18 13:10:40|\n",
      "|14ckmm7|          BoboFF117|      1687095244| AmItheAsshole|AITA For Not Tech...|I will try to be ...|        13|          33|  false|2023-06-18 13:34:04|\n",
      "|14cli3e|Peestainedbedsheets|      1687097589| AmItheAsshole|AITA for yelling ...|My wife and I jus...|       296|         151|  false|2023-06-18 14:13:09|\n",
      "|14clm8b| ThrowawayLongdress|      1687097912| AmItheAsshole|AITA for showing ...|I (18f) sometimes...|      5374|         558|  false|2023-06-18 14:18:32|\n",
      "|14clp5m|           niidhogg|      1687098138| AmItheAsshole|AITA for overreac...|I said to my frie...|        29|         130|  false|2023-06-18 14:22:18|\n",
      "|14clsxz|          [deleted]|      1687098431| AmItheAsshole|AITAH for not tha...|           [deleted]|        16|          27|  false|2023-06-18 14:27:11|\n",
      "|14cm0zy|          [deleted]|      1687099031| AmItheAsshole|AITA for berating...|           [deleted]|       202|          79|  false|2023-06-18 14:37:11|\n",
      "|14cmjqt|iwanttobeacavediver|      1687100412| AmItheAsshole|AITA for shouting...|I’m currently tra...|      7443|        1628|  false|2023-06-18 15:00:12|\n",
      "|14cmzoz|          [deleted]|      1687101512| AmItheAsshole|AITA for saying b...|           [deleted]|      1704|         172|  false|2023-06-18 15:18:32|\n",
      "|14cn075|          [deleted]|      1687101546| AmItheAsshole|AITA for not lett...|           [deleted]|        33|          38|  false|2023-06-18 15:19:06|\n",
      "+-------+-------------------+----------------+--------------+--------------------+--------------------+----------+------------+-------+-------------------+\n",
      "only showing top 10 rows\n",
      "\n"
     ]
    },
    {
     "name": "stderr",
     "output_type": "stream",
     "text": [
      "                                                                                \r"
     ]
    }
   ],
   "source": [
    "# Rename columns in the posts DataFrame\n",
    "posts = posts.withColumnRenamed(\"id\", \"post_id\") \\\n",
    "    .withColumnRenamed(\"author\", \"post_author\") \\\n",
    "    .withColumnRenamed(\"created_utc\", \"created_utc_post\") \\\n",
    "    .withColumnRenamed(\"subreddit\", \"subreddit_post\") \\\n",
    "    .withColumnRenamed(\"title\", \"post_title\") \\\n",
    "    .withColumnRenamed(\"score\", \"score_post\") \\\n",
    "    .withColumnRenamed(\"created_date\", \"created_date_post\")\n",
    "\n",
    "posts.show(10)"
   ]
  },
  {
   "cell_type": "markdown",
   "id": "6fed0f33-24ae-4ece-92ae-14489d8f604d",
   "metadata": {},
   "source": [
    "### merge posts with top_level comments"
   ]
  },
  {
   "cell_type": "code",
   "execution_count": 55,
   "id": "78ff1f4c-ca4b-4fab-b229-d28caafce2fa",
   "metadata": {},
   "outputs": [
    {
     "name": "stderr",
     "output_type": "stream",
     "text": [
      "                                                                                \r"
     ]
    },
    {
     "name": "stdout",
     "output_type": "stream",
     "text": [
      "+-------+-------------+----------------+--------------+--------------------+--------+----------+------------+-------+-------------------+----------+-------------------+-------+---------+-------------------+-----------------+--------------------+-------------+------+----------------+-------+-----------------+--------------------+\n",
      "|post_id|  post_author|created_utc_post|subreddit_post|          post_title|selftext|score_post|num_comments|over_18|  created_date_post|comment_id|     comment_author|link_id|parent_id|created_utc_comment|subreddit_comment|        comment_body|score_comment|gilded|controversiality|post_id|top_level_comment|created_date_comment|\n",
      "+-------+-------------+----------------+--------------+--------------------+--------+----------+------------+-------+-------------------+----------+-------------------+-------+---------+-------------------+-----------------+--------------------+-------------+------+----------------+-------+-----------------+--------------------+\n",
      "|13xj9uh|thatbadgirl69|      1685630305|     AskReddit|If you switched g...|        |         0|          73|   true|2023-06-01 14:38:25|   jmhcjgv|        TF141HUNT3R|13xj9uh|  13xj9uh|         1685630363|        AskReddit|Look in a mirror ...|            5|     0|               0|13xj9uh|                1| 2023-06-01 14:39:23|\n",
      "|13xj9uh|thatbadgirl69|      1685630305|     AskReddit|If you switched g...|        |         0|          73|   true|2023-06-01 14:38:25|   jmhcjt4|           cantopay|13xj9uh|  13xj9uh|         1685630367|        AskReddit|Make sweet lesbia...|            3|     0|               0|13xj9uh|                1| 2023-06-01 14:39:27|\n",
      "|13xj9uh|thatbadgirl69|      1685630305|     AskReddit|If you switched g...|        |         0|          73|   true|2023-06-01 14:38:25|   jmhclrg|     saltysaltedsal|13xj9uh|  13xj9uh|         1685630389|        AskReddit|      Flick the bean|            2|     0|               0|13xj9uh|                1| 2023-06-01 14:39:49|\n",
      "|13xj9uh|thatbadgirl69|      1685630305|     AskReddit|If you switched g...|        |         0|          73|   true|2023-06-01 14:38:25|   jmhcphf|            OleTech|13xj9uh|  13xj9uh|         1685630428|        AskReddit|Go get a bunch of...|            2|     0|               0|13xj9uh|                1| 2023-06-01 14:40:28|\n",
      "|13xj9uh|thatbadgirl69|      1685630305|     AskReddit|If you switched g...|        |         0|          73|   true|2023-06-01 14:38:25|   jmhcsbv|_ToPimpAButterfree_|13xj9uh|  13xj9uh|         1685630458|        AskReddit|Play with my titties|            3|     0|               0|13xj9uh|                1| 2023-06-01 14:40:58|\n",
      "|13xj9uh|thatbadgirl69|      1685630305|     AskReddit|If you switched g...|        |         0|          73|   true|2023-06-01 14:38:25|   jmhcywk|   Fat_Man_in_a_B29|13xj9uh|  13xj9uh|         1685630529|        AskReddit|Smash my friend s...|            4|     0|               0|13xj9uh|                1| 2023-06-01 14:42:09|\n",
      "|13xj9uh|thatbadgirl69|      1685630305|     AskReddit|If you switched g...|        |         0|          73|   true|2023-06-01 14:38:25|   jmhd5vz|        BJ_Blitzvix|13xj9uh|  13xj9uh|         1685630607|        AskReddit| Play with genitals.|            2|     0|               0|13xj9uh|                1| 2023-06-01 14:43:27|\n",
      "|13xj9uh|thatbadgirl69|      1685630305|     AskReddit|If you switched g...|        |         0|          73|   true|2023-06-01 14:38:25|   jmhd840|  RandomQuestioners|13xj9uh|  13xj9uh|         1685630632|        AskReddit|I’m absolutely st...|            8|     0|               0|13xj9uh|                1| 2023-06-01 14:43:52|\n",
      "|13xj9uh|thatbadgirl69|      1685630305|     AskReddit|If you switched g...|        |         0|          73|   true|2023-06-01 14:38:25|   jmhdgds|            delifte|13xj9uh|  13xj9uh|         1685630722|        AskReddit|I think I'd setup...|            4|     0|               0|13xj9uh|                1| 2023-06-01 14:45:22|\n",
      "|13xj9uh|thatbadgirl69|      1685630305|     AskReddit|If you switched g...|        |         0|          73|   true|2023-06-01 14:38:25|   jmhdyk4| Error_Loading_Name|13xj9uh|  13xj9uh|         1685630922|        AskReddit|If we're swapping...|            2|     0|               0|13xj9uh|                1| 2023-06-01 14:48:42|\n",
      "+-------+-------------+----------------+--------------+--------------------+--------+----------+------------+-------+-------------------+----------+-------------------+-------+---------+-------------------+-----------------+--------------------+-------------+------+----------------+-------+-----------------+--------------------+\n",
      "only showing top 10 rows\n",
      "\n"
     ]
    }
   ],
   "source": [
    "merged_df = posts.join(top_level_comments, posts.post_id == top_level_comments.post_id, \"inner\")\n",
    "\n",
    "merged_df.show(10)"
   ]
  },
  {
   "cell_type": "markdown",
   "id": "6b9aca6e-8116-49cc-81c4-a938b3129102",
   "metadata": {},
   "source": [
    "### create time_since_post variable"
   ]
  },
  {
   "cell_type": "code",
   "execution_count": 56,
   "id": "66bfe4a1-dc84-49c3-a39b-c5fd1533af5f",
   "metadata": {},
   "outputs": [
    {
     "name": "stderr",
     "output_type": "stream",
     "text": [
      "                                                                                \r"
     ]
    },
    {
     "name": "stdout",
     "output_type": "stream",
     "text": [
      "+-------+-------------+----------------+--------------+--------------------+--------+----------+------------+-------+-------------------+----------+-------------------+-------+---------+-------------------+-----------------+--------------------+-------------+------+----------------+-------+-----------------+--------------------+--------------------+\n",
      "|post_id|  post_author|created_utc_post|subreddit_post|          post_title|selftext|score_post|num_comments|over_18|  created_date_post|comment_id|     comment_author|link_id|parent_id|created_utc_comment|subreddit_comment|        comment_body|score_comment|gilded|controversiality|post_id|top_level_comment|created_date_comment|     time_since_post|\n",
      "+-------+-------------+----------------+--------------+--------------------+--------+----------+------------+-------+-------------------+----------+-------------------+-------+---------+-------------------+-----------------+--------------------+-------------+------+----------------+-------+-----------------+--------------------+--------------------+\n",
      "|13xj9uh|thatbadgirl69|      1685630305|     AskReddit|If you switched g...|        |         0|          73|   true|2023-06-01 14:38:25|   jmhcjgv|        TF141HUNT3R|13xj9uh|  13xj9uh|         1685630363|        AskReddit|Look in a mirror ...|            5|     0|               0|13xj9uh|                1| 2023-06-01 14:39:23| 0.01611111111111111|\n",
      "|13xj9uh|thatbadgirl69|      1685630305|     AskReddit|If you switched g...|        |         0|          73|   true|2023-06-01 14:38:25|   jmhcjt4|           cantopay|13xj9uh|  13xj9uh|         1685630367|        AskReddit|Make sweet lesbia...|            3|     0|               0|13xj9uh|                1| 2023-06-01 14:39:27|0.017222222222222222|\n",
      "|13xj9uh|thatbadgirl69|      1685630305|     AskReddit|If you switched g...|        |         0|          73|   true|2023-06-01 14:38:25|   jmhclrg|     saltysaltedsal|13xj9uh|  13xj9uh|         1685630389|        AskReddit|      Flick the bean|            2|     0|               0|13xj9uh|                1| 2023-06-01 14:39:49|0.023333333333333334|\n",
      "|13xj9uh|thatbadgirl69|      1685630305|     AskReddit|If you switched g...|        |         0|          73|   true|2023-06-01 14:38:25|   jmhcphf|            OleTech|13xj9uh|  13xj9uh|         1685630428|        AskReddit|Go get a bunch of...|            2|     0|               0|13xj9uh|                1| 2023-06-01 14:40:28|0.034166666666666665|\n",
      "|13xj9uh|thatbadgirl69|      1685630305|     AskReddit|If you switched g...|        |         0|          73|   true|2023-06-01 14:38:25|   jmhcsbv|_ToPimpAButterfree_|13xj9uh|  13xj9uh|         1685630458|        AskReddit|Play with my titties|            3|     0|               0|13xj9uh|                1| 2023-06-01 14:40:58|              0.0425|\n",
      "|13xj9uh|thatbadgirl69|      1685630305|     AskReddit|If you switched g...|        |         0|          73|   true|2023-06-01 14:38:25|   jmhcywk|   Fat_Man_in_a_B29|13xj9uh|  13xj9uh|         1685630529|        AskReddit|Smash my friend s...|            4|     0|               0|13xj9uh|                1| 2023-06-01 14:42:09| 0.06222222222222222|\n",
      "|13xj9uh|thatbadgirl69|      1685630305|     AskReddit|If you switched g...|        |         0|          73|   true|2023-06-01 14:38:25|   jmhd5vz|        BJ_Blitzvix|13xj9uh|  13xj9uh|         1685630607|        AskReddit| Play with genitals.|            2|     0|               0|13xj9uh|                1| 2023-06-01 14:43:27| 0.08388888888888889|\n",
      "|13xj9uh|thatbadgirl69|      1685630305|     AskReddit|If you switched g...|        |         0|          73|   true|2023-06-01 14:38:25|   jmhd840|  RandomQuestioners|13xj9uh|  13xj9uh|         1685630632|        AskReddit|I’m absolutely st...|            8|     0|               0|13xj9uh|                1| 2023-06-01 14:43:52| 0.09083333333333334|\n",
      "|13xj9uh|thatbadgirl69|      1685630305|     AskReddit|If you switched g...|        |         0|          73|   true|2023-06-01 14:38:25|   jmhdgds|            delifte|13xj9uh|  13xj9uh|         1685630722|        AskReddit|I think I'd setup...|            4|     0|               0|13xj9uh|                1| 2023-06-01 14:45:22| 0.11583333333333333|\n",
      "|13xj9uh|thatbadgirl69|      1685630305|     AskReddit|If you switched g...|        |         0|          73|   true|2023-06-01 14:38:25|   jmhdyk4| Error_Loading_Name|13xj9uh|  13xj9uh|         1685630922|        AskReddit|If we're swapping...|            2|     0|               0|13xj9uh|                1| 2023-06-01 14:48:42|  0.1713888888888889|\n",
      "+-------+-------------+----------------+--------------+--------------------+--------+----------+------------+-------+-------------------+----------+-------------------+-------+---------+-------------------+-----------------+--------------------+-------------+------+----------------+-------+-----------------+--------------------+--------------------+\n",
      "only showing top 10 rows\n",
      "\n"
     ]
    }
   ],
   "source": [
    "from pyspark.sql import functions as F\n",
    "\n",
    "# calculate the time difference in hours between post and comment creation\n",
    "merged_df = merged_df.withColumn(\n",
    "    \"time_since_post\",\n",
    "    (F.col(\"created_utc_comment\") - F.col(\"created_utc_post\")) / 3600\n",
    ")\n",
    "\n",
    "# display the first 10 rows to verify the new column\n",
    "merged_df.show(10)"
   ]
  },
  {
   "cell_type": "markdown",
   "id": "fb2a3659-faf0-43f3-9bb3-08d15bf09532",
   "metadata": {},
   "source": [
    "### filter out comments with time_since_post greater than 24hr"
   ]
  },
  {
   "cell_type": "code",
   "execution_count": 59,
   "id": "6d13c331-54f2-4d3e-a1d9-6aa6c850b06e",
   "metadata": {},
   "outputs": [
    {
     "name": "stderr",
     "output_type": "stream",
     "text": [
      "                                                                                \r"
     ]
    },
    {
     "name": "stdout",
     "output_type": "stream",
     "text": [
      "+-------+-------------+----------------+--------------+--------------------+--------+----------+------------+-------+-------------------+----------+-------------------+-------+---------+-------------------+-----------------+--------------------+-------------+------+----------------+-------+-----------------+--------------------+--------------------+\n",
      "|post_id|  post_author|created_utc_post|subreddit_post|          post_title|selftext|score_post|num_comments|over_18|  created_date_post|comment_id|     comment_author|link_id|parent_id|created_utc_comment|subreddit_comment|        comment_body|score_comment|gilded|controversiality|post_id|top_level_comment|created_date_comment|     time_since_post|\n",
      "+-------+-------------+----------------+--------------+--------------------+--------+----------+------------+-------+-------------------+----------+-------------------+-------+---------+-------------------+-----------------+--------------------+-------------+------+----------------+-------+-----------------+--------------------+--------------------+\n",
      "|13xj9uh|thatbadgirl69|      1685630305|     AskReddit|If you switched g...|        |         0|          73|   true|2023-06-01 14:38:25|   jmhcjgv|        TF141HUNT3R|13xj9uh|  13xj9uh|         1685630363|        AskReddit|Look in a mirror ...|            5|     0|               0|13xj9uh|                1| 2023-06-01 14:39:23| 0.01611111111111111|\n",
      "|13xj9uh|thatbadgirl69|      1685630305|     AskReddit|If you switched g...|        |         0|          73|   true|2023-06-01 14:38:25|   jmhcjt4|           cantopay|13xj9uh|  13xj9uh|         1685630367|        AskReddit|Make sweet lesbia...|            3|     0|               0|13xj9uh|                1| 2023-06-01 14:39:27|0.017222222222222222|\n",
      "|13xj9uh|thatbadgirl69|      1685630305|     AskReddit|If you switched g...|        |         0|          73|   true|2023-06-01 14:38:25|   jmhclrg|     saltysaltedsal|13xj9uh|  13xj9uh|         1685630389|        AskReddit|      Flick the bean|            2|     0|               0|13xj9uh|                1| 2023-06-01 14:39:49|0.023333333333333334|\n",
      "|13xj9uh|thatbadgirl69|      1685630305|     AskReddit|If you switched g...|        |         0|          73|   true|2023-06-01 14:38:25|   jmhcphf|            OleTech|13xj9uh|  13xj9uh|         1685630428|        AskReddit|Go get a bunch of...|            2|     0|               0|13xj9uh|                1| 2023-06-01 14:40:28|0.034166666666666665|\n",
      "|13xj9uh|thatbadgirl69|      1685630305|     AskReddit|If you switched g...|        |         0|          73|   true|2023-06-01 14:38:25|   jmhcsbv|_ToPimpAButterfree_|13xj9uh|  13xj9uh|         1685630458|        AskReddit|Play with my titties|            3|     0|               0|13xj9uh|                1| 2023-06-01 14:40:58|              0.0425|\n",
      "|13xj9uh|thatbadgirl69|      1685630305|     AskReddit|If you switched g...|        |         0|          73|   true|2023-06-01 14:38:25|   jmhcywk|   Fat_Man_in_a_B29|13xj9uh|  13xj9uh|         1685630529|        AskReddit|Smash my friend s...|            4|     0|               0|13xj9uh|                1| 2023-06-01 14:42:09| 0.06222222222222222|\n",
      "|13xj9uh|thatbadgirl69|      1685630305|     AskReddit|If you switched g...|        |         0|          73|   true|2023-06-01 14:38:25|   jmhd5vz|        BJ_Blitzvix|13xj9uh|  13xj9uh|         1685630607|        AskReddit| Play with genitals.|            2|     0|               0|13xj9uh|                1| 2023-06-01 14:43:27| 0.08388888888888889|\n",
      "|13xj9uh|thatbadgirl69|      1685630305|     AskReddit|If you switched g...|        |         0|          73|   true|2023-06-01 14:38:25|   jmhd840|  RandomQuestioners|13xj9uh|  13xj9uh|         1685630632|        AskReddit|I’m absolutely st...|            8|     0|               0|13xj9uh|                1| 2023-06-01 14:43:52| 0.09083333333333334|\n",
      "|13xj9uh|thatbadgirl69|      1685630305|     AskReddit|If you switched g...|        |         0|          73|   true|2023-06-01 14:38:25|   jmhdgds|            delifte|13xj9uh|  13xj9uh|         1685630722|        AskReddit|I think I'd setup...|            4|     0|               0|13xj9uh|                1| 2023-06-01 14:45:22| 0.11583333333333333|\n",
      "|13xj9uh|thatbadgirl69|      1685630305|     AskReddit|If you switched g...|        |         0|          73|   true|2023-06-01 14:38:25|   jmhdyk4| Error_Loading_Name|13xj9uh|  13xj9uh|         1685630922|        AskReddit|If we're swapping...|            2|     0|               0|13xj9uh|                1| 2023-06-01 14:48:42|  0.1713888888888889|\n",
      "+-------+-------------+----------------+--------------+--------------------+--------+----------+------------+-------+-------------------+----------+-------------------+-------+---------+-------------------+-----------------+--------------------+-------------+------+----------------+-------+-----------------+--------------------+--------------------+\n",
      "only showing top 10 rows\n",
      "\n"
     ]
    }
   ],
   "source": [
    "# filter out rows where comments occurred more than 24 hours after post creation\n",
    "merged_df = merged_df.filter(F.col(\"time_since_post\") <= 24)\n",
    "\n",
    "# display the first few rows to verify the filtered results\n",
    "merged_df.show(10)"
   ]
  },
  {
   "cell_type": "code",
   "execution_count": 61,
   "id": "01a90579-bb9f-444a-89b9-6078d66ec027",
   "metadata": {},
   "outputs": [],
   "source": [
    "# round time_since_post to five decimal places\n",
    "merged_df = merged_df.withColumn(\"time_since_post\", F.round(F.col(\"time_since_post\"), 5))"
   ]
  },
  {
   "cell_type": "code",
   "execution_count": 62,
   "id": "ee42f839-f530-4f1c-99cb-91fcb35f68cb",
   "metadata": {},
   "outputs": [
    {
     "name": "stderr",
     "output_type": "stream",
     "text": [
      "                                                                                \r"
     ]
    },
    {
     "name": "stdout",
     "output_type": "stream",
     "text": [
      "+-------+-------------+----------------+--------------+--------------------+--------+----------+------------+-------+-------------------+----------+-------------------+-------+---------+-------------------+-----------------+--------------------+-------------+------+----------------+-------+-----------------+--------------------+---------------+\n",
      "|post_id|  post_author|created_utc_post|subreddit_post|          post_title|selftext|score_post|num_comments|over_18|  created_date_post|comment_id|     comment_author|link_id|parent_id|created_utc_comment|subreddit_comment|        comment_body|score_comment|gilded|controversiality|post_id|top_level_comment|created_date_comment|time_since_post|\n",
      "+-------+-------------+----------------+--------------+--------------------+--------+----------+------------+-------+-------------------+----------+-------------------+-------+---------+-------------------+-----------------+--------------------+-------------+------+----------------+-------+-----------------+--------------------+---------------+\n",
      "|13xj9uh|thatbadgirl69|      1685630305|     AskReddit|If you switched g...|        |         0|          73|   true|2023-06-01 14:38:25|   jmhcjgv|        TF141HUNT3R|13xj9uh|  13xj9uh|         1685630363|        AskReddit|Look in a mirror ...|            5|     0|               0|13xj9uh|                1| 2023-06-01 14:39:23|        0.01611|\n",
      "|13xj9uh|thatbadgirl69|      1685630305|     AskReddit|If you switched g...|        |         0|          73|   true|2023-06-01 14:38:25|   jmhcjt4|           cantopay|13xj9uh|  13xj9uh|         1685630367|        AskReddit|Make sweet lesbia...|            3|     0|               0|13xj9uh|                1| 2023-06-01 14:39:27|        0.01722|\n",
      "|13xj9uh|thatbadgirl69|      1685630305|     AskReddit|If you switched g...|        |         0|          73|   true|2023-06-01 14:38:25|   jmhclrg|     saltysaltedsal|13xj9uh|  13xj9uh|         1685630389|        AskReddit|      Flick the bean|            2|     0|               0|13xj9uh|                1| 2023-06-01 14:39:49|        0.02333|\n",
      "|13xj9uh|thatbadgirl69|      1685630305|     AskReddit|If you switched g...|        |         0|          73|   true|2023-06-01 14:38:25|   jmhcphf|            OleTech|13xj9uh|  13xj9uh|         1685630428|        AskReddit|Go get a bunch of...|            2|     0|               0|13xj9uh|                1| 2023-06-01 14:40:28|        0.03417|\n",
      "|13xj9uh|thatbadgirl69|      1685630305|     AskReddit|If you switched g...|        |         0|          73|   true|2023-06-01 14:38:25|   jmhcsbv|_ToPimpAButterfree_|13xj9uh|  13xj9uh|         1685630458|        AskReddit|Play with my titties|            3|     0|               0|13xj9uh|                1| 2023-06-01 14:40:58|         0.0425|\n",
      "|13xj9uh|thatbadgirl69|      1685630305|     AskReddit|If you switched g...|        |         0|          73|   true|2023-06-01 14:38:25|   jmhcywk|   Fat_Man_in_a_B29|13xj9uh|  13xj9uh|         1685630529|        AskReddit|Smash my friend s...|            4|     0|               0|13xj9uh|                1| 2023-06-01 14:42:09|        0.06222|\n",
      "|13xj9uh|thatbadgirl69|      1685630305|     AskReddit|If you switched g...|        |         0|          73|   true|2023-06-01 14:38:25|   jmhd5vz|        BJ_Blitzvix|13xj9uh|  13xj9uh|         1685630607|        AskReddit| Play with genitals.|            2|     0|               0|13xj9uh|                1| 2023-06-01 14:43:27|        0.08389|\n",
      "|13xj9uh|thatbadgirl69|      1685630305|     AskReddit|If you switched g...|        |         0|          73|   true|2023-06-01 14:38:25|   jmhd840|  RandomQuestioners|13xj9uh|  13xj9uh|         1685630632|        AskReddit|I’m absolutely st...|            8|     0|               0|13xj9uh|                1| 2023-06-01 14:43:52|        0.09083|\n",
      "|13xj9uh|thatbadgirl69|      1685630305|     AskReddit|If you switched g...|        |         0|          73|   true|2023-06-01 14:38:25|   jmhdgds|            delifte|13xj9uh|  13xj9uh|         1685630722|        AskReddit|I think I'd setup...|            4|     0|               0|13xj9uh|                1| 2023-06-01 14:45:22|        0.11583|\n",
      "|13xj9uh|thatbadgirl69|      1685630305|     AskReddit|If you switched g...|        |         0|          73|   true|2023-06-01 14:38:25|   jmhdyk4| Error_Loading_Name|13xj9uh|  13xj9uh|         1685630922|        AskReddit|If we're swapping...|            2|     0|               0|13xj9uh|                1| 2023-06-01 14:48:42|        0.17139|\n",
      "+-------+-------------+----------------+--------------+--------------------+--------+----------+------------+-------+-------------------+----------+-------------------+-------+---------+-------------------+-----------------+--------------------+-------------+------+----------------+-------+-----------------+--------------------+---------------+\n",
      "only showing top 10 rows\n",
      "\n"
     ]
    }
   ],
   "source": [
    "merged_df.show(10)"
   ]
  },
  {
   "cell_type": "code",
   "execution_count": 63,
   "id": "db02715e-6017-4a76-91b7-f5d1e5921955",
   "metadata": {},
   "outputs": [
    {
     "name": "stderr",
     "output_type": "stream",
     "text": [
      "[Stage 209:=============================================>           (4 + 1) / 5]\r"
     ]
    },
    {
     "name": "stdout",
     "output_type": "stream",
     "text": [
      "comments shape: (19293439, 24)\n"
     ]
    },
    {
     "name": "stderr",
     "output_type": "stream",
     "text": [
      "                                                                                \r"
     ]
    }
   ],
   "source": [
    "# check shape again\n",
    "count = merged_df.count()\n",
    "num_columns = len(merged_df.columns)\n",
    "print(f\"comments shape: ({count}, {num_columns})\")"
   ]
  },
  {
   "cell_type": "markdown",
   "id": "161eefdb-9608-4f50-a9fa-e50b962eb047",
   "metadata": {},
   "source": [
    "Comments: 76.35M -> 74.62M -> 39.54M -> 20.31M -> 19.29M"
   ]
  },
  {
   "cell_type": "markdown",
   "id": "ddf51231-4411-4c3f-b910-42acc4df49f5",
   "metadata": {},
   "source": [
    "### separate by subreddit"
   ]
  },
  {
   "cell_type": "code",
   "execution_count": null,
   "id": "8e257244-5b46-4334-a733-87da20f27838",
   "metadata": {},
   "outputs": [
    {
     "name": "stderr",
     "output_type": "stream",
     "text": [
      "                                                                                \r"
     ]
    },
    {
     "name": "stdout",
     "output_type": "stream",
     "text": [
      "aita shape: (3955392, 23)\n"
     ]
    },
    {
     "name": "stderr",
     "output_type": "stream",
     "text": [
      "                                                                                \r"
     ]
    },
    {
     "name": "stdout",
     "output_type": "stream",
     "text": [
      "aio shape: (474575, 23)\n"
     ]
    },
    {
     "name": "stderr",
     "output_type": "stream",
     "text": [
      "[Stage 283:====>          (22 + 4) / 69][Stage 285:>                (0 + 0) / 1]\r"
     ]
    }
   ],
   "source": [
    "# Drop the duplicate column (if needed)\n",
    "merged_df = merged_df.drop(top_level_comments.post_id)\n",
    "\n",
    "# filter and create separate dataframes\n",
    "aita = merged_df.filter(merged_df['subreddit_post'] == 'AmItheAsshole')\n",
    "aio = merged_df.filter(merged_df['subreddit_post'] == 'AmIOverreacting')\n",
    "ask_reddit = merged_df.filter(merged_df['subreddit_post'] == 'AskReddit')\n",
    "\n",
    "# print shapes of each subreddit\n",
    "aita_count = aita.count()\n",
    "aita_columns = len(aita.columns)\n",
    "print(f\"aita shape: ({aita_count}, {aita_columns})\")\n",
    "\n",
    "aio_count = aio.count()\n",
    "aio_columns = len(aio.columns)\n",
    "print(f\"aio shape: ({aio_count}, {aio_columns})\")\n",
    "\n",
    "ask_reddit_count = ask_reddit.count()\n",
    "ask_reddit_columns = len(ask_reddit.columns)\n",
    "print(f\"AskReddit shape: ({ask_reddit_count}, {ask_reddit_columns})\")\n",
    "\n",
    "# print shapes of posts\n",
    "posts_count = posts.count()\n",
    "posts_columns = len(posts.columns)\n",
    "print(f\"Posts shape: ({posts_count}, {posts_columns})\")"
   ]
  },
  {
   "cell_type": "markdown",
   "id": "7fdaecf5-a6e0-4073-af60-84bd8b8c2e3a",
   "metadata": {},
   "source": [
    "### save files"
   ]
  },
  {
   "cell_type": "code",
   "execution_count": null,
   "id": "8f2f98ea-ed13-4cc7-bf45-99463bec743b",
   "metadata": {},
   "outputs": [],
   "source": [
    "# set up S3 paths\n",
    "aita_path = f\"s3a://{bucket}/BDproject/aita.parquet\"\n",
    "aio_path = f\"s3a://{bucket}/BDproject/aio.parquet\"\n",
    "ask_reddit_path = f\"s3a://{bucket}/BDproject/ask_reddit.parquet\"\n",
    "posts_path = f\"s3a://{bucket}/BDproject/posts.parquet\"\n",
    "\n",
    "\n",
    "# save the DataFrames as Parquet files to S3\n",
    "aita.write.mode('overwrite').parquet(aita_path)\n",
    "aio.write.mode('overwrite').parquet(aio_path)\n",
    "ask_reddit.write.mode('overwrite').parquet(ask_reddit_path)\n",
    "posts.write.mode('overwrite').parquet(posts_path)"
   ]
  },
  {
   "cell_type": "code",
   "execution_count": null,
   "id": "3e9b8064-3ac3-49a5-b40a-23f17cd35b9c",
   "metadata": {},
   "outputs": [],
   "source": []
  },
  {
   "cell_type": "code",
   "execution_count": null,
   "id": "f933787f-856a-4652-bb91-09cba42174de",
   "metadata": {},
   "outputs": [],
   "source": []
  },
  {
   "cell_type": "code",
   "execution_count": null,
   "id": "a0511432-1cfb-45d7-84d9-d0b92d31ef46",
   "metadata": {},
   "outputs": [],
   "source": []
  },
  {
   "cell_type": "code",
   "execution_count": null,
   "id": "575188be-bd74-41a0-b608-96d7cf6dab6d",
   "metadata": {},
   "outputs": [],
   "source": []
  },
  {
   "cell_type": "code",
   "execution_count": null,
   "id": "32a84f9f-cb20-44dc-97be-3fdf630598ac",
   "metadata": {},
   "outputs": [],
   "source": []
  },
  {
   "cell_type": "code",
   "execution_count": null,
   "id": "5030dd12-f6ce-4ec8-bcf7-24d9ecf3c5fc",
   "metadata": {},
   "outputs": [],
   "source": []
  },
  {
   "cell_type": "markdown",
   "id": "026278a3-788c-4668-9f88-d1cbba25bbb3",
   "metadata": {},
   "source": [
    "<!-- ### Separating by subreddit -->"
   ]
  },
  {
   "cell_type": "code",
   "execution_count": null,
   "id": "438a5c14-7096-4594-92e8-987c7dc68938",
   "metadata": {},
   "outputs": [],
   "source": [
    "# # filter and create separate dataframes\n",
    "# aita_comments = comments_filtered.filter(comments_filtered['subreddit'] == 'AmItheAsshole')\n",
    "# aio_comments = comments_filtered.filter(comments_filtered['subreddit'] == 'AmIOverreacting')\n",
    "# ask_reddit_comments = comments_filtered.filter(comments_filtered['subreddit'] == 'AskReddit')\n",
    "\n",
    "# # print initial shapes of each subreddit\n",
    "# aita_count = aita_comments.count()\n",
    "# aita_columns = len(aita_comments.columns)\n",
    "# print(f\"aita shape: ({aita_count}, {aita_columns})\")\n",
    "\n",
    "# aio_count = aio_comments.count()\n",
    "# aio_columns = len(aio_comments.columns)\n",
    "# print(f\"aio shape: ({aio_count}, {aio_columns})\")\n",
    "\n",
    "# ask_reddit_count = ask_reddit_comments.count()\n",
    "# ask_reddit_columns = len(ask_reddit_comments.columns)\n",
    "# print(f\"AskReddit shape: ({ask_reddit_count}, {ask_reddit_columns})\")"
   ]
  },
  {
   "cell_type": "markdown",
   "id": "98b66f83-0481-4031-8c9a-399309d94c89",
   "metadata": {},
   "source": [
    "<!-- AITA: 8.21M comments<br></br>\n",
    "AIO: 989k comments<br></br>\n",
    "TIFU: 664k comments -->"
   ]
  },
  {
   "cell_type": "markdown",
   "id": "4ea06968-81bc-4d82-a4ff-f0ac3758c081",
   "metadata": {},
   "source": [
    "<!-- ### Convert created_utc into readable datetime -->"
   ]
  },
  {
   "cell_type": "code",
   "execution_count": null,
   "id": "2bfdd580-b6a1-4296-a28e-52283a8c3f9d",
   "metadata": {},
   "outputs": [],
   "source": [
    "# # Format the date\n",
    "# aita_comments = aita_comments.withColumn('created_date', date_format(from_unixtime(col('created_utc')), 'yyyy-MM-dd HH:mm:ss'))\n",
    "# aio_comments = aio_comments.withColumn('created_date', date_format(from_unixtime(col('created_utc')), 'yyyy-MM-dd HH:mm:ss'))\n",
    "# ask_reddit_comments = ask_reddit_comments.withColumn('created_date', date_format(from_unixtime(col('created_utc')), 'yyyy-MM-dd HH:mm:ss'))\n",
    "\n",
    "# # let's take a look at aita_comments\n",
    "# aita_comments.show(10)"
   ]
  },
  {
   "cell_type": "markdown",
   "id": "16bf1bd4-31f5-474d-a9d0-2650532d8354",
   "metadata": {},
   "source": [
    "<!-- # Save Files -->"
   ]
  },
  {
   "cell_type": "code",
   "execution_count": null,
   "id": "8aa8cbb8-aca5-4bff-8b8c-6cad9373e528",
   "metadata": {},
   "outputs": [],
   "source": [
    "# # set up S3 paths\n",
    "# aita_path = f\"s3a://{bucket}/BDproject/aita.parquet\"\n",
    "# aio_path = f\"s3a://{bucket}/BDproject/aio.parquet\"\n",
    "# ask_reddit_path = f\"s3a://{bucket}/BDproject/ask_reddit.parquet\"\n",
    "# aita_comments_path = f\"s3a://{bucket}/BDproject/aita_comments.parquet\"\n",
    "# aio_comments_path = f\"s3a://{bucket}/BDproject/aio_comments.parquet\"\n",
    "# ask_reddit_comments_path = f\"s3a://{bucket}/BDproject/ask_reddit_comments.parquet\"\n",
    "\n",
    "\n",
    "# # save the DataFrames as Parquet files to S3\n",
    "# aita.write.mode('overwrite').parquet(aita_path)\n",
    "# aio.write.mode('overwrite').parquet(aio_path)\n",
    "# ask_reddit.write.mode('overwrite').parquet(ask_reddit_path)\n",
    "# aita_comments.write.mode('overwrite').parquet(aita_comments_path)\n",
    "# aio_comments.write.mode('overwrite').parquet(aio_comments_path)\n",
    "# ask_reddit_comments.write.mode('overwrite').parquet(ask_reddit_comments_path)"
   ]
  },
  {
   "cell_type": "markdown",
   "id": "39fa0c81-919d-403c-965c-bef39fce82e6",
   "metadata": {},
   "source": [
    "<!-- # START HERE: LOAD IN FILES\n",
    "\n",
    "steps remaining: create column comment_level, rename some columns to avoid confusion during merge, merge, remove comments created more than a certain amount of time after post creation -->"
   ]
  },
  {
   "cell_type": "code",
   "execution_count": null,
   "id": "fc3e46f5-4003-4358-8919-a423111f22e6",
   "metadata": {},
   "outputs": [],
   "source": [
    "# import sagemaker\n",
    "# session = sagemaker.Session()\n",
    "# bucket = session.default_bucket()"
   ]
  },
  {
   "cell_type": "code",
   "execution_count": null,
   "id": "170b2617-375a-45e5-89e6-2a09b5f2b7a4",
   "metadata": {
    "scrolled": true
   },
   "outputs": [],
   "source": [
    "# # set up S3 paths\n",
    "# aita_path = f\"s3a://{bucket}/project_preprocess/aita.parquet\"\n",
    "# aio_path = f\"s3a://{bucket}/project_preprocess/aio.parquet\"\n",
    "# ask_reddit_path = f\"s3a://{bucket}/project_preprocess/ask_reddit.parquet\"\n",
    "# aita_comments_path = f\"s3a://{bucket}/project_preprocess/aita_comments.parquet\"\n",
    "# aio_comments_path = f\"s3a://{bucket}/project_preprocess/aio_comments.parquet\"\n",
    "# ask_reddit_comments_path = f\"s3a://{bucket}/project_preprocess/ask_reddit_comments.parquet\"\n",
    "\n",
    "\n",
    "# # Read the Parquet files from S3\n",
    "# aita_df = spark.read.parquet(aita_path)\n",
    "# aio_df = spark.read.parquet(aio_path)\n",
    "# ask_reddit_df = spark.read.parquet(ask_reddit_path)\n",
    "# aita_comments_df = spark.read.parquet(aita_comments_path)\n",
    "# aio_comments_df = spark.read.parquet(aio_comments_path)\n",
    "# ask_reddit_comments_df = spark.read.parquet(ask_reddit_comments_path)\n",
    "\n",
    "# # Show headers with 5 rows for each DataFrame\n",
    "# print(\"AITA DataFrame\")\n",
    "# aita_df.show(5)\n",
    "\n",
    "# print(\"AIO DataFrame\")\n",
    "# aio_df.show(5)\n",
    "\n",
    "# print(\"Ask Reddit DataFrame\")\n",
    "# ask_reddit_df.show(5)\n",
    "\n",
    "# print(\"AITA Comments DataFrame\")\n",
    "# aita_comments_df.show(5)\n",
    "\n",
    "# print(\"AIO Comments DataFrame\")\n",
    "# aio_comments_df.show(5)\n",
    "\n",
    "# print(\"Ask Reddit Comments DataFrame\")\n",
    "# ask_reddit_comments_df.show(5)"
   ]
  },
  {
   "cell_type": "code",
   "execution_count": null,
   "id": "92ea983d-807b-40cd-9bf5-9227ce4ece0d",
   "metadata": {
    "jupyter": {
     "source_hidden": true
    }
   },
   "outputs": [],
   "source": [
    "# Show schemas\n",
    "print(\"AITA DataFrame\")\n",
    "aita_df.printSchema()\n",
    "\n",
    "print(\"AIO DataFrame\")\n",
    "aio_df.printSchema()\n",
    "\n",
    "print(\"Ask Reddit DataFrame\")\n",
    "ask_reddit_df.printSchema()\n",
    "\n",
    "print(\"AITA Comments DataFrame\")\n",
    "aita_comments_df.printSchema()\n",
    "\n",
    "print(\"AIO Comments DataFrame\")\n",
    "aio_comments_df.printSchema()\n",
    "\n",
    "print(\"Ask Reddit Comments DataFrame\")\n",
    "ask_reddit_comments_df.printSchema()\n"
   ]
  },
  {
   "cell_type": "code",
   "execution_count": null,
   "id": "242db1a2-8896-4acf-93c1-326e394f3013",
   "metadata": {},
   "outputs": [],
   "source": [
    "# # Prepare for parent id matching\n",
    "# from pyspark.sql.functions import regexp_replace\n",
    "\n",
    "# aita_comments_df = aita_comments_df.withColumn(\"parent_id\", regexp_replace(\"parent_id\", \"^[^_]+_\", \"\"))\n",
    "# aio_comments_df = aio_comments_df.withColumn(\"parent_id\", regexp_replace(\"parent_id\", \"^[^_]+_\", \"\"))\n",
    "# ask_reddit_comments_df = ask_reddit_comments_df.withColumn(\"parent_id\", regexp_replace(\"parent_id\", \"^[^_]+_\", \"\"))\n"
   ]
  },
  {
   "cell_type": "code",
   "execution_count": null,
   "id": "46f39c37-1534-4c75-adaf-ff9489c1bd71",
   "metadata": {
    "scrolled": true
   },
   "outputs": [],
   "source": [
    "# from pyspark.sql import functions as F\n",
    "\n",
    "# def filter_comments_to_level_1(submissions_df, comments_df):\n",
    "#     \"\"\"\n",
    "#     Adds a comment_level column to the comments DataFrame and filters to only keep comment_level=1,\n",
    "#     where the parent_id in the comments matches an id in the submissions DataFrame.\n",
    "    \n",
    "#     Parameters:\n",
    "#         submissions_df (DataFrame): The submissions DataFrame (aita, aio, ask_reddit)\n",
    "#         comments_df (DataFrame): The comments DataFrame (aita_comments, aio_comments, ask_reddit_comments)\n",
    "    \n",
    "#     Returns:\n",
    "#         DataFrame: Filtered comments DataFrame with only level 1 comments.\n",
    "#     \"\"\"\n",
    "#     # Create the comment_level column by checking if parent_id matches id in submissions DataFrame\n",
    "#     comments_df_with_level = comments_df.withColumn(\n",
    "#         \"comment_level\",\n",
    "#         F.when(comments_df[\"parent_id\"].isin(submissions_df.select(\"id\").rdd.flatMap(lambda x: x).collect()), 1).otherwise(0)\n",
    "#     )\n",
    "    \n",
    "#     # Filter to keep only comments with comment_level=1\n",
    "#     comments_level_1 = comments_df_with_level.filter(comments_df_with_level[\"comment_level\"] == 1)\n",
    "    \n",
    "#     return comments_level_1\n",
    "\n",
    "# aita_comments_df = filter_comments_to_level_1(aita_df, aita_comments_df)\n",
    "# aio_comments_df = filter_comments_to_level_1(aio_df, aio_comments_df)\n",
    "# ask_reddit_comments_df = filter_comments_to_level_1(ask_reddit_df, ask_reddit_comments_df)\n",
    "\n",
    "\n",
    "# aita_comments_df.show(5)\n",
    "# aio_comments_df.show(5)\n",
    "# ask_reddit_comments_df.show(5)"
   ]
  },
  {
   "cell_type": "code",
   "execution_count": null,
   "id": "27d0d965-e794-45cf-a0a1-70acbd3e49d5",
   "metadata": {},
   "outputs": [],
   "source": [
    "# # Merging\n",
    "\n",
    "# def merge_submission_with_comments(submissions_df, comments_df):\n",
    "#     \"\"\"\n",
    "#     Merges a submission DataFrame with its corresponding comments DataFrame based on the id -> link_id relationship.\n",
    "#     Renames columns in the comments DataFrame by adding a \"_comments\" suffix to avoid conflicts.\n",
    "    \n",
    "#     Parameters:\n",
    "#         submissions_df (DataFrame): The submissions DataFrame (e.g., aita, aio, ask_reddit).\n",
    "#         comments_df (DataFrame): The comments DataFrame (e.g., aita_comments, aio_comments, ask_reddit_comments).\n",
    "    \n",
    "#     Returns:\n",
    "#         DataFrame: Merged DataFrame.\n",
    "#     \"\"\"\n",
    "#     # Rename columns in the comments DataFrame by adding a \"_comments\" suffix\n",
    "#     comments_renamed = comments_df.select([F.col(c).alias(f\"{c}_comments\") for c in comments_df.columns])\n",
    "    \n",
    "#     # Perform the join using submissions_df.id and comments_df.link_id (renamed to link_id_comments)\n",
    "#     merged_df = submissions_df.join(comments_renamed, submissions_df.id == comments_renamed.link_id_comments, \"inner\")\n",
    "    \n",
    "#     return merged_df\n",
    "\n",
    "# # Example usage for each pair of submission and comments DataFrames\n",
    "# aita_merged = merge_submission_with_comments(aita_df, aita_comments_df)\n",
    "# aio_merged = merge_submission_with_comments(aio_df, aio_comments_df)\n",
    "# ask_reddit_merged = merge_submission_with_comments(ask_reddit_df, ask_reddit_comments_df)\n",
    "\n",
    "# # Show the first 5 rows of each merged DataFrame\n",
    "# aita_merged.show(5)\n",
    "# aio_merged.show(5)\n",
    "# ask_reddit_merged.show(5)"
   ]
  },
  {
   "cell_type": "code",
   "execution_count": null,
   "id": "d3f6079e-d2f2-409c-844e-31f1a6b1b318",
   "metadata": {},
   "outputs": [],
   "source": [
    "# # Comments clipping\n",
    "\n",
    "# def filter_comments_by_time_difference(merged_df, hours_threshold=72):\n",
    "#     \"\"\"\n",
    "#     Filters comments from a merged DataFrame to retain only those created within a specified number of hours\n",
    "#     after the submission post was created.\n",
    "    \n",
    "#     Parameters:\n",
    "#         merged_df (DataFrame): The merged DataFrame containing submission and comments data.\n",
    "#         hours_threshold (int): The maximum number of hours allowed between post and comment creation. Default is 72 hours.\n",
    "    \n",
    "#     Returns:\n",
    "#         DataFrame: Filtered DataFrame with only comments created within the specified time after the post.\n",
    "#     \"\"\"\n",
    "#     # Calculate the time difference in hours between post and comment creation\n",
    "#     time_difference_in_hours = (F.col(\"created_utc_comments\") - F.col(\"created_utc\")) / 3600\n",
    "\n",
    "#     # Filter comments based on the hours threshold\n",
    "#     filtered_df = merged_df.filter(time_difference_in_hours <= hours_threshold)\n",
    "    \n",
    "#     return filtered_df\n",
    "\n",
    "# aita_filtered = filter_comments_by_time_difference(aita_merged)\n",
    "# aio_filtered = filter_comments_by_time_difference(aio_merged)\n",
    "# ask_reddit_filtered = filter_comments_by_time_difference(ask_reddit_merged)\n",
    "\n",
    "# aita_filtered.show(5)\n",
    "# aio_filtered.show(5)\n",
    "# ask_reddit_filtered.show(5)"
   ]
  },
  {
   "cell_type": "code",
   "execution_count": null,
   "id": "54f16304-7863-48b8-b785-e44cde9be640",
   "metadata": {},
   "outputs": [],
   "source": [
    "# def get_dataframe_shape(df, name):\n",
    "#     \"\"\"\n",
    "#     Returns the shape of the given DataFrame.\n",
    "    \n",
    "#     Parameters:\n",
    "#         df (DataFrame): The DataFrame to evaluate.\n",
    "#         name (str): The name of the DataFrame.\n",
    "    \n",
    "#     Returns:\n",
    "#         tuple: Shape of the DataFrame (number of rows, number of columns).\n",
    "#     \"\"\"\n",
    "#     num_rows = df.count()\n",
    "#     num_columns = len(df.columns)\n",
    "#     print(f\"{name} Shape: ({num_rows}, {num_columns})\")\n",
    "#     return num_rows, num_columns\n",
    "\n",
    "\n",
    "# aita_shape = get_dataframe_shape(aita_filtered, \"AITA Filtered\")\n",
    "# aio_shape = get_dataframe_shape(aio_filtered, \"AIO Filtered\")\n",
    "# ask_reddit_shape = get_dataframe_shape(ask_reddit_filtered, \"Ask Reddit Filtered\")"
   ]
  },
  {
   "cell_type": "code",
   "execution_count": null,
   "id": "2de4dac7-57c4-40ea-b4d9-0c07e6cf8c48",
   "metadata": {},
   "outputs": [],
   "source": [
    "# aita_filtered.printSchema()"
   ]
  },
  {
   "cell_type": "code",
   "execution_count": null,
   "id": "f4c49a7a-0fa4-49cb-b16b-1d45786aa185",
   "metadata": {},
   "outputs": [],
   "source": [
    "# # Save Files\n",
    "# # set up S3 paths\n",
    "# aita_filtered_path = f\"s3a://{bucket}/project/aita.parquet\"\n",
    "# aio_filtered_path = f\"s3a://{bucket}/project/aio.parquet\"\n",
    "# ask_reddit_filtered_path = f\"s3a://{bucket}/project/ask_reddit.parquet\"\n",
    "\n",
    "\n",
    "# # save the DataFrames as Parquet files to S3\n",
    "# aita_filtered.write.mode('overwrite').parquet(aita_filtered_path)\n",
    "# aio_filtered.write.mode('overwrite').parquet(aio_filtered_path)\n",
    "# ask_reddit_filtered.write.mode('overwrite').parquet(ask_reddit_filtered_path)"
   ]
  },
  {
   "cell_type": "markdown",
   "id": "b12f803c-2dda-4003-b6d8-0997df4febff",
   "metadata": {},
   "source": [
    "<!-- ---------------\n",
    "# Legacy -->"
   ]
  },
  {
   "cell_type": "markdown",
   "id": "aa8e1376-e74b-43f0-8566-7e8a08bc6232",
   "metadata": {
    "jp-MarkdownHeadingCollapsed": true
   },
   "source": [
    "<!-- ### Preprocess ID on comments data for merge\n",
    " - comments data link_suffix connects with submissions id.\n",
    " - if parent_suffix = link_suffix its the 'parent' comment.\n",
    " - if parent_suffix != linke_suffix its a comment within a comment -->"
   ]
  },
  {
   "cell_type": "code",
   "execution_count": null,
   "id": "a6c6aa14-a03b-4ed3-a652-9d86a4b8dde8",
   "metadata": {},
   "outputs": [],
   "source": [
    "from pyspark.sql.functions import split\n",
    "\n",
    "comments_filter = comments \\\n",
    "    .withColumn(\"link_prefix\", split(comments[\"link_id\"], \"_\").getItem(0)) \\\n",
    "    .withColumn(\"link_suffix\", split(comments[\"link_id\"], \"_\").getItem(1)) \\\n",
    "    .withColumn(\"parent_prefix\", split(comments[\"parent_id\"], \"_\").getItem(0)) \\\n",
    "    .withColumn(\"parent_suffix\", split(comments[\"parent_id\"], \"_\").getItem(1))"
   ]
  },
  {
   "cell_type": "code",
   "execution_count": null,
   "id": "f2896071-9924-464f-8513-311acc3c02d8",
   "metadata": {},
   "outputs": [],
   "source": [
    "comments_filter.show()"
   ]
  },
  {
   "cell_type": "code",
   "execution_count": null,
   "id": "5d24dff1-a286-4ef6-aafd-752209a7e1d1",
   "metadata": {},
   "outputs": [],
   "source": [
    "# Check Merging columns\n",
    "result = comments_filter.filter(comments_filter.link_suffix == \"15jq1rq\")\n",
    "result.show()"
   ]
  },
  {
   "cell_type": "markdown",
   "id": "b1549639-4d4a-4de6-9849-d5ea54e4f6b1",
   "metadata": {
    "jp-MarkdownHeadingCollapsed": true
   },
   "source": [
    "<!-- ### Remove rows that have text removed -->"
   ]
  },
  {
   "cell_type": "code",
   "execution_count": null,
   "id": "9706d9d3-23a0-41f9-8e06-6e9c072ebb0a",
   "metadata": {},
   "outputs": [],
   "source": [
    "comm_clean = comments_filter.filter(comments_filter.body != '[removed]')"
   ]
  },
  {
   "cell_type": "code",
   "execution_count": null,
   "id": "574547dd-1c4e-4893-8b37-df60a40cab04",
   "metadata": {},
   "outputs": [],
   "source": [
    "comm_clean.count()"
   ]
  },
  {
   "cell_type": "markdown",
   "id": "88570311-7fd6-45db-8fa5-0eb3a6b0378b",
   "metadata": {
    "jp-MarkdownHeadingCollapsed": true
   },
   "source": [
    "<!-- ### Only select columns that will be used -->"
   ]
  },
  {
   "cell_type": "code",
   "execution_count": null,
   "id": "43e55077-a116-4e03-a8ea-dac8d712cacd",
   "metadata": {},
   "outputs": [],
   "source": [
    "comm_select = comm_clean.select(\"author\",\"body\",\"controversiality\",\"created_utc\",\"id\",\"link_suffix\",\"parent_suffix\",\"subreddit\",\"score\")"
   ]
  },
  {
   "cell_type": "markdown",
   "id": "63e181e9-6538-41f9-a83e-017ad2b6a84a",
   "metadata": {
    "jp-MarkdownHeadingCollapsed": true
   },
   "source": [
    "<!-- ### Change column names so  -->"
   ]
  },
  {
   "cell_type": "code",
   "execution_count": null,
   "id": "59ff5c32-c534-4542-832e-b2228c7a4e5d",
   "metadata": {},
   "outputs": [],
   "source": [
    "columns = comm_select.columns\n",
    "\n",
    "for col_name in columns:\n",
    "    comm_select = comm_select.withColumnRenamed(col_name, f\"com_{col_name}\")"
   ]
  },
  {
   "cell_type": "code",
   "execution_count": null,
   "id": "e579536e-b168-421f-a6a7-974fe51d601a",
   "metadata": {},
   "outputs": [],
   "source": []
  },
  {
   "cell_type": "code",
   "execution_count": null,
   "id": "3bb2ac45-fa14-4469-adf1-5b20699d4681",
   "metadata": {},
   "outputs": [],
   "source": []
  },
  {
   "cell_type": "code",
   "execution_count": null,
   "id": "8839749f-c228-4b7e-aff2-dce05bf89393",
   "metadata": {},
   "outputs": [],
   "source": []
  },
  {
   "cell_type": "markdown",
   "id": "e896a165-ec43-4a48-82b4-2b83fb44e072",
   "metadata": {},
   "source": [
    "<!-- ## Merge Comments and Submissions -->"
   ]
  },
  {
   "cell_type": "code",
   "execution_count": null,
   "id": "d9b0c8bd-bb73-4c88-ae19-45364d4961fd",
   "metadata": {},
   "outputs": [],
   "source": [
    "# merged_df = sub_select.join(comm_select, sub_select.sub_id == comm_select.com_link_suffix, \"left\")\n"
   ]
  },
  {
   "cell_type": "code",
   "execution_count": null,
   "id": "b3f3d417-0f8f-49c6-8e3a-9ccccbb97c6e",
   "metadata": {},
   "outputs": [],
   "source": [
    "# merged_df.show(5)"
   ]
  },
  {
   "cell_type": "markdown",
   "id": "44f36eb0-85f9-447f-9ef6-582aa74caed0",
   "metadata": {},
   "source": [
    "<!-- ### Change UTC to date -->"
   ]
  },
  {
   "cell_type": "code",
   "execution_count": null,
   "id": "b9ee2410-212f-4896-8d4f-279ae732fd32",
   "metadata": {},
   "outputs": [],
   "source": [
    "# from pyspark.sql.functions import from_unixtime, col"
   ]
  },
  {
   "cell_type": "code",
   "execution_count": null,
   "id": "3aa31b35-e289-44b8-89c1-4b6356a8bd17",
   "metadata": {},
   "outputs": [],
   "source": [
    "# merged_df = merged_df.withColumn(\"sub_created_date\", from_unixtime(col(\"sub_created_utc\")).cast(\"date\"))\\\n",
    "#                     .withColumn(\"com_created_date\", from_unixtime(col(\"com_created_utc\")).cast(\"date\"))\n",
    "\n"
   ]
  },
  {
   "cell_type": "code",
   "execution_count": null,
   "id": "d63815ba-514c-4355-9f71-97def37d550b",
   "metadata": {},
   "outputs": [],
   "source": [
    "# merged_df.show(5)"
   ]
  },
  {
   "cell_type": "code",
   "execution_count": null,
   "id": "cf191cc0-0585-4b0f-b578-08980ee9d764",
   "metadata": {},
   "outputs": [],
   "source": []
  }
 ],
 "metadata": {
  "kernelspec": {
   "display_name": "Python 3 (ipykernel)",
   "language": "python",
   "name": "python3"
  },
  "language_info": {
   "codemirror_mode": {
    "name": "ipython",
    "version": 3
   },
   "file_extension": ".py",
   "mimetype": "text/x-python",
   "name": "python",
   "nbconvert_exporter": "python",
   "pygments_lexer": "ipython3",
   "version": "3.11.10"
  }
 },
 "nbformat": 4,
 "nbformat_minor": 5
}
